{
  "nbformat": 4,
  "nbformat_minor": 0,
  "metadata": {
    "colab": {
      "name": "PCA-mfcc.ipynb",
      "provenance": [],
      "mount_file_id": "1_NHDh923Tou33W5B0tf7_Ur-mLSvnINc",
      "authorship_tag": "ABX9TyNkQvmgaRyW9Fg2imSH0ReH",
      "include_colab_link": true
    },
    "kernelspec": {
      "name": "python3",
      "display_name": "Python 3"
    },
    "language_info": {
      "name": "python"
    }
  },
  "cells": [
    {
      "cell_type": "markdown",
      "metadata": {
        "id": "view-in-github",
        "colab_type": "text"
      },
      "source": [
        "<a href=\"https://colab.research.google.com/github/DarshanGowda0/MusicalInstrumentsClassification/blob/main/PCA_mfcc.ipynb\" target=\"_parent\"><img src=\"https://colab.research.google.com/assets/colab-badge.svg\" alt=\"Open In Colab\"/></a>"
      ]
    },
    {
      "cell_type": "markdown",
      "metadata": {
        "id": "7elkadIvE5EI"
      },
      "source": [
        "PCA on all features"
      ]
    },
    {
      "cell_type": "code",
      "metadata": {
        "id": "n4AljSjkDv16"
      },
      "source": [
        "import numpy as np\n",
        "import pandas as pd"
      ],
      "execution_count": null,
      "outputs": []
    },
    {
      "cell_type": "code",
      "metadata": {
        "colab": {
          "base_uri": "https://localhost:8080/"
        },
        "id": "9jQsei0vEMl0",
        "outputId": "f0cb5fd6-7f45-48f4-a1dc-a9242be28986"
      },
      "source": [
        "!pip install --upgrade tables"
      ],
      "execution_count": null,
      "outputs": [
        {
          "output_type": "stream",
          "text": [
            "Collecting tables\n",
            "\u001b[?25l  Downloading https://files.pythonhosted.org/packages/0f/cb/4097be890a773af95343389faa8c283b0d9ff606f144227a548461dcbdd5/tables-3.6.1-cp37-cp37m-manylinux1_x86_64.whl (4.3MB)\n",
            "\u001b[K     |████████████████████████████████| 4.3MB 5.6MB/s \n",
            "\u001b[?25hRequirement already satisfied, skipping upgrade: numexpr>=2.6.2 in /usr/local/lib/python3.7/dist-packages (from tables) (2.7.3)\n",
            "Requirement already satisfied, skipping upgrade: numpy>=1.9.3 in /usr/local/lib/python3.7/dist-packages (from tables) (1.19.5)\n",
            "Installing collected packages: tables\n",
            "  Found existing installation: tables 3.4.4\n",
            "    Uninstalling tables-3.4.4:\n",
            "      Successfully uninstalled tables-3.4.4\n",
            "Successfully installed tables-3.6.1\n"
          ],
          "name": "stdout"
        }
      ]
    },
    {
      "cell_type": "markdown",
      "metadata": {
        "id": "ErDQuxi3E-4Q"
      },
      "source": [
        "## Load data"
      ]
    },
    {
      "cell_type": "code",
      "metadata": {
        "id": "pc_XNxf8D4iz"
      },
      "source": [
        "df = pd.read_hdf('/content/drive/MyDrive/mfcc-16-128-and-other-features.h5', key='s', mode='r')"
      ],
      "execution_count": null,
      "outputs": []
    },
    {
      "cell_type": "code",
      "metadata": {
        "colab": {
          "base_uri": "https://localhost:8080/",
          "height": 204
        },
        "id": "1GBq6NkwD_hl",
        "outputId": "d9804dfe-aaf1-4b7d-9169-898c78f55a37"
      },
      "source": [
        "df.head(5)"
      ],
      "execution_count": null,
      "outputs": [
        {
          "output_type": "execute_result",
          "data": {
            "text/html": [
              "<div>\n",
              "<style scoped>\n",
              "    .dataframe tbody tr th:only-of-type {\n",
              "        vertical-align: middle;\n",
              "    }\n",
              "\n",
              "    .dataframe tbody tr th {\n",
              "        vertical-align: top;\n",
              "    }\n",
              "\n",
              "    .dataframe thead th {\n",
              "        text-align: right;\n",
              "    }\n",
              "</style>\n",
              "<table border=\"1\" class=\"dataframe\">\n",
              "  <thead>\n",
              "    <tr style=\"text-align: right;\">\n",
              "      <th></th>\n",
              "      <th>mfcc</th>\n",
              "      <th>chroma_stft</th>\n",
              "      <th>rms</th>\n",
              "      <th>spec_centroid</th>\n",
              "      <th>spec_bandwidth</th>\n",
              "      <th>rolloff</th>\n",
              "      <th>zero_crossing_rate</th>\n",
              "      <th>label</th>\n",
              "    </tr>\n",
              "  </thead>\n",
              "  <tbody>\n",
              "    <tr>\n",
              "      <th>0</th>\n",
              "      <td>[[-96.6713, 33.970665, -85.99933, 11.775715, -...</td>\n",
              "      <td>0.192537</td>\n",
              "      <td>0.165788</td>\n",
              "      <td>2710.505656</td>\n",
              "      <td>1800.720149</td>\n",
              "      <td>4480.336189</td>\n",
              "      <td>0.186073</td>\n",
              "      <td>pia</td>\n",
              "    </tr>\n",
              "    <tr>\n",
              "      <th>1</th>\n",
              "      <td>[[-363.18875, 214.77817, 42.063976, -17.012432...</td>\n",
              "      <td>0.231391</td>\n",
              "      <td>0.055404</td>\n",
              "      <td>1059.742158</td>\n",
              "      <td>1206.201039</td>\n",
              "      <td>1882.977676</td>\n",
              "      <td>0.077194</td>\n",
              "      <td>sax</td>\n",
              "    </tr>\n",
              "    <tr>\n",
              "      <th>2</th>\n",
              "      <td>[[-206.41943, 136.91168, -40.147747, -10.35337...</td>\n",
              "      <td>0.206500</td>\n",
              "      <td>0.098386</td>\n",
              "      <td>1395.872485</td>\n",
              "      <td>1261.009587</td>\n",
              "      <td>2471.439743</td>\n",
              "      <td>0.089523</td>\n",
              "      <td>cla</td>\n",
              "    </tr>\n",
              "    <tr>\n",
              "      <th>3</th>\n",
              "      <td>[[-187.45334, 141.09206, -38.784027, 11.570753...</td>\n",
              "      <td>0.307935</td>\n",
              "      <td>0.047369</td>\n",
              "      <td>1449.074037</td>\n",
              "      <td>1752.177608</td>\n",
              "      <td>2736.399078</td>\n",
              "      <td>0.075764</td>\n",
              "      <td>vio</td>\n",
              "    </tr>\n",
              "    <tr>\n",
              "      <th>4</th>\n",
              "      <td>[[-242.05544, 127.47795, 13.544904, 9.941675, ...</td>\n",
              "      <td>0.178166</td>\n",
              "      <td>0.068496</td>\n",
              "      <td>1171.824861</td>\n",
              "      <td>1513.914228</td>\n",
              "      <td>1689.683533</td>\n",
              "      <td>0.080482</td>\n",
              "      <td>flu</td>\n",
              "    </tr>\n",
              "  </tbody>\n",
              "</table>\n",
              "</div>"
            ],
            "text/plain": [
              "                                                mfcc  ...  label\n",
              "0  [[-96.6713, 33.970665, -85.99933, 11.775715, -...  ...    pia\n",
              "1  [[-363.18875, 214.77817, 42.063976, -17.012432...  ...    sax\n",
              "2  [[-206.41943, 136.91168, -40.147747, -10.35337...  ...    cla\n",
              "3  [[-187.45334, 141.09206, -38.784027, 11.570753...  ...    vio\n",
              "4  [[-242.05544, 127.47795, 13.544904, 9.941675, ...  ...    flu\n",
              "\n",
              "[5 rows x 8 columns]"
            ]
          },
          "metadata": {
            "tags": []
          },
          "execution_count": 4
        }
      ]
    },
    {
      "cell_type": "markdown",
      "metadata": {
        "id": "fByYgLgRFBEY"
      },
      "source": [
        "# shuffle"
      ]
    },
    {
      "cell_type": "code",
      "metadata": {
        "id": "hKbdrkgyETff"
      },
      "source": [
        "from sklearn.utils import shuffle\n",
        "df = shuffle(df)"
      ],
      "execution_count": null,
      "outputs": []
    },
    {
      "cell_type": "code",
      "metadata": {
        "colab": {
          "base_uri": "https://localhost:8080/"
        },
        "id": "IzR-uLLOE7jI",
        "outputId": "275b4d65-b415-4f86-f1e6-38dcd21f6ace"
      },
      "source": [
        "mfcc,other_features, y = df['mfcc'], df.values[:, 1:-1], df['label']\n",
        "mfcc = np.stack([x for x in mfcc])\n",
        "print(X.shape, other_features.shape)"
      ],
      "execution_count": null,
      "outputs": [
        {
          "output_type": "stream",
          "text": [
            "(6705, 128, 16) (6705, 6)\n"
          ],
          "name": "stdout"
        }
      ]
    },
    {
      "cell_type": "markdown",
      "metadata": {
        "id": "w5XE6kB1FDa4"
      },
      "source": [
        "## reshape mfcc"
      ]
    },
    {
      "cell_type": "code",
      "metadata": {
        "id": "p2JPsyTRGDkl",
        "colab": {
          "base_uri": "https://localhost:8080/"
        },
        "outputId": "a722dadd-6ded-4172-a5aa-c7f8493f65b2"
      },
      "source": [
        "mfcc_flat = X.reshape((mfcc.shape[0], np.product(mfcc.shape[1:])))\n",
        "mfcc_flat.shape"
      ],
      "execution_count": null,
      "outputs": [
        {
          "output_type": "execute_result",
          "data": {
            "text/plain": [
              "(6705, 2048)"
            ]
          },
          "metadata": {
            "tags": []
          },
          "execution_count": 11
        }
      ]
    },
    {
      "cell_type": "markdown",
      "metadata": {
        "id": "Lho-M5r7FFrz"
      },
      "source": [
        "## stack all features"
      ]
    },
    {
      "cell_type": "code",
      "metadata": {
        "colab": {
          "base_uri": "https://localhost:8080/"
        },
        "id": "h1yc6-yQDrQ_",
        "outputId": "7d384a77-17ce-41d6-fbf7-9410f5cc6a94"
      },
      "source": [
        "X = np.hstack((mfcc_flat, other_features))\n",
        "X.shape"
      ],
      "execution_count": null,
      "outputs": [
        {
          "output_type": "execute_result",
          "data": {
            "text/plain": [
              "(6705, 2054)"
            ]
          },
          "metadata": {
            "tags": []
          },
          "execution_count": 12
        }
      ]
    },
    {
      "cell_type": "markdown",
      "metadata": {
        "id": "C8f9Fji3FKPC"
      },
      "source": [
        "## Scale or normalize"
      ]
    },
    {
      "cell_type": "code",
      "metadata": {
        "colab": {
          "base_uri": "https://localhost:8080/"
        },
        "id": "WRbsLPvUGM-D",
        "outputId": "a4b2df11-92bf-4b78-a5ec-c2243eb254a0"
      },
      "source": [
        "from sklearn.preprocessing import StandardScaler\n",
        "X_std = StandardScaler().fit_transform(X)\n",
        "print(X_std.shape)"
      ],
      "execution_count": null,
      "outputs": [
        {
          "output_type": "stream",
          "text": [
            "(6705, 2054)\n"
          ],
          "name": "stdout"
        }
      ]
    },
    {
      "cell_type": "markdown",
      "metadata": {
        "id": "nbKc4Cj_FORw"
      },
      "source": [
        "## PCA on all features"
      ]
    },
    {
      "cell_type": "code",
      "metadata": {
        "id": "A2jv0LgQGrtv"
      },
      "source": [
        "from sklearn import decomposition\n",
        "pca = decomposition.PCA()\n"
      ],
      "execution_count": null,
      "outputs": []
    },
    {
      "cell_type": "code",
      "metadata": {
        "id": "MLzneW5AG-qY"
      },
      "source": [
        "pca.n_components = X_std.shape[1]\n",
        "pca_data = pca.fit_transform(X_std)\n"
      ],
      "execution_count": null,
      "outputs": []
    },
    {
      "cell_type": "code",
      "metadata": {
        "id": "KvxoeM67KPVm"
      },
      "source": [
        "percentage_var_explained = pca.explained_variance_ / np.sum(pca.explained_variance_);\n",
        "cum_var_explained = np.cumsum(percentage_var_explained)"
      ],
      "execution_count": null,
      "outputs": []
    },
    {
      "cell_type": "code",
      "metadata": {
        "colab": {
          "base_uri": "https://localhost:8080/",
          "height": 606
        },
        "id": "siToil84KVxO",
        "outputId": "4acd4794-4763-421e-c687-d1cf1cd49acb"
      },
      "source": [
        "import matplotlib.pyplot as plt\n",
        "\n",
        "plt.figure(1, figsize=(16, 10))\n",
        "plt.clf()\n",
        "plt.plot(cum_var_explained, linewidth=2)\n",
        "plt.axis('tight')\n",
        "plt.grid()\n",
        "plt.xlabel('n_components')\n",
        "plt.ylabel('Cumulative_explained_variance')\n",
        "plt.show()"
      ],
      "execution_count": null,
      "outputs": [
        {
          "output_type": "display_data",
          "data": {
            "image/png": "[encoded data removed]",
            "text/plain": [
              "<Figure size 1152x720 with 1 Axes>"
            ]
          },
          "metadata": {
            "tags": [],
            "needs_background": "light"
          }
        }
      ]
    },
    {
      "cell_type": "markdown",
      "metadata": {
        "id": "nQv3eYgZKjfy"
      },
      "source": [
        "90% of the variance is explained in the first 250 prinicipal components of 2045, which should be enough and our data is reduced to about 10%"
      ]
    },
    {
      "cell_type": "markdown",
      "metadata": {
        "id": "Y-jvLq-NFUMt"
      },
      "source": [
        "## PCA and transform features to top 250 principle components"
      ]
    },
    {
      "cell_type": "code",
      "metadata": {
        "id": "t5PwOPPxKb7a"
      },
      "source": [
        "pca = decomposition.PCA()\n",
        "pca.n_components = 250\n",
        "pca_data = pca.fit_transform(X_std)"
      ],
      "execution_count": null,
      "outputs": []
    },
    {
      "cell_type": "code",
      "metadata": {
        "colab": {
          "base_uri": "https://localhost:8080/"
        },
        "id": "O872Um5VLAKR",
        "outputId": "0868de8d-5b06-4772-ab6a-de723d8b6e49"
      },
      "source": [
        "pca_data.shape"
      ],
      "execution_count": null,
      "outputs": [
        {
          "output_type": "execute_result",
          "data": {
            "text/plain": [
              "(6705, 250)"
            ]
          },
          "metadata": {
            "tags": []
          },
          "execution_count": 20
        }
      ]
    },
    {
      "cell_type": "code",
      "metadata": {
        "colab": {
          "base_uri": "https://localhost:8080/"
        },
        "id": "x3qs3CPFLBzC",
        "outputId": "d5a24d32-1073-48a3-b811-707bce6da2f3"
      },
      "source": [
        "reduced_df = pd.DataFrame(zip(pca_data, y), columns=['pca_features', 'label'])\n",
        "reduced_df.to_hdf('/content/drive/MyDrive/mfcc-and-other-pca-reduced.h5', key='s', mode='w')"
      ],
      "execution_count": null,
      "outputs": [
        {
          "output_type": "stream",
          "text": [
            "/usr/local/lib/python3.7/dist-packages/pandas/core/generic.py:2449: PerformanceWarning: \n",
            "your performance may suffer as PyTables will pickle object types that it cannot\n",
            "map directly to c-types [inferred_type->mixed,key->block0_values] [items->Index(['pca_features', 'label'], dtype='object')]\n",
            "\n",
            "  encoding=encoding,\n"
          ],
          "name": "stderr"
        }
      ]
    },
    {
      "cell_type": "code",
      "metadata": {
        "id": "DaYgE869LY6h"
      },
      "source": [
        ""
      ],
      "execution_count": null,
      "outputs": []
    }
  ]
}