{
  "nbformat": 4,
  "nbformat_minor": 0,
  "metadata": {
    "colab": {
      "name": "svm.ipynb",
      "provenance": [],
      "collapsed_sections": [],
      "toc_visible": true,
      "machine_shape": "hm",
      "include_colab_link": true
    },
    "kernelspec": {
      "name": "python3",
      "display_name": "Python 3"
    }
  },
  "cells": [
    {
      "cell_type": "markdown",
      "metadata": {
        "id": "view-in-github",
        "colab_type": "text"
      },
      "source": [
        "<a href=\"https://colab.research.google.com/github/DarshanGowda0/MusicalInstrumentsClassification/blob/main/svm.ipynb\" target=\"_parent\"><img src=\"https://colab.research.google.com/assets/colab-badge.svg\" alt=\"Open In Colab\"/></a>"
      ]
    },
    {
      "cell_type": "markdown",
      "metadata": {
        "id": "8dbcwDnOHvhT"
      },
      "source": [
        "# Configurations"
      ]
    },
    {
      "cell_type": "code",
      "metadata": {
        "id": "6ZFYW3ME65j0"
      },
      "source": [
        "INSTRUMENTS = ['flu', 'pia', 'tru', 'gac', 'voi', 'org']\n",
        "\n",
        "DATASET_CHOSEN = 'mean'\n",
        "\n",
        "if DATASET_CHOSEN == 'mean':\n",
        "  DATA_PATH = '/content/drive/MyDrive/CS6140 ML Group Project/Dataset/Xiaoyu/6-instruments-20-mfcc-26-features-mean.csv'\n",
        "elif DATASET_CHOSEN == 'expanded_mfcc':\n",
        "  DATA_PATH = '/content/drive/MyDrive/CS6140 ML Group Project/Dataset/Final Day datasets/mfcc-16-128-and-other-features.h5'\n",
        "elif DATASET_CHOSEN == 'autoencoder':\n",
        "  DATA_PATH = '/content/drive/MyDrive/CS6140 ML Group Project/Dataset/Final Day datasets/Copy of mfcc-autoencoder-simple-reduced.h5'"
      ],
      "execution_count": null,
      "outputs": []
    },
    {
      "cell_type": "markdown",
      "metadata": {
        "id": "XKkl8G00k_4W"
      },
      "source": [
        "# Preparations"
      ]
    },
    {
      "cell_type": "markdown",
      "metadata": {
        "id": "cBEgWd7OlNu3"
      },
      "source": [
        "## Mount Google Drive"
      ]
    },
    {
      "cell_type": "code",
      "metadata": {
        "colab": {
          "base_uri": "https://localhost:8080/"
        },
        "id": "6E8veIzGlPa9",
        "outputId": "db531be3-a47a-4583-9580-a145eadd7480"
      },
      "source": [
        "from google.colab import drive\n",
        "drive.mount('/content/drive')"
      ],
      "execution_count": null,
      "outputs": [
        {
          "output_type": "stream",
          "text": [
            "Drive already mounted at /content/drive; to attempt to forcibly remount, call drive.mount(\"/content/drive\", force_remount=True).\n"
          ],
          "name": "stdout"
        }
      ]
    },
    {
      "cell_type": "markdown",
      "metadata": {
        "id": "cNF9h1IblF0z"
      },
      "source": [
        "## Install and import packages"
      ]
    },
    {
      "cell_type": "code",
      "metadata": {
        "id": "FOEto4rkkTBC"
      },
      "source": [
        "import os\n",
        "import itertools\n",
        "import pandas as pd\n",
        "import numpy as np\n",
        "import statistics\n",
        "import seaborn as sns #visualization library, must be imported before all other plotting libraries\n",
        "import matplotlib.pyplot as plt\n",
        "from collections import Counter\n",
        "from sklearn.metrics import confusion_matrix, f1_score, classification_report\n",
        "from sklearn.metrics import recall_score, precision_score, accuracy_score\n",
        "from sklearn.model_selection import cross_val_score, train_test_split\n",
        "from sklearn.model_selection import RandomizedSearchCV\n",
        "from sklearn.preprocessing import LabelEncoder, StandardScaler\n",
        "from sklearn.svm import SVC, LinearSVC\n",
        "from sklearn.utils import shuffle\n",
        "from sklearn.utils.fixes import loguniform"
      ],
      "execution_count": null,
      "outputs": []
    },
    {
      "cell_type": "code",
      "metadata": {
        "colab": {
          "base_uri": "https://localhost:8080/"
        },
        "id": "jt7Wpdpi-2Xt",
        "outputId": "f6be38a7-ea61-4f2b-ed38-364ced162da9"
      },
      "source": [
        "# https://stackoverflow.com/a/54294640\n",
        "!pip install --upgrade tables"
      ],
      "execution_count": null,
      "outputs": [
        {
          "output_type": "stream",
          "text": [
            "Requirement already up-to-date: tables in /usr/local/lib/python3.7/dist-packages (3.6.1)\n",
            "Requirement already satisfied, skipping upgrade: numpy>=1.9.3 in /usr/local/lib/python3.7/dist-packages (from tables) (1.19.5)\n",
            "Requirement already satisfied, skipping upgrade: numexpr>=2.6.2 in /usr/local/lib/python3.7/dist-packages (from tables) (2.7.3)\n"
          ],
          "name": "stdout"
        }
      ]
    },
    {
      "cell_type": "markdown",
      "metadata": {
        "id": "MX6Td1x27KYX"
      },
      "source": [
        "## Utility functions"
      ]
    },
    {
      "cell_type": "code",
      "metadata": {
        "id": "L6kRZRtn7KF_"
      },
      "source": [
        "def plot_confusion_matrix(cnf_matrix):\n",
        "  df_cm = pd.DataFrame(cnf_matrix, index=INSTRUMENTS, columns=INSTRUMENTS)\n",
        "  plt.figure(figsize = (10,7))\n",
        "  sns.set(font_scale=1.0) #for label size\n",
        "  sns.heatmap(df_cm, annot=True, annot_kws={'size': 18}, fmt='g') # font size\n",
        "  plt.show()"
      ],
      "execution_count": null,
      "outputs": []
    },
    {
      "cell_type": "code",
      "metadata": {
        "id": "5i5M07Jf88FC"
      },
      "source": [
        "def display_score(y_test, y_pred):\n",
        "  print('Recall: ', recall_score(y_test, y_pred, average=None))\n",
        "  print('Precision: ', precision_score(y_test, y_pred, average=None))\n",
        "  print('F1-Score: ', f1_score(y_test, y_pred, average=None))\n",
        "  print('Accuracy: %.2f ' % accuracy_score(y_test, y_pred, normalize=True))\n",
        "  print('Number of samples: ', y_test.shape[0])"
      ],
      "execution_count": null,
      "outputs": []
    },
    {
      "cell_type": "code",
      "metadata": {
        "id": "FCsC1zpA9-Yd"
      },
      "source": [
        "def cross_validation(clf, X, y):\n",
        "  scores = cross_val_score(clf, X, y, cv=10, scoring='accuracy')\n",
        "  print('Cross validation score: ', statistics.mean(scores))"
      ],
      "execution_count": null,
      "outputs": []
    },
    {
      "cell_type": "markdown",
      "metadata": {
        "id": "mQzrl6DymMSl"
      },
      "source": [
        "## Load data"
      ]
    },
    {
      "cell_type": "code",
      "metadata": {
        "id": "LGUOP9dl-NKJ"
      },
      "source": [
        "if DATASET_CHOSEN == 'mean':\n",
        "  df = pd.read_csv(DATA_PATH)\n",
        "elif DATASET_CHOSEN == 'expanded_mfcc':\n",
        "  df = pd.read_hdf(DATA_PATH, key='s')\n",
        "elif DATASET_CHOSEN == 'autoencoder':\n",
        "  df = pd.read_hdf(DATA_PATH, key='s')"
      ],
      "execution_count": null,
      "outputs": []
    },
    {
      "cell_type": "code",
      "metadata": {
        "id": "qvOBcIYz7fiu",
        "colab": {
          "base_uri": "https://localhost:8080/",
          "height": 232
        },
        "outputId": "fcc9e50c-5694-41e6-8b5d-a8fb01c9becb"
      },
      "source": [
        "df = df.loc[df['label'].isin(INSTRUMENTS)]\n",
        "df = shuffle(df)\n",
        "df.head()"
      ],
      "execution_count": null,
      "outputs": [
        {
          "output_type": "execute_result",
          "data": {
            "text/html": [
              "<div>\n",
              "<style scoped>\n",
              "    .dataframe tbody tr th:only-of-type {\n",
              "        vertical-align: middle;\n",
              "    }\n",
              "\n",
              "    .dataframe tbody tr th {\n",
              "        vertical-align: top;\n",
              "    }\n",
              "\n",
              "    .dataframe thead th {\n",
              "        text-align: right;\n",
              "    }\n",
              "</style>\n",
              "<table border=\"1\" class=\"dataframe\">\n",
              "  <thead>\n",
              "    <tr style=\"text-align: right;\">\n",
              "      <th></th>\n",
              "      <th>Unnamed: 0</th>\n",
              "      <th>chroma_stft_mean</th>\n",
              "      <th>rms_mean</th>\n",
              "      <th>spectral_centroid_mean</th>\n",
              "      <th>spectral_bandwidth_mean</th>\n",
              "      <th>rolloff_mean</th>\n",
              "      <th>zero_crossing_rate_mean</th>\n",
              "      <th>mfcc1_mean</th>\n",
              "      <th>mfcc2_mean</th>\n",
              "      <th>mfcc3_mean</th>\n",
              "      <th>mfcc4_mean</th>\n",
              "      <th>mfcc5_mean</th>\n",
              "      <th>mfcc6_mean</th>\n",
              "      <th>mfcc7_mean</th>\n",
              "      <th>mfcc8_mean</th>\n",
              "      <th>mfcc9_mean</th>\n",
              "      <th>mfcc10_mean</th>\n",
              "      <th>mfcc11_mean</th>\n",
              "      <th>mfcc12_mean</th>\n",
              "      <th>mfcc13_mean</th>\n",
              "      <th>mfcc14_mean</th>\n",
              "      <th>mfcc15_mean</th>\n",
              "      <th>mfcc16_mean</th>\n",
              "      <th>mfcc17_mean</th>\n",
              "      <th>mfcc18_mean</th>\n",
              "      <th>mfcc19_mean</th>\n",
              "      <th>mfcc20_mean</th>\n",
              "      <th>label</th>\n",
              "    </tr>\n",
              "  </thead>\n",
              "  <tbody>\n",
              "    <tr>\n",
              "      <th>334</th>\n",
              "      <td>334</td>\n",
              "      <td>0.322268</td>\n",
              "      <td>0.025117</td>\n",
              "      <td>735.979646</td>\n",
              "      <td>974.956826</td>\n",
              "      <td>1244.039401</td>\n",
              "      <td>0.039062</td>\n",
              "      <td>-389.395081</td>\n",
              "      <td>210.049286</td>\n",
              "      <td>-15.830007</td>\n",
              "      <td>28.425850</td>\n",
              "      <td>8.662963</td>\n",
              "      <td>-9.919877</td>\n",
              "      <td>-13.232139</td>\n",
              "      <td>5.107346</td>\n",
              "      <td>-10.676975</td>\n",
              "      <td>-8.834652</td>\n",
              "      <td>-1.889245</td>\n",
              "      <td>-10.734410</td>\n",
              "      <td>-16.543196</td>\n",
              "      <td>-11.608549</td>\n",
              "      <td>-5.270324</td>\n",
              "      <td>-1.224172</td>\n",
              "      <td>-7.875258</td>\n",
              "      <td>-6.441239</td>\n",
              "      <td>-9.334398</td>\n",
              "      <td>-6.548956</td>\n",
              "      <td>gac</td>\n",
              "    </tr>\n",
              "    <tr>\n",
              "      <th>3762</th>\n",
              "      <td>3762</td>\n",
              "      <td>0.251637</td>\n",
              "      <td>0.071346</td>\n",
              "      <td>2867.629437</td>\n",
              "      <td>1962.938804</td>\n",
              "      <td>4537.791279</td>\n",
              "      <td>0.200428</td>\n",
              "      <td>-241.932037</td>\n",
              "      <td>34.706116</td>\n",
              "      <td>-59.357269</td>\n",
              "      <td>14.840032</td>\n",
              "      <td>-44.193321</td>\n",
              "      <td>-4.039587</td>\n",
              "      <td>17.545931</td>\n",
              "      <td>-26.755285</td>\n",
              "      <td>2.322680</td>\n",
              "      <td>16.005375</td>\n",
              "      <td>-20.640877</td>\n",
              "      <td>0.692968</td>\n",
              "      <td>-7.267929</td>\n",
              "      <td>0.855768</td>\n",
              "      <td>-1.347395</td>\n",
              "      <td>-11.183808</td>\n",
              "      <td>-7.221368</td>\n",
              "      <td>0.399782</td>\n",
              "      <td>-4.159951</td>\n",
              "      <td>15.742435</td>\n",
              "      <td>voi</td>\n",
              "    </tr>\n",
              "    <tr>\n",
              "      <th>2132</th>\n",
              "      <td>2132</td>\n",
              "      <td>0.505965</td>\n",
              "      <td>0.155043</td>\n",
              "      <td>2091.323272</td>\n",
              "      <td>2596.246118</td>\n",
              "      <td>4943.443697</td>\n",
              "      <td>0.062816</td>\n",
              "      <td>-95.850815</td>\n",
              "      <td>92.662254</td>\n",
              "      <td>4.342888</td>\n",
              "      <td>30.605413</td>\n",
              "      <td>14.906110</td>\n",
              "      <td>19.721544</td>\n",
              "      <td>8.774365</td>\n",
              "      <td>10.183359</td>\n",
              "      <td>3.799057</td>\n",
              "      <td>7.132329</td>\n",
              "      <td>-3.325059</td>\n",
              "      <td>0.206675</td>\n",
              "      <td>-0.116133</td>\n",
              "      <td>8.447940</td>\n",
              "      <td>-2.605480</td>\n",
              "      <td>-1.020215</td>\n",
              "      <td>-3.885080</td>\n",
              "      <td>3.711197</td>\n",
              "      <td>-4.448688</td>\n",
              "      <td>-0.143625</td>\n",
              "      <td>gac</td>\n",
              "    </tr>\n",
              "    <tr>\n",
              "      <th>3639</th>\n",
              "      <td>3639</td>\n",
              "      <td>0.206823</td>\n",
              "      <td>0.010146</td>\n",
              "      <td>733.519227</td>\n",
              "      <td>908.852996</td>\n",
              "      <td>1116.330942</td>\n",
              "      <td>0.062842</td>\n",
              "      <td>-499.489960</td>\n",
              "      <td>227.252487</td>\n",
              "      <td>2.671182</td>\n",
              "      <td>-12.962892</td>\n",
              "      <td>-4.383070</td>\n",
              "      <td>9.372667</td>\n",
              "      <td>22.878290</td>\n",
              "      <td>11.861219</td>\n",
              "      <td>0.842757</td>\n",
              "      <td>-11.840935</td>\n",
              "      <td>-19.670542</td>\n",
              "      <td>0.720194</td>\n",
              "      <td>13.149297</td>\n",
              "      <td>2.023502</td>\n",
              "      <td>-12.249653</td>\n",
              "      <td>-6.666698</td>\n",
              "      <td>-8.615514</td>\n",
              "      <td>-18.073517</td>\n",
              "      <td>-2.359622</td>\n",
              "      <td>17.853062</td>\n",
              "      <td>pia</td>\n",
              "    </tr>\n",
              "    <tr>\n",
              "      <th>775</th>\n",
              "      <td>775</td>\n",
              "      <td>0.370517</td>\n",
              "      <td>0.158712</td>\n",
              "      <td>2540.169075</td>\n",
              "      <td>2690.740531</td>\n",
              "      <td>5584.553410</td>\n",
              "      <td>0.111888</td>\n",
              "      <td>-58.628792</td>\n",
              "      <td>83.722145</td>\n",
              "      <td>5.243917</td>\n",
              "      <td>21.501074</td>\n",
              "      <td>-6.251448</td>\n",
              "      <td>10.365317</td>\n",
              "      <td>1.274225</td>\n",
              "      <td>1.850703</td>\n",
              "      <td>2.657917</td>\n",
              "      <td>8.662865</td>\n",
              "      <td>-2.671222</td>\n",
              "      <td>3.817735</td>\n",
              "      <td>-10.381803</td>\n",
              "      <td>1.404550</td>\n",
              "      <td>-5.613657</td>\n",
              "      <td>-9.318715</td>\n",
              "      <td>-11.361321</td>\n",
              "      <td>8.037890</td>\n",
              "      <td>-9.862604</td>\n",
              "      <td>0.918842</td>\n",
              "      <td>voi</td>\n",
              "    </tr>\n",
              "  </tbody>\n",
              "</table>\n",
              "</div>"
            ],
            "text/plain": [
              "      Unnamed: 0  chroma_stft_mean  rms_mean  ...  mfcc19_mean  mfcc20_mean  label\n",
              "334          334          0.322268  0.025117  ...    -9.334398    -6.548956    gac\n",
              "3762        3762          0.251637  0.071346  ...    -4.159951    15.742435    voi\n",
              "2132        2132          0.505965  0.155043  ...    -4.448688    -0.143625    gac\n",
              "3639        3639          0.206823  0.010146  ...    -2.359622    17.853062    pia\n",
              "775          775          0.370517  0.158712  ...    -9.862604     0.918842    voi\n",
              "\n",
              "[5 rows x 28 columns]"
            ]
          },
          "metadata": {
            "tags": []
          },
          "execution_count": 105
        }
      ]
    },
    {
      "cell_type": "code",
      "metadata": {
        "id": "JrCNEz0uJfv3"
      },
      "source": [
        "if DATASET_CHOSEN == 'expanded_mfcc':\n",
        "  mfcc = df.loc[:, 'mfcc'].to_numpy()\n",
        "  mfcc = np.array([np.array(x) for x in mfcc])\n",
        "  mfcc = mfcc.reshape(mfcc.shape[0], mfcc[0].shape[0] * mfcc[0].shape[1])\n",
        "  mfcc.shape"
      ],
      "execution_count": null,
      "outputs": []
    },
    {
      "cell_type": "code",
      "metadata": {
        "colab": {
          "base_uri": "https://localhost:8080/"
        },
        "id": "AiETktljK6iS",
        "outputId": "fca29a3c-2b72-49cc-e8e0-a0675cbe6861"
      },
      "source": [
        "if DATASET_CHOSEN == 'mean':\n",
        "  X = df.drop(['label', df.columns[0]], axis=1)\n",
        "elif DATASET_CHOSEN == 'expanded_mfcc':\n",
        "  X = df.drop(['mfcc', 'label'], axis=1).to_numpy()\n",
        "  X = np.concatenate((mfcc, X), axis=1)\n",
        "elif DATASET_CHOSEN == 'autoencoder':\n",
        "  X = df['encoder_features'].to_numpy()\n",
        "  X = np.array([x.reshape((X[0].shape[0],)) for x in X])\n",
        "\n",
        "X.shape"
      ],
      "execution_count": null,
      "outputs": [
        {
          "output_type": "execute_result",
          "data": {
            "text/plain": [
              "(3846, 26)"
            ]
          },
          "metadata": {
            "tags": []
          },
          "execution_count": 107
        }
      ]
    },
    {
      "cell_type": "code",
      "metadata": {
        "id": "Vc1fhqwlo0BP",
        "colab": {
          "base_uri": "https://localhost:8080/"
        },
        "outputId": "09a059d1-cb21-4d4b-d706-2e229800fa0e"
      },
      "source": [
        "y = df.loc[:, 'label'].to_numpy()\n",
        "y.shape"
      ],
      "execution_count": null,
      "outputs": [
        {
          "output_type": "execute_result",
          "data": {
            "text/plain": [
              "(3846,)"
            ]
          },
          "metadata": {
            "tags": []
          },
          "execution_count": 108
        }
      ]
    },
    {
      "cell_type": "markdown",
      "metadata": {
        "id": "4Fdgnj3lDZf5"
      },
      "source": [
        "## Data exploration"
      ]
    },
    {
      "cell_type": "code",
      "metadata": {
        "colab": {
          "base_uri": "https://localhost:8080/",
          "height": 398
        },
        "id": "g28mhXOZsq6S",
        "outputId": "0c0fa5c6-9427-4b25-9f0e-406534be31d5"
      },
      "source": [
        "sns.displot(data=y).set(title='Distribution of instruments')"
      ],
      "execution_count": null,
      "outputs": [
        {
          "output_type": "execute_result",
          "data": {
            "text/plain": [
              "<seaborn.axisgrid.FacetGrid at 0x7fb271e2dc50>"
            ]
          },
          "metadata": {
            "tags": []
          },
          "execution_count": 109
        },
        {
          "output_type": "display_data",
          "data": {
            "image/png": "[encoded data removed]",
            "text/plain": [
              "<Figure size 360x360 with 1 Axes>"
            ]
          },
          "metadata": {
            "tags": []
          }
        }
      ]
    },
    {
      "cell_type": "markdown",
      "metadata": {
        "id": "-I6BBCmTLVK4"
      },
      "source": [
        "## Preprocess data "
      ]
    },
    {
      "cell_type": "markdown",
      "metadata": {
        "id": "urbFw4jyWtKp"
      },
      "source": [
        "### Rescale data\n",
        "\n",
        "TODO: Explain why we need to rescale "
      ]
    },
    {
      "cell_type": "code",
      "metadata": {
        "id": "J7iEntuEJ74p",
        "colab": {
          "base_uri": "https://localhost:8080/"
        },
        "outputId": "983ec367-a2c5-434e-fadc-fae9c0759759"
      },
      "source": [
        "scaler = StandardScaler()\n",
        "X = scaler.fit_transform(X)\n",
        "X[0]"
      ],
      "execution_count": null,
      "outputs": [
        {
          "output_type": "execute_result",
          "data": {
            "text/plain": [
              "array([ 0.2491377 , -1.18852224, -1.48139169, -1.58036873, -1.41027222,\n",
              "       -1.12753217, -1.49040555,  2.04657261, -0.31117837,  0.20995002,\n",
              "        0.51873463, -1.60985365, -1.19437204,  0.3091115 , -0.66622193,\n",
              "       -1.22139468,  0.45028329, -1.54216719, -1.72483851, -1.70312741,\n",
              "       -0.08305546, -0.15538138, -0.55848712, -0.97631684, -0.81796225,\n",
              "       -0.87238601])"
            ]
          },
          "metadata": {
            "tags": []
          },
          "execution_count": 110
        }
      ]
    },
    {
      "cell_type": "markdown",
      "metadata": {
        "id": "rgOBENjvnxnr"
      },
      "source": [
        "### Encode labels\n",
        "\n",
        "Labels are 3-character codes for instruments, e.g., 'pia' representing piano. We'll need encode these codes to numbers in order to train and test on them."
      ]
    },
    {
      "cell_type": "code",
      "metadata": {
        "id": "meOIxBAwlArp",
        "colab": {
          "base_uri": "https://localhost:8080/"
        },
        "outputId": "42054368-20d7-4671-d920-74d0d774f527"
      },
      "source": [
        "le = LabelEncoder()\n",
        "y = le.fit_transform(y)\n",
        "y[0]"
      ],
      "execution_count": null,
      "outputs": [
        {
          "output_type": "execute_result",
          "data": {
            "text/plain": [
              "1"
            ]
          },
          "metadata": {
            "tags": []
          },
          "execution_count": 111
        }
      ]
    },
    {
      "cell_type": "markdown",
      "metadata": {
        "id": "qEHUPIlp6XK4"
      },
      "source": [
        "## Split training and testing sets"
      ]
    },
    {
      "cell_type": "code",
      "metadata": {
        "id": "f8kTMZk76XK5",
        "colab": {
          "base_uri": "https://localhost:8080/"
        },
        "outputId": "9f203176-4dda-43dd-e648-b98418b49ab3"
      },
      "source": [
        "X_train, X_test, y_train, y_test = train_test_split(X, y, test_size=0.15)\n",
        "\n",
        "print(f'Size of training set: {len(X_train)}')\n",
        "print(f'Size of testing set: {len(X_test)}')"
      ],
      "execution_count": null,
      "outputs": [
        {
          "output_type": "stream",
          "text": [
            "Size of training set: 3269\n",
            "Size of testing set: 577\n"
          ],
          "name": "stdout"
        }
      ]
    },
    {
      "cell_type": "markdown",
      "metadata": {
        "id": "n61JcYwX6XKv"
      },
      "source": [
        "# SVM"
      ]
    },
    {
      "cell_type": "markdown",
      "metadata": {
        "id": "M2L7ncYsLvrQ"
      },
      "source": [
        "## RBF\n",
        "\n",
        "TODO: Explain RBF"
      ]
    },
    {
      "cell_type": "markdown",
      "metadata": {
        "id": "6hpMVMmvXwIi"
      },
      "source": [
        "#### Training with hyperparameters tuning\n",
        "\n",
        "TODO:\n",
        "- Randomized parameter optimization: https://scikit-learn.org/stable/modules/grid_search.html#randomized-parameter-optimization\n",
        "\n",
        "- Explain C and gamma (models with very large gamma values tend to overfit)\n",
        "\n",
        "- Explain why using accuracy as the scoring metric (because classes are equally important) https://machinelearningmastery.com/framework-for-imbalanced-classification-projects/"
      ]
    },
    {
      "cell_type": "code",
      "metadata": {
        "colab": {
          "base_uri": "https://localhost:8080/"
        },
        "id": "U5P3J_h9d83v",
        "outputId": "08515f1a-1480-4aa7-cd96-6960d58c31ee"
      },
      "source": [
        "svc_estimator = SVC()\n",
        "\n",
        "param_distributions = { \n",
        "  'C': loguniform(1e-1, 1e3),\n",
        "  'gamma': loguniform(1e-4, 1e0), \n",
        "  'kernel': ['rbf'],\n",
        "}\n",
        "\n",
        "svc_cv = RandomizedSearchCV(svc_estimator, param_distributions, n_iter=10)\n",
        "svc_cv.fit(X_train, y_train)\n",
        "svc_cv.best_params_"
      ],
      "execution_count": null,
      "outputs": [
        {
          "output_type": "execute_result",
          "data": {
            "text/plain": [
              "{'C': 9.360214694841458, 'gamma': 0.10397932071645144, 'kernel': 'rbf'}"
            ]
          },
          "metadata": {
            "tags": []
          },
          "execution_count": 113
        }
      ]
    },
    {
      "cell_type": "code",
      "metadata": {
        "colab": {
          "base_uri": "https://localhost:8080/",
          "height": 302
        },
        "id": "kjuYdDH6GSXS",
        "outputId": "e0ee69db-614d-41e5-8642-81d27de65281"
      },
      "source": [
        "svc_cv_results_df = pd.DataFrame({\n",
        "  'param_C': svc_cv.cv_results_['param_C'],\n",
        "  'param_gamma': svc_cv.cv_results_['param_gamma'],\n",
        "  'mean_test_score': svc_cv.cv_results_['mean_test_score'],\n",
        "})\n",
        "svc_cv_results_df = np.round(svc_cv_results_df.astype(float), 2)\n",
        "svc_cv_results_df = svc_cv_results_df.pivot('param_C', 'param_gamma', 'mean_test_score')\n",
        "sns.heatmap(svc_cv_results_df)"
      ],
      "execution_count": null,
      "outputs": [
        {
          "output_type": "execute_result",
          "data": {
            "text/plain": [
              "<matplotlib.axes._subplots.AxesSubplot at 0x7fb27276ac90>"
            ]
          },
          "metadata": {
            "tags": []
          },
          "execution_count": 114
        },
        {
          "output_type": "display_data",
          "data": {
            "image/png": "[encoded data removed]",
            "text/plain": [
              "<Figure size 432x288 with 2 Axes>"
            ]
          },
          "metadata": {
            "tags": []
          }
        }
      ]
    },
    {
      "cell_type": "markdown",
      "metadata": {
        "id": "lQHDJxxk6XK7"
      },
      "source": [
        "### Evaluation"
      ]
    },
    {
      "cell_type": "code",
      "metadata": {
        "id": "r71aQJzi6XK7",
        "colab": {
          "base_uri": "https://localhost:8080/"
        },
        "outputId": "ca26e53b-4e60-478b-8102-69eddba5ca62"
      },
      "source": [
        "y_pred = svc_cv.predict(X_test)\n",
        "display_score(y_test, y_pred)"
      ],
      "execution_count": null,
      "outputs": [
        {
          "output_type": "stream",
          "text": [
            "Recall:  [0.7        0.83157895 0.82828283 0.87       0.72727273 0.83064516]\n",
            "Precision:  [0.62686567 0.88764045 0.74545455 0.77678571 0.8372093  0.91150442]\n",
            "F1-Score:  [0.66141732 0.85869565 0.784689   0.82075472 0.77837838 0.86919831]\n",
            "Accuracy: 0.81 \n",
            "Number of samples:  577\n"
          ],
          "name": "stdout"
        }
      ]
    },
    {
      "cell_type": "markdown",
      "metadata": {
        "id": "va8L_yLZ8zBk"
      },
      "source": [
        "#### Confusion matrix"
      ]
    },
    {
      "cell_type": "code",
      "metadata": {
        "colab": {
          "base_uri": "https://localhost:8080/",
          "height": 431
        },
        "id": "TVFwx18dxd54",
        "outputId": "023b7090-e9ab-4be4-8f2c-0991f58788d6"
      },
      "source": [
        "cnf_matrix = confusion_matrix(y_test, y_pred)\n",
        "plot_confusion_matrix(cnf_matrix)  "
      ],
      "execution_count": null,
      "outputs": [
        {
          "output_type": "display_data",
          "data": {
            "image/png": "[encoded data removed]",
            "text/plain": [
              "<Figure size 720x504 with 2 Axes>"
            ]
          },
          "metadata": {
            "tags": []
          }
        }
      ]
    },
    {
      "cell_type": "markdown",
      "metadata": {
        "id": "y6hWGMpscmb3"
      },
      "source": [
        "## Polynomial"
      ]
    },
    {
      "cell_type": "markdown",
      "metadata": {
        "id": "2eLQZqEscmb8"
      },
      "source": [
        "#### Training with hyperparameters tuning\n",
        "\n",
        "TODO:\n",
        "- Randomized parameter optimization: https://scikit-learn.org/stable/modules/grid_search.html#randomized-parameter-optimization\n",
        "\n",
        "- Explain C and gamma (models with very large gamma values tend to overfit)\n",
        "\n",
        "- Explain why using accuracy as the scoring metric (because classes are equally important) https://machinelearningmastery.com/framework-for-imbalanced-classification-projects/"
      ]
    },
    {
      "cell_type": "code",
      "metadata": {
        "colab": {
          "base_uri": "https://localhost:8080/"
        },
        "id": "jA8K4bQXcmb8",
        "outputId": "2ecd5078-7bbd-44da-ea59-880b30c422cb"
      },
      "source": [
        "svc_estimator = SVC()\n",
        "\n",
        "param_distributions = { \n",
        "  'degree': range(2, 8),\n",
        "  'coef0': loguniform(1e-2, 1e1), \n",
        "  'kernel': ['poly'],\n",
        "}\n",
        "\n",
        "svc_cv = RandomizedSearchCV(svc_estimator, param_distributions, n_iter=10)\n",
        "svc_cv.fit(X_train, y_train)\n",
        "svc_cv.best_params_"
      ],
      "execution_count": null,
      "outputs": [
        {
          "output_type": "execute_result",
          "data": {
            "text/plain": [
              "{'coef0': 0.39422893971557593, 'degree': 5, 'kernel': 'poly'}"
            ]
          },
          "metadata": {
            "tags": []
          },
          "execution_count": 117
        }
      ]
    },
    {
      "cell_type": "code",
      "metadata": {
        "colab": {
          "base_uri": "https://localhost:8080/"
        },
        "id": "iaU0hB6Ycmb9",
        "outputId": "b5ca5895-45bb-4f24-843c-f91051ab0f64"
      },
      "source": [
        "svc_cv_results_df = pd.DataFrame({\n",
        "  'param_degree': svc_cv.cv_results_['param_degree'],\n",
        "  'param_coef0': svc_cv.cv_results_['param_coef0'],\n",
        "  'mean_test_score': svc_cv.cv_results_['mean_test_score'],\n",
        "})\n",
        "svc_cv_results_df = np.round(svc_cv_results_df.astype(float), 2)\n",
        "svc_cv_results_df = svc_cv_results_df.pivot('param_degree', 'param_coef0', 'mean_test_score')\n",
        "sns.heatmap(svc_cv_results_df)"
      ],
      "execution_count": null,
      "outputs": [
        {
          "output_type": "execute_result",
          "data": {
            "text/plain": [
              "<matplotlib.axes._subplots.AxesSubplot at 0x7fb271bc1990>"
            ]
          },
          "metadata": {
            "tags": []
          },
          "execution_count": 118
        },
        {
          "output_type": "display_data",
          "data": {
            "image/png": "[encoded data removed]",
            "text/plain": [
              "<Figure size 432x288 with 2 Axes>"
            ]
          },
          "metadata": {
            "tags": []
          }
        }
      ]
    },
    {
      "cell_type": "markdown",
      "metadata": {
        "id": "lbMUffbFcmb-"
      },
      "source": [
        "### Evaluation"
      ]
    },
    {
      "cell_type": "code",
      "metadata": {
        "colab": {
          "base_uri": "https://localhost:8080/"
        },
        "id": "GxnFHQ76cmb-",
        "outputId": "e37a4f51-944a-48af-d00c-5884672c368a"
      },
      "source": [
        "y_pred = svc_cv.predict(X_test)\n",
        "display_score(y_test, y_pred)"
      ],
      "execution_count": null,
      "outputs": [
        {
          "output_type": "stream",
          "text": [
            "Recall:  [0.56666667 0.75789474 0.75757576 0.82       0.58585859 0.83870968]\n",
            "Precision:  [0.61818182 0.79120879 0.70093458 0.71304348 0.87878788 0.72727273]\n",
            "F1-Score:  [0.59130435 0.77419355 0.72815534 0.7627907  0.7030303  0.77902622]\n",
            "Accuracy: 0.74 \n",
            "Number of samples:  577\n"
          ],
          "name": "stdout"
        }
      ]
    },
    {
      "cell_type": "markdown",
      "metadata": {
        "id": "ZVbqNTz8cmb_"
      },
      "source": [
        "#### Confusion matrix"
      ]
    },
    {
      "cell_type": "code",
      "metadata": {
        "colab": {
          "base_uri": "https://localhost:8080/",
          "height": 431
        },
        "id": "oMP_N4Ntcmb_",
        "outputId": "1224fd79-9252-4627-87ee-9dbbcc9c440d"
      },
      "source": [
        "cnf_matrix = confusion_matrix(y_test, y_pred)\n",
        "plot_confusion_matrix(cnf_matrix)  "
      ],
      "execution_count": null,
      "outputs": [
        {
          "output_type": "display_data",
          "data": {
            "image/png": "[encoded data removed]",
            "text/plain": [
              "<Figure size 720x504 with 2 Axes>"
            ]
          },
          "metadata": {
            "tags": []
          }
        }
      ]
    },
    {
      "cell_type": "markdown",
      "metadata": {
        "id": "7Oe3cry66xnz"
      },
      "source": [
        "## Linear"
      ]
    },
    {
      "cell_type": "markdown",
      "metadata": {
        "id": "4UeLJtd38kka"
      },
      "source": [
        "### Training"
      ]
    },
    {
      "cell_type": "code",
      "metadata": {
        "colab": {
          "base_uri": "https://localhost:8080/"
        },
        "id": "Uv4UIMQE6y6F",
        "outputId": "ef78eb55-88b2-4b3f-d09b-0cd3696d152d"
      },
      "source": [
        "lin_clf = LinearSVC()\n",
        "lin_clf.fit(X_train, y_train)"
      ],
      "execution_count": null,
      "outputs": [
        {
          "output_type": "stream",
          "text": [
            "/usr/local/lib/python3.7/dist-packages/sklearn/svm/_base.py:947: ConvergenceWarning: Liblinear failed to converge, increase the number of iterations.\n",
            "  \"the number of iterations.\", ConvergenceWarning)\n"
          ],
          "name": "stderr"
        },
        {
          "output_type": "execute_result",
          "data": {
            "text/plain": [
              "LinearSVC(C=1.0, class_weight=None, dual=True, fit_intercept=True,\n",
              "          intercept_scaling=1, loss='squared_hinge', max_iter=1000,\n",
              "          multi_class='ovr', penalty='l2', random_state=None, tol=0.0001,\n",
              "          verbose=0)"
            ]
          },
          "metadata": {
            "tags": []
          },
          "execution_count": 121
        }
      ]
    },
    {
      "cell_type": "markdown",
      "metadata": {
        "id": "Gs65rCvb8qCm"
      },
      "source": [
        "### Evaluation"
      ]
    },
    {
      "cell_type": "code",
      "metadata": {
        "id": "DLKwy2cR8qCm",
        "colab": {
          "base_uri": "https://localhost:8080/"
        },
        "outputId": "55fd0fcc-1797-4437-bca5-fe9569772401"
      },
      "source": [
        "y_pred = lin_clf.predict(X_test)\n",
        "display_score(y_test, y_pred)"
      ],
      "execution_count": null,
      "outputs": [
        {
          "output_type": "stream",
          "text": [
            "Recall:  [0.36666667 0.63157895 0.74747475 0.7        0.43434343 0.72580645]\n",
            "Precision:  [0.55       0.68181818 0.592      0.60869565 0.68253968 0.61643836]\n",
            "F1-Score:  [0.44       0.6557377  0.66071429 0.65116279 0.5308642  0.66666667]\n",
            "Accuracy: 0.62 \n",
            "Number of samples:  577\n"
          ],
          "name": "stdout"
        }
      ]
    },
    {
      "cell_type": "markdown",
      "metadata": {
        "id": "Z9zHJ_DY8qCo"
      },
      "source": [
        "#### Confusion matrix"
      ]
    },
    {
      "cell_type": "code",
      "metadata": {
        "colab": {
          "base_uri": "https://localhost:8080/"
        },
        "id": "vfzPb3YA8qCo",
        "outputId": "5f978d90-de32-434e-b3cb-cd55edf3dc73"
      },
      "source": [
        "cnf_matrix = confusion_matrix(y_test, y_pred)\n",
        "plot_confusion_matrix(cnf_matrix)  "
      ],
      "execution_count": null,
      "outputs": [
        {
          "output_type": "display_data",
          "data": {
            "image/png": "[encoded data removed]",
            "text/plain": [
              "<Figure size 720x504 with 2 Axes>"
            ]
          },
          "metadata": {
            "tags": []
          }
        }
      ]
    },
    {
      "cell_type": "markdown",
      "metadata": {
        "id": "nbKc4Cj_FORw"
      },
      "source": [
        "## PCA on all features"
      ]
    },
    {
      "cell_type": "code",
      "metadata": {
        "id": "A2jv0LgQGrtv"
      },
      "source": [
        "from sklearn import decomposition\n",
        "pca = decomposition.PCA()"
      ],
      "execution_count": null,
      "outputs": []
    },
    {
      "cell_type": "code",
      "metadata": {
        "id": "MLzneW5AG-qY"
      },
      "source": [
        "pca.n_components = X.shape[1]\n",
        "pca_data = pca.fit_transform(X)\n"
      ],
      "execution_count": null,
      "outputs": []
    },
    {
      "cell_type": "code",
      "metadata": {
        "id": "KvxoeM67KPVm"
      },
      "source": [
        "percentage_var_explained = pca.explained_variance_ / np.sum(pca.explained_variance_);\n",
        "cum_var_explained = np.cumsum(percentage_var_explained)"
      ],
      "execution_count": null,
      "outputs": []
    },
    {
      "cell_type": "code",
      "metadata": {
        "colab": {
          "base_uri": "https://localhost:8080/",
          "height": 611
        },
        "id": "siToil84KVxO",
        "outputId": "d2b85ebb-70ae-4445-bfa8-39b07b0a324f"
      },
      "source": [
        "import matplotlib.pyplot as plt\n",
        "\n",
        "plt.figure(1, figsize=(16, 10))\n",
        "plt.clf()\n",
        "plt.plot(cum_var_explained, linewidth=2)\n",
        "plt.axis('tight')\n",
        "plt.grid()\n",
        "plt.xlabel('n_components')\n",
        "plt.ylabel('Cumulative_explained_variance')\n",
        "plt.show()"
      ],
      "execution_count": null,
      "outputs": [
        {
          "output_type": "display_data",
          "data": {
            "image/png": "[encoded data removed]",
            "text/plain": [
              "<Figure size 1152x720 with 1 Axes>"
            ]
          },
          "metadata": {
            "tags": []
          }
        }
      ]
    },
    {
      "cell_type": "markdown",
      "metadata": {
        "id": "nQv3eYgZKjfy"
      },
      "source": [
        "90% of the variance is explained in the first 250 prinicipal components of 2045, which should be enough and our data is reduced to about 10%"
      ]
    },
    {
      "cell_type": "markdown",
      "metadata": {
        "id": "Y-jvLq-NFUMt"
      },
      "source": [
        "## PCA and transform features to top 250 principle components"
      ]
    },
    {
      "cell_type": "code",
      "metadata": {
        "id": "t5PwOPPxKb7a",
        "colab": {
          "base_uri": "https://localhost:8080/",
          "height": 337
        },
        "outputId": "43b25ea0-0e77-49a3-dd6b-54a38aae266e"
      },
      "source": [
        "pca = decomposition.PCA()\n",
        "pca.n_components = 60\n",
        "pca_data = pca.fit_transform(X)"
      ],
      "execution_count": null,
      "outputs": [
        {
          "output_type": "error",
          "ename": "ValueError",
          "evalue": "ignored",
          "traceback": [
            "\u001b[0;31m---------------------------------------------------------------------------\u001b[0m",
            "\u001b[0;31mValueError\u001b[0m                                Traceback (most recent call last)",
            "\u001b[0;32m<ipython-input-128-a92fea13b1aa>\u001b[0m in \u001b[0;36m<module>\u001b[0;34m()\u001b[0m\n\u001b[1;32m      1\u001b[0m \u001b[0mpca\u001b[0m \u001b[0;34m=\u001b[0m \u001b[0mdecomposition\u001b[0m\u001b[0;34m.\u001b[0m\u001b[0mPCA\u001b[0m\u001b[0;34m(\u001b[0m\u001b[0;34m)\u001b[0m\u001b[0;34m\u001b[0m\u001b[0;34m\u001b[0m\u001b[0m\n\u001b[1;32m      2\u001b[0m \u001b[0mpca\u001b[0m\u001b[0;34m.\u001b[0m\u001b[0mn_components\u001b[0m \u001b[0;34m=\u001b[0m \u001b[0;36m60\u001b[0m\u001b[0;34m\u001b[0m\u001b[0;34m\u001b[0m\u001b[0m\n\u001b[0;32m----> 3\u001b[0;31m \u001b[0mpca_data\u001b[0m \u001b[0;34m=\u001b[0m \u001b[0mpca\u001b[0m\u001b[0;34m.\u001b[0m\u001b[0mfit_transform\u001b[0m\u001b[0;34m(\u001b[0m\u001b[0mX\u001b[0m\u001b[0;34m)\u001b[0m\u001b[0;34m\u001b[0m\u001b[0;34m\u001b[0m\u001b[0m\n\u001b[0m",
            "\u001b[0;32m/usr/local/lib/python3.7/dist-packages/sklearn/decomposition/_pca.py\u001b[0m in \u001b[0;36mfit_transform\u001b[0;34m(self, X, y)\u001b[0m\n\u001b[1;32m    367\u001b[0m         \u001b[0mC\u001b[0m\u001b[0;34m-\u001b[0m\u001b[0mordered\u001b[0m \u001b[0marray\u001b[0m\u001b[0;34m,\u001b[0m \u001b[0muse\u001b[0m \u001b[0;34m'np.ascontiguousarray'\u001b[0m\u001b[0;34m.\u001b[0m\u001b[0;34m\u001b[0m\u001b[0;34m\u001b[0m\u001b[0m\n\u001b[1;32m    368\u001b[0m         \"\"\"\n\u001b[0;32m--> 369\u001b[0;31m         \u001b[0mU\u001b[0m\u001b[0;34m,\u001b[0m \u001b[0mS\u001b[0m\u001b[0;34m,\u001b[0m \u001b[0mV\u001b[0m \u001b[0;34m=\u001b[0m \u001b[0mself\u001b[0m\u001b[0;34m.\u001b[0m\u001b[0m_fit\u001b[0m\u001b[0;34m(\u001b[0m\u001b[0mX\u001b[0m\u001b[0;34m)\u001b[0m\u001b[0;34m\u001b[0m\u001b[0;34m\u001b[0m\u001b[0m\n\u001b[0m\u001b[1;32m    370\u001b[0m         \u001b[0mU\u001b[0m \u001b[0;34m=\u001b[0m \u001b[0mU\u001b[0m\u001b[0;34m[\u001b[0m\u001b[0;34m:\u001b[0m\u001b[0;34m,\u001b[0m \u001b[0;34m:\u001b[0m\u001b[0mself\u001b[0m\u001b[0;34m.\u001b[0m\u001b[0mn_components_\u001b[0m\u001b[0;34m]\u001b[0m\u001b[0;34m\u001b[0m\u001b[0;34m\u001b[0m\u001b[0m\n\u001b[1;32m    371\u001b[0m \u001b[0;34m\u001b[0m\u001b[0m\n",
            "\u001b[0;32m/usr/local/lib/python3.7/dist-packages/sklearn/decomposition/_pca.py\u001b[0m in \u001b[0;36m_fit\u001b[0;34m(self, X)\u001b[0m\n\u001b[1;32m    414\u001b[0m         \u001b[0;31m# Call different fits for either full or truncated SVD\u001b[0m\u001b[0;34m\u001b[0m\u001b[0;34m\u001b[0m\u001b[0;34m\u001b[0m\u001b[0m\n\u001b[1;32m    415\u001b[0m         \u001b[0;32mif\u001b[0m \u001b[0mself\u001b[0m\u001b[0;34m.\u001b[0m\u001b[0m_fit_svd_solver\u001b[0m \u001b[0;34m==\u001b[0m \u001b[0;34m'full'\u001b[0m\u001b[0;34m:\u001b[0m\u001b[0;34m\u001b[0m\u001b[0;34m\u001b[0m\u001b[0m\n\u001b[0;32m--> 416\u001b[0;31m             \u001b[0;32mreturn\u001b[0m \u001b[0mself\u001b[0m\u001b[0;34m.\u001b[0m\u001b[0m_fit_full\u001b[0m\u001b[0;34m(\u001b[0m\u001b[0mX\u001b[0m\u001b[0;34m,\u001b[0m \u001b[0mn_components\u001b[0m\u001b[0;34m)\u001b[0m\u001b[0;34m\u001b[0m\u001b[0;34m\u001b[0m\u001b[0m\n\u001b[0m\u001b[1;32m    417\u001b[0m         \u001b[0;32melif\u001b[0m \u001b[0mself\u001b[0m\u001b[0;34m.\u001b[0m\u001b[0m_fit_svd_solver\u001b[0m \u001b[0;32min\u001b[0m \u001b[0;34m[\u001b[0m\u001b[0;34m'arpack'\u001b[0m\u001b[0;34m,\u001b[0m \u001b[0;34m'randomized'\u001b[0m\u001b[0;34m]\u001b[0m\u001b[0;34m:\u001b[0m\u001b[0;34m\u001b[0m\u001b[0;34m\u001b[0m\u001b[0m\n\u001b[1;32m    418\u001b[0m             \u001b[0;32mreturn\u001b[0m \u001b[0mself\u001b[0m\u001b[0;34m.\u001b[0m\u001b[0m_fit_truncated\u001b[0m\u001b[0;34m(\u001b[0m\u001b[0mX\u001b[0m\u001b[0;34m,\u001b[0m \u001b[0mn_components\u001b[0m\u001b[0;34m,\u001b[0m \u001b[0mself\u001b[0m\u001b[0;34m.\u001b[0m\u001b[0m_fit_svd_solver\u001b[0m\u001b[0;34m)\u001b[0m\u001b[0;34m\u001b[0m\u001b[0;34m\u001b[0m\u001b[0m\n",
            "\u001b[0;32m/usr/local/lib/python3.7/dist-packages/sklearn/decomposition/_pca.py\u001b[0m in \u001b[0;36m_fit_full\u001b[0;34m(self, X, n_components)\u001b[0m\n\u001b[1;32m    433\u001b[0m                              \u001b[0;34m\"min(n_samples, n_features)=%r with \"\u001b[0m\u001b[0;34m\u001b[0m\u001b[0;34m\u001b[0m\u001b[0m\n\u001b[1;32m    434\u001b[0m                              \u001b[0;34m\"svd_solver='full'\"\u001b[0m\u001b[0;34m\u001b[0m\u001b[0;34m\u001b[0m\u001b[0m\n\u001b[0;32m--> 435\u001b[0;31m                              % (n_components, min(n_samples, n_features)))\n\u001b[0m\u001b[1;32m    436\u001b[0m         \u001b[0;32melif\u001b[0m \u001b[0mn_components\u001b[0m \u001b[0;34m>=\u001b[0m \u001b[0;36m1\u001b[0m\u001b[0;34m:\u001b[0m\u001b[0;34m\u001b[0m\u001b[0;34m\u001b[0m\u001b[0m\n\u001b[1;32m    437\u001b[0m             \u001b[0;32mif\u001b[0m \u001b[0;32mnot\u001b[0m \u001b[0misinstance\u001b[0m\u001b[0;34m(\u001b[0m\u001b[0mn_components\u001b[0m\u001b[0;34m,\u001b[0m \u001b[0mnumbers\u001b[0m\u001b[0;34m.\u001b[0m\u001b[0mIntegral\u001b[0m\u001b[0;34m)\u001b[0m\u001b[0;34m:\u001b[0m\u001b[0;34m\u001b[0m\u001b[0;34m\u001b[0m\u001b[0m\n",
            "\u001b[0;31mValueError\u001b[0m: n_components=60 must be between 0 and min(n_samples, n_features)=26 with svd_solver='full'"
          ]
        }
      ]
    },
    {
      "cell_type": "code",
      "metadata": {
        "id": "O872Um5VLAKR"
      },
      "source": [
        "pca_data.shape"
      ],
      "execution_count": null,
      "outputs": []
    },
    {
      "cell_type": "code",
      "metadata": {
        "id": "x3qs3CPFLBzC"
      },
      "source": [
        "reduced_df = pd.DataFrame(zip(pca_data, y), columns=['pca_features', 'label'])\n",
        "reduced_df.to_hdf('/content/drive/MyDrive/mfcc-and-other-pca-reduced.h5', key='s', mode='w')"
      ],
      "execution_count": null,
      "outputs": []
    },
    {
      "cell_type": "code",
      "metadata": {
        "id": "ylQwPfAlbtMX"
      },
      "source": [
        "reduced_df"
      ],
      "execution_count": null,
      "outputs": []
    },
    {
      "cell_type": "markdown",
      "metadata": {
        "id": "lijTUrnEb2KD"
      },
      "source": [
        "## RBF\n",
        "\n",
        "TODO: Explain RBF"
      ]
    },
    {
      "cell_type": "markdown",
      "metadata": {
        "id": "Kvi4SDFlb2KD"
      },
      "source": [
        "#### Training with hyperparameters tuning\n",
        "\n",
        "TODO:\n",
        "- Randomized parameter optimization: https://scikit-learn.org/stable/modules/grid_search.html#randomized-parameter-optimization\n",
        "\n",
        "- Explain C and gamma (models with very large gamma values tend to overfit)\n",
        "\n",
        "- Explain why using accuracy as the scoring metric (because classes are equally important) https://machinelearningmastery.com/framework-for-imbalanced-classification-projects/"
      ]
    },
    {
      "cell_type": "code",
      "metadata": {
        "id": "-bjPCNa3cJdf"
      },
      "source": [
        "X =  reduced_df['pca_features'].to_numpy()\n",
        "X = np.array([x.reshape((X[0].shape[0],)) for x in X])\n",
        "X.shape"
      ],
      "execution_count": null,
      "outputs": []
    },
    {
      "cell_type": "code",
      "metadata": {
        "id": "kUafjk-WcYmK"
      },
      "source": [
        "y = reduced_df['label'].to_numpy()\n",
        "y.shape"
      ],
      "execution_count": null,
      "outputs": []
    },
    {
      "cell_type": "code",
      "metadata": {
        "id": "_eNbx0TSewYa"
      },
      "source": [
        "X_train, X_test, y_train, y_test = train_test_split(X, y, test_size=0.15)\n",
        "\n",
        "print(f'Size of training set: {len(X_train)}')\n",
        "print(f'Size of testing set: {len(X_test)}')"
      ],
      "execution_count": null,
      "outputs": []
    },
    {
      "cell_type": "code",
      "metadata": {
        "id": "oCzL7aOVb2KE"
      },
      "source": [
        "svc_estimator = SVC()\n",
        "\n",
        "param_distributions = { \n",
        "  'C': loguniform(1e-1, 1e3),\n",
        "  'gamma': loguniform(1e-4, 1e0), \n",
        "  'kernel': ['rbf'],\n",
        "}\n",
        "\n",
        "svc_cv = RandomizedSearchCV(svc_estimator, param_distributions, n_iter=10)\n",
        "svc_cv.fit(X_train, y_train)\n",
        "svc_cv.best_params_"
      ],
      "execution_count": null,
      "outputs": []
    },
    {
      "cell_type": "code",
      "metadata": {
        "id": "sC2yRrqab2KE"
      },
      "source": [
        "svc_cv_results_df = pd.DataFrame({\n",
        "  'param_C': svc_cv.cv_results_['param_C'],\n",
        "  'param_gamma': svc_cv.cv_results_['param_gamma'],\n",
        "  'mean_test_score': svc_cv.cv_results_['mean_test_score'],\n",
        "})\n",
        "svc_cv_results_df = np.round(svc_cv_results_df.astype(float), 2)\n",
        "svc_cv_results_df = svc_cv_results_df.pivot('param_C', 'param_gamma', 'mean_test_score')\n",
        "sns.heatmap(svc_cv_results_df)"
      ],
      "execution_count": null,
      "outputs": []
    },
    {
      "cell_type": "markdown",
      "metadata": {
        "id": "3rbevSqXb2KF"
      },
      "source": [
        "### Evaluation"
      ]
    },
    {
      "cell_type": "code",
      "metadata": {
        "id": "6m6xAF0Ab2KF"
      },
      "source": [
        "y_pred = svc_cv.predict(X_test)\n",
        "display_score(y_test, y_pred)"
      ],
      "execution_count": null,
      "outputs": []
    },
    {
      "cell_type": "markdown",
      "metadata": {
        "id": "TxfwxmdNb2KF"
      },
      "source": [
        "#### Confusion matrix"
      ]
    },
    {
      "cell_type": "code",
      "metadata": {
        "id": "8sXkH5JLb2KF"
      },
      "source": [
        "cnf_matrix = confusion_matrix(y_test, y_pred)\n",
        "plot_confusion_matrix(cnf_matrix)  "
      ],
      "execution_count": null,
      "outputs": []
    }
  ]
}