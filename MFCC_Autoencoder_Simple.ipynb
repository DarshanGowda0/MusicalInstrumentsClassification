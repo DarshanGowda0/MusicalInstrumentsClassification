{
  "nbformat": 4,
  "nbformat_minor": 0,
  "metadata": {
    "colab": {
      "name": "MFCC-Autoencoder-Simple.ipynb",
      "provenance": [],
      "collapsed_sections": [],
      "machine_shape": "hm",
      "mount_file_id": "1yNMejB64nx-HQPc4fhlBIdcbgVoSyZ0n",
      "authorship_tag": "ABX9TyOAVFT0vYhaFNKS+xShrO7i",
      "include_colab_link": true
    },
    "kernelspec": {
      "name": "python3",
      "display_name": "Python 3"
    },
    "language_info": {
      "name": "python"
    },
    "accelerator": "TPU"
  },
  "cells": [
    {
      "cell_type": "markdown",
      "metadata": {
        "id": "view-in-github",
        "colab_type": "text"
      },
      "source": [
        "<a href=\"https://colab.research.google.com/github/DarshanGowda0/MusicalInstrumentsClassification/blob/main/MFCC_Autoencoder_Simple.ipynb\" target=\"_parent\"><img src=\"https://colab.research.google.com/assets/colab-badge.svg\" alt=\"Open In Colab\"/></a>"
      ]
    },
    {
      "cell_type": "code",
      "metadata": {
        "colab": {
          "base_uri": "https://localhost:8080/"
        },
        "id": "Sq-k6mySJQOk",
        "outputId": "2b94ab88-cc91-4baa-98dc-046326dcc7d4"
      },
      "source": [
        "%tensorflow_version 2.x\n",
        "import tensorflow as tf\n",
        "print(\"Tensorflow version \" + tf.__version__)\n",
        "\n",
        "try:\n",
        "  tpu = tf.distribute.cluster_resolver.TPUClusterResolver()  # TPU detection\n",
        "  print('Running on TPU ', tpu.cluster_spec().as_dict()['worker'])\n",
        "except ValueError:\n",
        "  raise BaseException('ERROR: Not connected to a TPU runtime; please see the previous cell in this notebook for instructions!')\n",
        "\n",
        "tf.config.experimental_connect_to_cluster(tpu)\n",
        "tf.tpu.experimental.initialize_tpu_system(tpu)\n",
        "tpu_strategy = tf.distribute.experimental.TPUStrategy(tpu)"
      ],
      "execution_count": null,
      "outputs": [
        {
          "output_type": "stream",
          "text": [
            "Tensorflow version 2.4.1\n",
            "Running on TPU  ['10.35.14.66:8470']\n",
            "INFO:tensorflow:Initializing the TPU system: grpc://10.35.14.66:8470\n"
          ],
          "name": "stdout"
        },
        {
          "output_type": "stream",
          "text": [
            "INFO:tensorflow:Initializing the TPU system: grpc://10.35.14.66:8470\n"
          ],
          "name": "stderr"
        },
        {
          "output_type": "stream",
          "text": [
            "INFO:tensorflow:Clearing out eager caches\n"
          ],
          "name": "stdout"
        },
        {
          "output_type": "stream",
          "text": [
            "INFO:tensorflow:Clearing out eager caches\n"
          ],
          "name": "stderr"
        },
        {
          "output_type": "stream",
          "text": [
            "INFO:tensorflow:Finished initializing TPU system.\n"
          ],
          "name": "stdout"
        },
        {
          "output_type": "stream",
          "text": [
            "INFO:tensorflow:Finished initializing TPU system.\n",
            "WARNING:absl:`tf.distribute.experimental.TPUStrategy` is deprecated, please use  the non experimental symbol `tf.distribute.TPUStrategy` instead.\n"
          ],
          "name": "stderr"
        },
        {
          "output_type": "stream",
          "text": [
            "INFO:tensorflow:Found TPU system:\n"
          ],
          "name": "stdout"
        },
        {
          "output_type": "stream",
          "text": [
            "INFO:tensorflow:Found TPU system:\n"
          ],
          "name": "stderr"
        },
        {
          "output_type": "stream",
          "text": [
            "INFO:tensorflow:*** Num TPU Cores: 8\n"
          ],
          "name": "stdout"
        },
        {
          "output_type": "stream",
          "text": [
            "INFO:tensorflow:*** Num TPU Cores: 8\n"
          ],
          "name": "stderr"
        },
        {
          "output_type": "stream",
          "text": [
            "INFO:tensorflow:*** Num TPU Workers: 1\n"
          ],
          "name": "stdout"
        },
        {
          "output_type": "stream",
          "text": [
            "INFO:tensorflow:*** Num TPU Workers: 1\n"
          ],
          "name": "stderr"
        },
        {
          "output_type": "stream",
          "text": [
            "INFO:tensorflow:*** Num TPU Cores Per Worker: 8\n"
          ],
          "name": "stdout"
        },
        {
          "output_type": "stream",
          "text": [
            "INFO:tensorflow:*** Num TPU Cores Per Worker: 8\n"
          ],
          "name": "stderr"
        },
        {
          "output_type": "stream",
          "text": [
            "INFO:tensorflow:*** Available Device: _DeviceAttributes(/job:localhost/replica:0/task:0/device:CPU:0, CPU, 0, 0)\n"
          ],
          "name": "stdout"
        },
        {
          "output_type": "stream",
          "text": [
            "INFO:tensorflow:*** Available Device: _DeviceAttributes(/job:localhost/replica:0/task:0/device:CPU:0, CPU, 0, 0)\n"
          ],
          "name": "stderr"
        },
        {
          "output_type": "stream",
          "text": [
            "INFO:tensorflow:*** Available Device: _DeviceAttributes(/job:worker/replica:0/task:0/device:CPU:0, CPU, 0, 0)\n"
          ],
          "name": "stdout"
        },
        {
          "output_type": "stream",
          "text": [
            "INFO:tensorflow:*** Available Device: _DeviceAttributes(/job:worker/replica:0/task:0/device:CPU:0, CPU, 0, 0)\n"
          ],
          "name": "stderr"
        },
        {
          "output_type": "stream",
          "text": [
            "INFO:tensorflow:*** Available Device: _DeviceAttributes(/job:worker/replica:0/task:0/device:TPU:0, TPU, 0, 0)\n"
          ],
          "name": "stdout"
        },
        {
          "output_type": "stream",
          "text": [
            "INFO:tensorflow:*** Available Device: _DeviceAttributes(/job:worker/replica:0/task:0/device:TPU:0, TPU, 0, 0)\n"
          ],
          "name": "stderr"
        },
        {
          "output_type": "stream",
          "text": [
            "INFO:tensorflow:*** Available Device: _DeviceAttributes(/job:worker/replica:0/task:0/device:TPU:1, TPU, 0, 0)\n"
          ],
          "name": "stdout"
        },
        {
          "output_type": "stream",
          "text": [
            "INFO:tensorflow:*** Available Device: _DeviceAttributes(/job:worker/replica:0/task:0/device:TPU:1, TPU, 0, 0)\n"
          ],
          "name": "stderr"
        },
        {
          "output_type": "stream",
          "text": [
            "INFO:tensorflow:*** Available Device: _DeviceAttributes(/job:worker/replica:0/task:0/device:TPU:2, TPU, 0, 0)\n"
          ],
          "name": "stdout"
        },
        {
          "output_type": "stream",
          "text": [
            "INFO:tensorflow:*** Available Device: _DeviceAttributes(/job:worker/replica:0/task:0/device:TPU:2, TPU, 0, 0)\n"
          ],
          "name": "stderr"
        },
        {
          "output_type": "stream",
          "text": [
            "INFO:tensorflow:*** Available Device: _DeviceAttributes(/job:worker/replica:0/task:0/device:TPU:3, TPU, 0, 0)\n"
          ],
          "name": "stdout"
        },
        {
          "output_type": "stream",
          "text": [
            "INFO:tensorflow:*** Available Device: _DeviceAttributes(/job:worker/replica:0/task:0/device:TPU:3, TPU, 0, 0)\n"
          ],
          "name": "stderr"
        },
        {
          "output_type": "stream",
          "text": [
            "INFO:tensorflow:*** Available Device: _DeviceAttributes(/job:worker/replica:0/task:0/device:TPU:4, TPU, 0, 0)\n"
          ],
          "name": "stdout"
        },
        {
          "output_type": "stream",
          "text": [
            "INFO:tensorflow:*** Available Device: _DeviceAttributes(/job:worker/replica:0/task:0/device:TPU:4, TPU, 0, 0)\n"
          ],
          "name": "stderr"
        },
        {
          "output_type": "stream",
          "text": [
            "INFO:tensorflow:*** Available Device: _DeviceAttributes(/job:worker/replica:0/task:0/device:TPU:5, TPU, 0, 0)\n"
          ],
          "name": "stdout"
        },
        {
          "output_type": "stream",
          "text": [
            "INFO:tensorflow:*** Available Device: _DeviceAttributes(/job:worker/replica:0/task:0/device:TPU:5, TPU, 0, 0)\n"
          ],
          "name": "stderr"
        },
        {
          "output_type": "stream",
          "text": [
            "INFO:tensorflow:*** Available Device: _DeviceAttributes(/job:worker/replica:0/task:0/device:TPU:6, TPU, 0, 0)\n"
          ],
          "name": "stdout"
        },
        {
          "output_type": "stream",
          "text": [
            "INFO:tensorflow:*** Available Device: _DeviceAttributes(/job:worker/replica:0/task:0/device:TPU:6, TPU, 0, 0)\n"
          ],
          "name": "stderr"
        },
        {
          "output_type": "stream",
          "text": [
            "INFO:tensorflow:*** Available Device: _DeviceAttributes(/job:worker/replica:0/task:0/device:TPU:7, TPU, 0, 0)\n"
          ],
          "name": "stdout"
        },
        {
          "output_type": "stream",
          "text": [
            "INFO:tensorflow:*** Available Device: _DeviceAttributes(/job:worker/replica:0/task:0/device:TPU:7, TPU, 0, 0)\n"
          ],
          "name": "stderr"
        },
        {
          "output_type": "stream",
          "text": [
            "INFO:tensorflow:*** Available Device: _DeviceAttributes(/job:worker/replica:0/task:0/device:TPU_SYSTEM:0, TPU_SYSTEM, 0, 0)\n"
          ],
          "name": "stdout"
        },
        {
          "output_type": "stream",
          "text": [
            "INFO:tensorflow:*** Available Device: _DeviceAttributes(/job:worker/replica:0/task:0/device:TPU_SYSTEM:0, TPU_SYSTEM, 0, 0)\n"
          ],
          "name": "stderr"
        },
        {
          "output_type": "stream",
          "text": [
            "INFO:tensorflow:*** Available Device: _DeviceAttributes(/job:worker/replica:0/task:0/device:XLA_CPU:0, XLA_CPU, 0, 0)\n"
          ],
          "name": "stdout"
        },
        {
          "output_type": "stream",
          "text": [
            "INFO:tensorflow:*** Available Device: _DeviceAttributes(/job:worker/replica:0/task:0/device:XLA_CPU:0, XLA_CPU, 0, 0)\n"
          ],
          "name": "stderr"
        }
      ]
    },
    {
      "cell_type": "code",
      "metadata": {
        "colab": {
          "base_uri": "https://localhost:8080/"
        },
        "id": "PjYhIpvbGS15",
        "outputId": "e7b887e0-cebd-4390-c9aa-0475a1f26071"
      },
      "source": [
        "import pandas as pd\n",
        "import numpy as np\n",
        "import librosa, librosa.display\n",
        "import os\n",
        "from tqdm.notebook import tqdm\n",
        "from sklearn.preprocessing import LabelEncoder\n",
        "import matplotlib.pyplot as plt\n",
        "le = LabelEncoder()\n",
        "\n",
        "# tf.config.experimental_run_functions_eagerly(True)\n",
        "\n",
        "!pip install --upgrade tables\n",
        "\n",
        "df = pd.read_hdf('/content/drive/MyDrive/mfcc-16-128-and-other-features.h5', key='s', mode='r')"
      ],
      "execution_count": null,
      "outputs": [
        {
          "output_type": "stream",
          "text": [
            "Collecting tables\n",
            "\u001b[?25l  Downloading https://files.pythonhosted.org/packages/0f/cb/4097be890a773af95343389faa8c283b0d9ff606f144227a548461dcbdd5/tables-3.6.1-cp37-cp37m-manylinux1_x86_64.whl (4.3MB)\n",
            "\u001b[K     |████████████████████████████████| 4.3MB 5.1MB/s \n",
            "\u001b[?25hRequirement already satisfied, skipping upgrade: numpy>=1.9.3 in /usr/local/lib/python3.7/dist-packages (from tables) (1.19.5)\n",
            "Requirement already satisfied, skipping upgrade: numexpr>=2.6.2 in /usr/local/lib/python3.7/dist-packages (from tables) (2.7.3)\n",
            "Installing collected packages: tables\n",
            "  Found existing installation: tables 3.4.4\n",
            "    Uninstalling tables-3.4.4:\n",
            "      Successfully uninstalled tables-3.4.4\n",
            "Successfully installed tables-3.6.1\n"
          ],
          "name": "stdout"
        }
      ]
    },
    {
      "cell_type": "code",
      "metadata": {
        "id": "WF29gftHJOFw"
      },
      "source": [
        "from sklearn.utils import shuffle\n",
        "df = shuffle(df)\n",
        "\n",
        "INSTRUMENTS = ['flu', 'pia', 'tru', 'gac', 'voi', 'org']\n",
        "df = df.loc[df['label'].isin(INSTRUMENTS)]\n"
      ],
      "execution_count": null,
      "outputs": []
    },
    {
      "cell_type": "code",
      "metadata": {
        "colab": {
          "base_uri": "https://localhost:8080/"
        },
        "id": "DMeOVZgYGomY",
        "outputId": "9b47f321-9b7a-4231-ae26-a2cd1e9818d9"
      },
      "source": [
        "mfcc, other_features, y = df['mfcc'], df.values[:, 1:-1], df['label']\n",
        "print(mfcc.shape)\n",
        "y_cat = le.fit_transform(y)\n",
        "X = np.stack([x for x in mfcc])\n",
        "X = np.expand_dims(X, axis=-1)"
      ],
      "execution_count": null,
      "outputs": [
        {
          "output_type": "stream",
          "text": [
            "(3846,)\n"
          ],
          "name": "stdout"
        }
      ]
    },
    {
      "cell_type": "code",
      "metadata": {
        "id": "a4B6sWWsZ9ZR",
        "colab": {
          "base_uri": "https://localhost:8080/"
        },
        "outputId": "cc9f039e-1d6c-4d62-df1c-c2cff92f3393"
      },
      "source": [
        "np.isnan(X).any()\n",
        "# print(X.shape)\n",
        "# X = (X - X.mean(axis=(0,1,2), keepdims=True)) / X.std(axis=(0,1,2), keepdims=True)"
      ],
      "execution_count": null,
      "outputs": [
        {
          "output_type": "execute_result",
          "data": {
            "text/plain": [
              "False"
            ]
          },
          "metadata": {
            "tags": []
          },
          "execution_count": 5
        }
      ]
    },
    {
      "cell_type": "code",
      "metadata": {
        "id": "1f8aQy4zGsgk"
      },
      "source": [
        "from sklearn.model_selection import train_test_split\n",
        "from tensorflow import keras\n",
        "from keras import layers\n",
        "\n",
        "X_train, X_test, y_train, y_test = train_test_split(X, y_cat, test_size=0.30)"
      ],
      "execution_count": null,
      "outputs": []
    },
    {
      "cell_type": "code",
      "metadata": {
        "colab": {
          "base_uri": "https://localhost:8080/"
        },
        "id": "7D9LxQk_G_JZ",
        "outputId": "5f5e80ae-b029-41e7-9588-9053463595c4"
      },
      "source": [
        "orig_dim = np.product(X_train.shape[1:])\n",
        "enc_dim = int(0.10 * orig_dim)\n",
        "print(orig_dim, enc_dim)"
      ],
      "execution_count": null,
      "outputs": [
        {
          "output_type": "stream",
          "text": [
            "2048 204\n"
          ],
          "name": "stdout"
        }
      ]
    },
    {
      "cell_type": "code",
      "metadata": {
        "colab": {
          "base_uri": "https://localhost:8080/"
        },
        "id": "nTS-ebKKH4pI",
        "outputId": "a3560559-ad2a-4694-9a84-a1b7b99507f6"
      },
      "source": [
        "train_reshaped, val_reshaped = X_train.reshape(X_train.shape[0], np.product(X_train.shape[1:])), X_test.reshape(X_test.shape[0], np.product(X_test.shape[1:]))\n",
        "print(train_reshaped.shape, val_reshaped.shape)"
      ],
      "execution_count": null,
      "outputs": [
        {
          "output_type": "stream",
          "text": [
            "(2692, 2048) (1154, 2048)\n"
          ],
          "name": "stdout"
        }
      ]
    },
    {
      "cell_type": "code",
      "metadata": {
        "id": "YfOR4Wn4Gy-U"
      },
      "source": [
        "def create_model(original_dim, encoded_dim):\n",
        "  input_img = layers.Input(shape=(original_dim,))\n",
        "  encoded = layers.Dense(encoded_dim, activation='relu')(input_img)\n",
        "  # encoded = layers.Dense(int(0.6 * original_dim), activation='relu')(encoded)\n",
        "  # encoded = layers.Dense(int(0.5 * original_dim), activation='relu')(encoded)\n",
        "\n",
        "  # decoded = layers.Dense(int(0.6 * original_dim), activation='sigmoid')(encoded)\n",
        "  # decoded = layers.Dense(int(0.8 * original_dim), activation='sigmoid')(decoded)\n",
        "  decoded = layers.Dense(int(original_dim))(encoded)\n",
        "\n",
        "  # model\n",
        "  autoencoder = keras.Model(input_img, decoded)\n",
        "\n",
        "  # compile\n",
        "  optimizer = keras.optimizers.Adam(learning_rate=0.0001)\n",
        "  autoencoder.compile(optimizer=optimizer, loss='mse', metrics=['acc'])\n",
        "\n",
        "  #encoder\n",
        "  encoder = keras.Model(input_img, encoded)\n",
        "\n",
        "  # decoder\n",
        "  encoded_input = keras.Input(shape=(encoded_dim,))\n",
        "  decoder_layer = autoencoder.layers[-1]\n",
        "  decoder = keras.Model(encoded_input, decoder_layer(encoded_input))\n",
        "  \n",
        "  return autoencoder, encoder, decoder"
      ],
      "execution_count": null,
      "outputs": []
    },
    {
      "cell_type": "code",
      "metadata": {
        "colab": {
          "base_uri": "https://localhost:8080/"
        },
        "id": "VqM9i9iCHkcp",
        "outputId": "22e204c4-7a73-498f-d3ea-d500d0eae27e"
      },
      "source": [
        "with tpu_strategy.scope():\n",
        "  model, encoder, decoder = create_model(orig_dim, enc_dim)\n",
        "  model.summary()"
      ],
      "execution_count": null,
      "outputs": [
        {
          "output_type": "stream",
          "text": [
            "Model: \"model\"\n",
            "_________________________________________________________________\n",
            "Layer (type)                 Output Shape              Param #   \n",
            "=================================================================\n",
            "input_1 (InputLayer)         [(None, 2048)]            0         \n",
            "_________________________________________________________________\n",
            "dense (Dense)                (None, 204)               417996    \n",
            "_________________________________________________________________\n",
            "dense_1 (Dense)              (None, 2048)              419840    \n",
            "=================================================================\n",
            "Total params: 837,836\n",
            "Trainable params: 837,836\n",
            "Non-trainable params: 0\n",
            "_________________________________________________________________\n"
          ],
          "name": "stdout"
        }
      ]
    },
    {
      "cell_type": "code",
      "metadata": {
        "colab": {
          "base_uri": "https://localhost:8080/"
        },
        "id": "BWUaEGYIIRMr",
        "outputId": "67913039-13a7-4c34-c648-bb1d507fab3d"
      },
      "source": [
        "history = model.fit(train_reshaped, train_reshaped, epochs=300, batch_size=64, validation_data=(val_reshaped, val_reshaped))"
      ],
      "execution_count": null,
      "outputs": [
        {
          "output_type": "stream",
          "text": [
            "Epoch 1/300\n",
            "43/43 [==============================] - 6s 78ms/step - loss: 4968.5857 - acc: 0.0029 - val_loss: 2303.1792 - val_acc: 0.0078\n",
            "Epoch 2/300\n",
            "43/43 [==============================] - 1s 32ms/step - loss: 1548.5923 - acc: 0.0082 - val_loss: 605.0480 - val_acc: 0.0078\n",
            "Epoch 3/300\n",
            "43/43 [==============================] - 1s 31ms/step - loss: 578.6140 - acc: 0.0045 - val_loss: 454.6880 - val_acc: 0.0095\n",
            "Epoch 4/300\n",
            "43/43 [==============================] - 1s 30ms/step - loss: 432.4952 - acc: 0.0055 - val_loss: 388.8611 - val_acc: 0.0147\n",
            "Epoch 5/300\n",
            "43/43 [==============================] - 1s 34ms/step - loss: 372.8382 - acc: 0.0080 - val_loss: 356.8599 - val_acc: 0.0139\n",
            "Epoch 6/300\n",
            "43/43 [==============================] - 1s 30ms/step - loss: 351.4280 - acc: 0.0078 - val_loss: 339.8532 - val_acc: 0.0121\n",
            "Epoch 7/300\n",
            "43/43 [==============================] - 1s 30ms/step - loss: 327.8178 - acc: 0.0042 - val_loss: 326.5372 - val_acc: 0.0130\n",
            "Epoch 8/300\n",
            "43/43 [==============================] - 1s 30ms/step - loss: 314.3504 - acc: 0.0074 - val_loss: 315.6224 - val_acc: 0.0147\n",
            "Epoch 9/300\n",
            "43/43 [==============================] - 1s 30ms/step - loss: 302.5068 - acc: 0.0123 - val_loss: 306.5959 - val_acc: 0.0182\n",
            "Epoch 10/300\n",
            "43/43 [==============================] - 1s 31ms/step - loss: 295.0462 - acc: 0.0077 - val_loss: 299.5971 - val_acc: 0.0156\n",
            "Epoch 11/300\n",
            "43/43 [==============================] - 1s 30ms/step - loss: 288.9924 - acc: 0.0091 - val_loss: 293.9469 - val_acc: 0.0139\n",
            "Epoch 12/300\n",
            "43/43 [==============================] - 1s 31ms/step - loss: 283.5113 - acc: 0.0110 - val_loss: 289.2981 - val_acc: 0.0173\n",
            "Epoch 13/300\n",
            "43/43 [==============================] - 1s 30ms/step - loss: 279.0079 - acc: 0.0183 - val_loss: 283.0813 - val_acc: 0.0165\n",
            "Epoch 14/300\n",
            "43/43 [==============================] - 1s 30ms/step - loss: 271.8565 - acc: 0.0154 - val_loss: 278.0133 - val_acc: 0.0121\n",
            "Epoch 15/300\n",
            "43/43 [==============================] - 1s 29ms/step - loss: 270.3851 - acc: 0.0166 - val_loss: 270.8758 - val_acc: 0.0199\n",
            "Epoch 16/300\n",
            "43/43 [==============================] - 1s 31ms/step - loss: 259.0375 - acc: 0.0197 - val_loss: 264.3302 - val_acc: 0.0182\n",
            "Epoch 17/300\n",
            "43/43 [==============================] - 1s 30ms/step - loss: 254.4064 - acc: 0.0186 - val_loss: 258.1344 - val_acc: 0.0173\n",
            "Epoch 18/300\n",
            "43/43 [==============================] - 1s 30ms/step - loss: 244.3759 - acc: 0.0218 - val_loss: 252.3478 - val_acc: 0.0191\n",
            "Epoch 19/300\n",
            "43/43 [==============================] - 1s 29ms/step - loss: 242.8562 - acc: 0.0214 - val_loss: 247.6232 - val_acc: 0.0243\n",
            "Epoch 20/300\n",
            "43/43 [==============================] - 1s 30ms/step - loss: 238.3876 - acc: 0.0219 - val_loss: 243.3705 - val_acc: 0.0208\n",
            "Epoch 21/300\n",
            "43/43 [==============================] - 1s 31ms/step - loss: 235.7122 - acc: 0.0273 - val_loss: 239.4187 - val_acc: 0.0208\n",
            "Epoch 22/300\n",
            "43/43 [==============================] - 1s 30ms/step - loss: 231.7206 - acc: 0.0237 - val_loss: 236.1066 - val_acc: 0.0208\n",
            "Epoch 23/300\n",
            "43/43 [==============================] - 2s 37ms/step - loss: 232.5002 - acc: 0.0264 - val_loss: 232.4124 - val_acc: 0.0182\n",
            "Epoch 24/300\n",
            "43/43 [==============================] - 1s 30ms/step - loss: 224.3327 - acc: 0.0202 - val_loss: 229.1496 - val_acc: 0.0156\n",
            "Epoch 25/300\n",
            "43/43 [==============================] - 1s 29ms/step - loss: 221.0693 - acc: 0.0237 - val_loss: 225.8023 - val_acc: 0.0191\n",
            "Epoch 26/300\n",
            "43/43 [==============================] - 1s 30ms/step - loss: 215.6042 - acc: 0.0214 - val_loss: 222.3685 - val_acc: 0.0225\n",
            "Epoch 27/300\n",
            "43/43 [==============================] - 1s 30ms/step - loss: 213.1240 - acc: 0.0247 - val_loss: 219.7206 - val_acc: 0.0173\n",
            "Epoch 28/300\n",
            "43/43 [==============================] - 1s 30ms/step - loss: 209.0564 - acc: 0.0291 - val_loss: 217.7401 - val_acc: 0.0260\n",
            "Epoch 29/300\n",
            "43/43 [==============================] - 1s 30ms/step - loss: 207.1210 - acc: 0.0282 - val_loss: 215.0954 - val_acc: 0.0191\n",
            "Epoch 30/300\n",
            "43/43 [==============================] - 1s 30ms/step - loss: 205.5187 - acc: 0.0269 - val_loss: 212.9873 - val_acc: 0.0182\n",
            "Epoch 31/300\n",
            "43/43 [==============================] - 1s 31ms/step - loss: 203.8440 - acc: 0.0255 - val_loss: 211.4864 - val_acc: 0.0208\n",
            "Epoch 32/300\n",
            "43/43 [==============================] - 1s 30ms/step - loss: 203.7138 - acc: 0.0259 - val_loss: 208.9967 - val_acc: 0.0234\n",
            "Epoch 33/300\n",
            "43/43 [==============================] - 1s 29ms/step - loss: 198.2120 - acc: 0.0243 - val_loss: 207.0984 - val_acc: 0.0260\n",
            "Epoch 34/300\n",
            "43/43 [==============================] - 1s 31ms/step - loss: 196.7561 - acc: 0.0308 - val_loss: 205.1251 - val_acc: 0.0156\n",
            "Epoch 35/300\n",
            "43/43 [==============================] - 1s 29ms/step - loss: 196.2755 - acc: 0.0239 - val_loss: 202.9266 - val_acc: 0.0208\n",
            "Epoch 36/300\n",
            "43/43 [==============================] - 1s 30ms/step - loss: 195.5226 - acc: 0.0327 - val_loss: 201.5704 - val_acc: 0.0243\n",
            "Epoch 37/300\n",
            "43/43 [==============================] - 1s 30ms/step - loss: 192.5819 - acc: 0.0277 - val_loss: 200.0213 - val_acc: 0.0269\n",
            "Epoch 38/300\n",
            "43/43 [==============================] - 1s 29ms/step - loss: 190.7200 - acc: 0.0282 - val_loss: 198.1744 - val_acc: 0.0295\n",
            "Epoch 39/300\n",
            "43/43 [==============================] - 1s 30ms/step - loss: 186.8314 - acc: 0.0284 - val_loss: 196.4336 - val_acc: 0.0277\n",
            "Epoch 40/300\n",
            "43/43 [==============================] - 2s 37ms/step - loss: 185.6543 - acc: 0.0239 - val_loss: 194.4316 - val_acc: 0.0303\n",
            "Epoch 41/300\n",
            "43/43 [==============================] - 1s 30ms/step - loss: 183.5468 - acc: 0.0234 - val_loss: 193.1472 - val_acc: 0.0295\n",
            "Epoch 42/300\n",
            "43/43 [==============================] - 1s 30ms/step - loss: 181.7866 - acc: 0.0241 - val_loss: 191.2878 - val_acc: 0.0407\n",
            "Epoch 43/300\n",
            "43/43 [==============================] - 1s 31ms/step - loss: 178.8195 - acc: 0.0373 - val_loss: 189.2990 - val_acc: 0.0355\n",
            "Epoch 44/300\n",
            "43/43 [==============================] - 1s 30ms/step - loss: 180.5696 - acc: 0.0323 - val_loss: 187.0915 - val_acc: 0.0338\n",
            "Epoch 45/300\n",
            "43/43 [==============================] - 1s 31ms/step - loss: 177.7614 - acc: 0.0404 - val_loss: 185.3869 - val_acc: 0.0364\n",
            "Epoch 46/300\n",
            "43/43 [==============================] - 1s 32ms/step - loss: 174.8989 - acc: 0.0235 - val_loss: 183.5449 - val_acc: 0.0295\n",
            "Epoch 47/300\n",
            "43/43 [==============================] - 1s 32ms/step - loss: 171.8233 - acc: 0.0215 - val_loss: 181.4103 - val_acc: 0.0399\n",
            "Epoch 48/300\n",
            "43/43 [==============================] - 1s 31ms/step - loss: 172.1785 - acc: 0.0389 - val_loss: 179.2603 - val_acc: 0.0321\n",
            "Epoch 49/300\n",
            "43/43 [==============================] - 1s 31ms/step - loss: 168.3501 - acc: 0.0282 - val_loss: 177.4011 - val_acc: 0.0373\n",
            "Epoch 50/300\n",
            "43/43 [==============================] - 1s 32ms/step - loss: 168.4814 - acc: 0.0340 - val_loss: 175.8196 - val_acc: 0.0433\n",
            "Epoch 51/300\n",
            "43/43 [==============================] - 1s 31ms/step - loss: 165.8395 - acc: 0.0308 - val_loss: 173.9886 - val_acc: 0.0390\n",
            "Epoch 52/300\n",
            "43/43 [==============================] - 1s 29ms/step - loss: 163.7809 - acc: 0.0368 - val_loss: 172.5531 - val_acc: 0.0347\n",
            "Epoch 53/300\n",
            "43/43 [==============================] - 1s 29ms/step - loss: 161.3849 - acc: 0.0346 - val_loss: 171.0682 - val_acc: 0.0364\n",
            "Epoch 54/300\n",
            "43/43 [==============================] - 1s 31ms/step - loss: 160.2735 - acc: 0.0316 - val_loss: 169.6850 - val_acc: 0.0425\n",
            "Epoch 55/300\n",
            "43/43 [==============================] - 1s 30ms/step - loss: 159.1388 - acc: 0.0347 - val_loss: 168.2447 - val_acc: 0.0407\n",
            "Epoch 56/300\n",
            "43/43 [==============================] - 1s 30ms/step - loss: 156.3338 - acc: 0.0377 - val_loss: 166.2913 - val_acc: 0.0442\n",
            "Epoch 57/300\n",
            "43/43 [==============================] - 2s 37ms/step - loss: 152.7865 - acc: 0.0388 - val_loss: 164.8591 - val_acc: 0.0442\n",
            "Epoch 58/300\n",
            "43/43 [==============================] - 1s 30ms/step - loss: 153.0958 - acc: 0.0359 - val_loss: 163.4547 - val_acc: 0.0433\n",
            "Epoch 59/300\n",
            "43/43 [==============================] - 1s 30ms/step - loss: 151.7532 - acc: 0.0341 - val_loss: 162.4055 - val_acc: 0.0390\n",
            "Epoch 60/300\n",
            "43/43 [==============================] - 1s 30ms/step - loss: 151.3390 - acc: 0.0351 - val_loss: 160.8058 - val_acc: 0.0373\n",
            "Epoch 61/300\n",
            "43/43 [==============================] - 1s 29ms/step - loss: 151.0901 - acc: 0.0395 - val_loss: 159.7432 - val_acc: 0.0433\n",
            "Epoch 62/300\n",
            "43/43 [==============================] - 1s 30ms/step - loss: 149.3386 - acc: 0.0309 - val_loss: 158.5712 - val_acc: 0.0373\n",
            "Epoch 63/300\n",
            "43/43 [==============================] - 1s 29ms/step - loss: 146.1850 - acc: 0.0399 - val_loss: 157.7155 - val_acc: 0.0347\n",
            "Epoch 64/300\n",
            "43/43 [==============================] - 1s 29ms/step - loss: 145.8884 - acc: 0.0317 - val_loss: 156.0894 - val_acc: 0.0390\n",
            "Epoch 65/300\n",
            "43/43 [==============================] - 1s 30ms/step - loss: 145.9341 - acc: 0.0355 - val_loss: 155.2563 - val_acc: 0.0407\n",
            "Epoch 66/300\n",
            "43/43 [==============================] - 1s 31ms/step - loss: 144.0989 - acc: 0.0310 - val_loss: 154.2776 - val_acc: 0.0381\n",
            "Epoch 67/300\n",
            "43/43 [==============================] - 1s 31ms/step - loss: 143.5297 - acc: 0.0381 - val_loss: 153.4813 - val_acc: 0.0381\n",
            "Epoch 68/300\n",
            "43/43 [==============================] - 1s 30ms/step - loss: 142.6245 - acc: 0.0383 - val_loss: 151.9872 - val_acc: 0.0399\n",
            "Epoch 69/300\n",
            "43/43 [==============================] - 1s 30ms/step - loss: 142.0152 - acc: 0.0281 - val_loss: 151.1666 - val_acc: 0.0407\n",
            "Epoch 70/300\n",
            "43/43 [==============================] - 1s 31ms/step - loss: 139.6450 - acc: 0.0374 - val_loss: 150.2040 - val_acc: 0.0347\n",
            "Epoch 71/300\n",
            "43/43 [==============================] - 1s 31ms/step - loss: 137.7032 - acc: 0.0363 - val_loss: 149.2050 - val_acc: 0.0373\n",
            "Epoch 72/300\n",
            "43/43 [==============================] - 1s 31ms/step - loss: 136.4005 - acc: 0.0368 - val_loss: 147.7101 - val_acc: 0.0433\n",
            "Epoch 73/300\n",
            "43/43 [==============================] - 1s 31ms/step - loss: 136.4600 - acc: 0.0389 - val_loss: 146.8958 - val_acc: 0.0355\n",
            "Epoch 74/300\n",
            "43/43 [==============================] - 1s 31ms/step - loss: 136.2846 - acc: 0.0404 - val_loss: 145.9673 - val_acc: 0.0329\n",
            "Epoch 75/300\n",
            "43/43 [==============================] - 1s 30ms/step - loss: 133.0147 - acc: 0.0399 - val_loss: 144.7624 - val_acc: 0.0364\n",
            "Epoch 76/300\n",
            "43/43 [==============================] - 1s 30ms/step - loss: 134.2701 - acc: 0.0368 - val_loss: 143.7694 - val_acc: 0.0355\n",
            "Epoch 77/300\n",
            "43/43 [==============================] - 1s 31ms/step - loss: 133.1938 - acc: 0.0311 - val_loss: 142.9823 - val_acc: 0.0295\n",
            "Epoch 78/300\n",
            "43/43 [==============================] - 1s 31ms/step - loss: 129.8094 - acc: 0.0408 - val_loss: 142.3797 - val_acc: 0.0381\n",
            "Epoch 79/300\n",
            "43/43 [==============================] - 1s 30ms/step - loss: 128.2764 - acc: 0.0414 - val_loss: 141.0210 - val_acc: 0.0347\n",
            "Epoch 80/300\n",
            "43/43 [==============================] - 1s 30ms/step - loss: 130.7227 - acc: 0.0379 - val_loss: 140.9665 - val_acc: 0.0433\n",
            "Epoch 81/300\n",
            "43/43 [==============================] - 1s 30ms/step - loss: 129.0350 - acc: 0.0404 - val_loss: 139.4378 - val_acc: 0.0347\n",
            "Epoch 82/300\n",
            "43/43 [==============================] - 1s 30ms/step - loss: 127.1167 - acc: 0.0438 - val_loss: 138.2815 - val_acc: 0.0364\n",
            "Epoch 83/300\n",
            "43/43 [==============================] - 1s 29ms/step - loss: 125.9504 - acc: 0.0502 - val_loss: 137.5754 - val_acc: 0.0407\n",
            "Epoch 84/300\n",
            "43/43 [==============================] - 1s 31ms/step - loss: 126.2691 - acc: 0.0459 - val_loss: 136.7365 - val_acc: 0.0312\n",
            "Epoch 85/300\n",
            "43/43 [==============================] - 1s 31ms/step - loss: 123.4012 - acc: 0.0387 - val_loss: 136.1041 - val_acc: 0.0390\n",
            "Epoch 86/300\n",
            "43/43 [==============================] - 1s 31ms/step - loss: 123.7658 - acc: 0.0412 - val_loss: 134.9397 - val_acc: 0.0338\n",
            "Epoch 87/300\n",
            "43/43 [==============================] - 1s 30ms/step - loss: 124.2075 - acc: 0.0440 - val_loss: 133.7671 - val_acc: 0.0321\n",
            "Epoch 88/300\n",
            "43/43 [==============================] - 2s 36ms/step - loss: 123.4665 - acc: 0.0387 - val_loss: 133.2549 - val_acc: 0.0373\n",
            "Epoch 89/300\n",
            "43/43 [==============================] - 1s 30ms/step - loss: 120.4420 - acc: 0.0455 - val_loss: 132.3132 - val_acc: 0.0338\n",
            "Epoch 90/300\n",
            "43/43 [==============================] - 1s 31ms/step - loss: 120.6537 - acc: 0.0471 - val_loss: 131.2600 - val_acc: 0.0303\n",
            "Epoch 91/300\n",
            "43/43 [==============================] - 1s 31ms/step - loss: 119.0833 - acc: 0.0517 - val_loss: 130.9642 - val_acc: 0.0373\n",
            "Epoch 92/300\n",
            "43/43 [==============================] - 1s 31ms/step - loss: 118.6554 - acc: 0.0424 - val_loss: 129.8092 - val_acc: 0.0364\n",
            "Epoch 93/300\n",
            "43/43 [==============================] - 1s 32ms/step - loss: 119.7169 - acc: 0.0488 - val_loss: 128.7469 - val_acc: 0.0347\n",
            "Epoch 94/300\n",
            "43/43 [==============================] - 1s 30ms/step - loss: 116.5647 - acc: 0.0497 - val_loss: 128.6114 - val_acc: 0.0321\n",
            "Epoch 95/300\n",
            "43/43 [==============================] - 1s 30ms/step - loss: 116.5214 - acc: 0.0457 - val_loss: 127.8419 - val_acc: 0.0347\n",
            "Epoch 96/300\n",
            "43/43 [==============================] - 1s 30ms/step - loss: 116.9692 - acc: 0.0494 - val_loss: 126.8013 - val_acc: 0.0390\n",
            "Epoch 97/300\n",
            "43/43 [==============================] - 1s 31ms/step - loss: 114.9396 - acc: 0.0480 - val_loss: 126.4291 - val_acc: 0.0373\n",
            "Epoch 98/300\n",
            "43/43 [==============================] - 1s 31ms/step - loss: 114.5903 - acc: 0.0536 - val_loss: 125.9330 - val_acc: 0.0468\n",
            "Epoch 99/300\n",
            "43/43 [==============================] - 1s 30ms/step - loss: 114.0639 - acc: 0.0428 - val_loss: 125.1220 - val_acc: 0.0399\n",
            "Epoch 100/300\n",
            "43/43 [==============================] - 1s 30ms/step - loss: 113.7825 - acc: 0.0510 - val_loss: 123.9707 - val_acc: 0.0364\n",
            "Epoch 101/300\n",
            "43/43 [==============================] - 1s 31ms/step - loss: 112.0982 - acc: 0.0551 - val_loss: 123.1706 - val_acc: 0.0329\n",
            "Epoch 102/300\n",
            "43/43 [==============================] - 1s 31ms/step - loss: 110.4147 - acc: 0.0454 - val_loss: 122.8382 - val_acc: 0.0381\n",
            "Epoch 103/300\n",
            "43/43 [==============================] - 1s 30ms/step - loss: 110.5823 - acc: 0.0510 - val_loss: 122.0083 - val_acc: 0.0425\n",
            "Epoch 104/300\n",
            "43/43 [==============================] - 1s 31ms/step - loss: 109.4385 - acc: 0.0562 - val_loss: 121.0943 - val_acc: 0.0364\n",
            "Epoch 105/300\n",
            "43/43 [==============================] - 1s 31ms/step - loss: 109.1198 - acc: 0.0543 - val_loss: 120.5371 - val_acc: 0.0373\n",
            "Epoch 106/300\n",
            "43/43 [==============================] - 1s 30ms/step - loss: 108.6800 - acc: 0.0488 - val_loss: 120.1844 - val_acc: 0.0399\n",
            "Epoch 107/300\n",
            "43/43 [==============================] - 1s 30ms/step - loss: 108.6160 - acc: 0.0522 - val_loss: 119.0218 - val_acc: 0.0468\n",
            "Epoch 108/300\n",
            "43/43 [==============================] - 1s 30ms/step - loss: 107.7584 - acc: 0.0509 - val_loss: 118.0765 - val_acc: 0.0503\n",
            "Epoch 109/300\n",
            "43/43 [==============================] - 2s 38ms/step - loss: 106.0216 - acc: 0.0623 - val_loss: 117.5842 - val_acc: 0.0433\n",
            "Epoch 110/300\n",
            "43/43 [==============================] - 1s 29ms/step - loss: 105.4145 - acc: 0.0482 - val_loss: 116.7778 - val_acc: 0.0494\n",
            "Epoch 111/300\n",
            "43/43 [==============================] - 1s 29ms/step - loss: 104.8803 - acc: 0.0435 - val_loss: 115.9175 - val_acc: 0.0477\n",
            "Epoch 112/300\n",
            "43/43 [==============================] - 1s 30ms/step - loss: 104.1083 - acc: 0.0542 - val_loss: 115.0761 - val_acc: 0.0503\n",
            "Epoch 113/300\n",
            "43/43 [==============================] - 1s 30ms/step - loss: 102.7582 - acc: 0.0612 - val_loss: 114.2865 - val_acc: 0.0451\n",
            "Epoch 114/300\n",
            "43/43 [==============================] - 1s 32ms/step - loss: 103.5288 - acc: 0.0540 - val_loss: 113.5742 - val_acc: 0.0468\n",
            "Epoch 115/300\n",
            "43/43 [==============================] - 1s 30ms/step - loss: 102.3707 - acc: 0.0568 - val_loss: 112.8822 - val_acc: 0.0494\n",
            "Epoch 116/300\n",
            "43/43 [==============================] - 1s 31ms/step - loss: 100.3758 - acc: 0.0524 - val_loss: 112.4375 - val_acc: 0.0503\n",
            "Epoch 117/300\n",
            "43/43 [==============================] - 1s 30ms/step - loss: 100.6093 - acc: 0.0569 - val_loss: 111.7187 - val_acc: 0.0555\n",
            "Epoch 118/300\n",
            "43/43 [==============================] - 1s 29ms/step - loss: 100.1000 - acc: 0.0510 - val_loss: 110.7345 - val_acc: 0.0485\n",
            "Epoch 119/300\n",
            "43/43 [==============================] - 1s 30ms/step - loss: 99.4125 - acc: 0.0588 - val_loss: 110.3363 - val_acc: 0.0494\n",
            "Epoch 120/300\n",
            "43/43 [==============================] - 1s 30ms/step - loss: 99.4420 - acc: 0.0622 - val_loss: 109.4909 - val_acc: 0.0494\n",
            "Epoch 121/300\n",
            "43/43 [==============================] - 1s 30ms/step - loss: 97.7014 - acc: 0.0602 - val_loss: 109.0675 - val_acc: 0.0468\n",
            "Epoch 122/300\n",
            "43/43 [==============================] - 1s 29ms/step - loss: 96.8468 - acc: 0.0546 - val_loss: 108.3095 - val_acc: 0.0511\n",
            "Epoch 123/300\n",
            "43/43 [==============================] - 1s 29ms/step - loss: 97.0272 - acc: 0.0605 - val_loss: 107.5612 - val_acc: 0.0546\n",
            "Epoch 124/300\n",
            "43/43 [==============================] - 1s 30ms/step - loss: 94.4038 - acc: 0.0706 - val_loss: 106.9512 - val_acc: 0.0520\n",
            "Epoch 125/300\n",
            "43/43 [==============================] - 1s 29ms/step - loss: 95.2452 - acc: 0.0728 - val_loss: 106.4725 - val_acc: 0.0581\n",
            "Epoch 126/300\n",
            "43/43 [==============================] - 1s 29ms/step - loss: 95.1213 - acc: 0.0648 - val_loss: 105.6553 - val_acc: 0.0581\n",
            "Epoch 127/300\n",
            "43/43 [==============================] - 2s 37ms/step - loss: 94.6246 - acc: 0.0685 - val_loss: 105.1724 - val_acc: 0.0546\n",
            "Epoch 128/300\n",
            "43/43 [==============================] - 1s 29ms/step - loss: 94.8571 - acc: 0.0655 - val_loss: 104.5912 - val_acc: 0.0572\n",
            "Epoch 129/300\n",
            "43/43 [==============================] - 1s 30ms/step - loss: 92.2462 - acc: 0.0716 - val_loss: 103.9776 - val_acc: 0.0572\n",
            "Epoch 130/300\n",
            "43/43 [==============================] - 1s 29ms/step - loss: 91.7120 - acc: 0.0671 - val_loss: 103.3144 - val_acc: 0.0520\n",
            "Epoch 131/300\n",
            "43/43 [==============================] - 1s 31ms/step - loss: 92.5407 - acc: 0.0585 - val_loss: 102.8178 - val_acc: 0.0546\n",
            "Epoch 132/300\n",
            "43/43 [==============================] - 1s 30ms/step - loss: 90.7561 - acc: 0.0701 - val_loss: 102.3560 - val_acc: 0.0581\n",
            "Epoch 133/300\n",
            "43/43 [==============================] - 1s 31ms/step - loss: 91.2507 - acc: 0.0709 - val_loss: 101.7828 - val_acc: 0.0572\n",
            "Epoch 134/300\n",
            "43/43 [==============================] - 1s 30ms/step - loss: 89.8971 - acc: 0.0629 - val_loss: 101.1201 - val_acc: 0.0537\n",
            "Epoch 135/300\n",
            "43/43 [==============================] - 1s 30ms/step - loss: 90.9054 - acc: 0.0627 - val_loss: 100.7472 - val_acc: 0.0529\n",
            "Epoch 136/300\n",
            "43/43 [==============================] - 1s 30ms/step - loss: 90.5052 - acc: 0.0631 - val_loss: 100.3278 - val_acc: 0.0529\n",
            "Epoch 137/300\n",
            "43/43 [==============================] - 1s 30ms/step - loss: 89.5223 - acc: 0.0704 - val_loss: 99.7312 - val_acc: 0.0563\n",
            "Epoch 138/300\n",
            "43/43 [==============================] - 1s 31ms/step - loss: 88.1464 - acc: 0.0667 - val_loss: 99.4810 - val_acc: 0.0520\n",
            "Epoch 139/300\n",
            "43/43 [==============================] - 1s 31ms/step - loss: 88.4981 - acc: 0.0671 - val_loss: 99.1699 - val_acc: 0.0624\n",
            "Epoch 140/300\n",
            "43/43 [==============================] - 1s 30ms/step - loss: 87.2240 - acc: 0.0737 - val_loss: 98.6831 - val_acc: 0.0633\n",
            "Epoch 141/300\n",
            "43/43 [==============================] - 1s 31ms/step - loss: 87.0339 - acc: 0.0762 - val_loss: 98.1140 - val_acc: 0.0676\n",
            "Epoch 142/300\n",
            "43/43 [==============================] - 1s 31ms/step - loss: 86.4924 - acc: 0.0814 - val_loss: 97.8205 - val_acc: 0.0546\n",
            "Epoch 143/300\n",
            "43/43 [==============================] - 1s 30ms/step - loss: 86.6334 - acc: 0.0700 - val_loss: 97.5349 - val_acc: 0.0563\n",
            "Epoch 144/300\n",
            "43/43 [==============================] - 2s 37ms/step - loss: 84.9323 - acc: 0.0645 - val_loss: 97.2372 - val_acc: 0.0581\n",
            "Epoch 145/300\n",
            "43/43 [==============================] - 1s 31ms/step - loss: 85.9520 - acc: 0.0729 - val_loss: 96.6645 - val_acc: 0.0598\n",
            "Epoch 146/300\n",
            "43/43 [==============================] - 1s 30ms/step - loss: 84.8038 - acc: 0.0712 - val_loss: 96.2493 - val_acc: 0.0598\n",
            "Epoch 147/300\n",
            "43/43 [==============================] - 1s 31ms/step - loss: 83.6695 - acc: 0.0796 - val_loss: 95.8683 - val_acc: 0.0633\n",
            "Epoch 148/300\n",
            "43/43 [==============================] - 1s 30ms/step - loss: 84.3764 - acc: 0.0844 - val_loss: 95.3287 - val_acc: 0.0589\n",
            "Epoch 149/300\n",
            "43/43 [==============================] - 1s 30ms/step - loss: 84.0601 - acc: 0.0699 - val_loss: 94.9906 - val_acc: 0.0624\n",
            "Epoch 150/300\n",
            "43/43 [==============================] - 1s 31ms/step - loss: 83.5163 - acc: 0.0851 - val_loss: 94.8137 - val_acc: 0.0537\n",
            "Epoch 151/300\n",
            "43/43 [==============================] - 1s 31ms/step - loss: 83.1284 - acc: 0.0738 - val_loss: 94.6844 - val_acc: 0.0589\n",
            "Epoch 152/300\n",
            "43/43 [==============================] - 1s 30ms/step - loss: 82.9956 - acc: 0.0742 - val_loss: 94.1485 - val_acc: 0.0581\n",
            "Epoch 153/300\n",
            "43/43 [==============================] - 1s 31ms/step - loss: 82.3826 - acc: 0.0837 - val_loss: 93.6666 - val_acc: 0.0520\n",
            "Epoch 154/300\n",
            "43/43 [==============================] - 1s 30ms/step - loss: 82.3669 - acc: 0.0896 - val_loss: 93.3273 - val_acc: 0.0615\n",
            "Epoch 155/300\n",
            "43/43 [==============================] - 1s 30ms/step - loss: 82.7261 - acc: 0.0731 - val_loss: 92.9970 - val_acc: 0.0650\n",
            "Epoch 156/300\n",
            "43/43 [==============================] - 1s 29ms/step - loss: 80.8509 - acc: 0.0777 - val_loss: 92.6410 - val_acc: 0.0607\n",
            "Epoch 157/300\n",
            "43/43 [==============================] - 1s 30ms/step - loss: 81.4001 - acc: 0.0798 - val_loss: 92.5716 - val_acc: 0.0589\n",
            "Epoch 158/300\n",
            "43/43 [==============================] - 1s 30ms/step - loss: 81.0535 - acc: 0.0904 - val_loss: 92.0161 - val_acc: 0.0537\n",
            "Epoch 159/300\n",
            "43/43 [==============================] - 1s 29ms/step - loss: 80.6577 - acc: 0.0801 - val_loss: 91.6837 - val_acc: 0.0676\n",
            "Epoch 160/300\n",
            "43/43 [==============================] - 1s 30ms/step - loss: 80.6825 - acc: 0.0711 - val_loss: 91.2540 - val_acc: 0.0581\n",
            "Epoch 161/300\n",
            "43/43 [==============================] - 2s 39ms/step - loss: 80.7870 - acc: 0.0854 - val_loss: 90.9002 - val_acc: 0.0615\n",
            "Epoch 162/300\n",
            "43/43 [==============================] - 1s 32ms/step - loss: 79.1785 - acc: 0.0917 - val_loss: 90.5778 - val_acc: 0.0641\n",
            "Epoch 163/300\n",
            "43/43 [==============================] - 1s 32ms/step - loss: 79.4258 - acc: 0.0868 - val_loss: 90.3794 - val_acc: 0.0650\n",
            "Epoch 164/300\n",
            "43/43 [==============================] - 1s 32ms/step - loss: 78.5425 - acc: 0.0765 - val_loss: 89.8406 - val_acc: 0.0607\n",
            "Epoch 165/300\n",
            "43/43 [==============================] - 1s 31ms/step - loss: 78.6776 - acc: 0.0927 - val_loss: 89.5466 - val_acc: 0.0650\n",
            "Epoch 166/300\n",
            "43/43 [==============================] - 1s 30ms/step - loss: 78.7242 - acc: 0.0776 - val_loss: 89.3141 - val_acc: 0.0641\n",
            "Epoch 167/300\n",
            "43/43 [==============================] - 1s 31ms/step - loss: 78.3072 - acc: 0.0761 - val_loss: 88.6335 - val_acc: 0.0615\n",
            "Epoch 168/300\n",
            "43/43 [==============================] - 1s 31ms/step - loss: 77.5939 - acc: 0.0821 - val_loss: 88.5334 - val_acc: 0.0676\n",
            "Epoch 169/300\n",
            "43/43 [==============================] - 1s 30ms/step - loss: 77.9410 - acc: 0.0861 - val_loss: 87.9986 - val_acc: 0.0711\n",
            "Epoch 170/300\n",
            "43/43 [==============================] - 1s 31ms/step - loss: 76.5954 - acc: 0.0803 - val_loss: 87.9640 - val_acc: 0.0719\n",
            "Epoch 171/300\n",
            "43/43 [==============================] - 1s 31ms/step - loss: 78.0028 - acc: 0.0853 - val_loss: 87.6553 - val_acc: 0.0719\n",
            "Epoch 172/300\n",
            "43/43 [==============================] - 1s 32ms/step - loss: 76.6038 - acc: 0.0890 - val_loss: 87.0898 - val_acc: 0.0581\n",
            "Epoch 173/300\n",
            "43/43 [==============================] - 1s 31ms/step - loss: 75.8390 - acc: 0.0871 - val_loss: 87.1517 - val_acc: 0.0581\n",
            "Epoch 174/300\n",
            "43/43 [==============================] - 1s 31ms/step - loss: 76.4956 - acc: 0.0943 - val_loss: 86.5141 - val_acc: 0.0728\n",
            "Epoch 175/300\n",
            "43/43 [==============================] - 1s 30ms/step - loss: 76.3924 - acc: 0.0888 - val_loss: 86.0386 - val_acc: 0.0745\n",
            "Epoch 176/300\n",
            "43/43 [==============================] - 1s 30ms/step - loss: 74.7144 - acc: 0.0855 - val_loss: 86.1446 - val_acc: 0.0771\n",
            "Epoch 177/300\n",
            "43/43 [==============================] - 1s 31ms/step - loss: 75.7256 - acc: 0.0954 - val_loss: 85.7670 - val_acc: 0.0719\n",
            "Epoch 178/300\n",
            "43/43 [==============================] - 1s 30ms/step - loss: 74.7387 - acc: 0.0910 - val_loss: 85.3998 - val_acc: 0.0676\n",
            "Epoch 179/300\n",
            "43/43 [==============================] - 1s 29ms/step - loss: 73.7479 - acc: 0.0928 - val_loss: 85.1043 - val_acc: 0.0676\n",
            "Epoch 180/300\n",
            "43/43 [==============================] - 1s 32ms/step - loss: 74.5927 - acc: 0.0883 - val_loss: 85.0680 - val_acc: 0.0693\n",
            "Epoch 181/300\n",
            "43/43 [==============================] - 1s 30ms/step - loss: 74.4655 - acc: 0.0932 - val_loss: 84.7522 - val_acc: 0.0659\n",
            "Epoch 182/300\n",
            "43/43 [==============================] - 1s 30ms/step - loss: 72.0257 - acc: 0.0941 - val_loss: 84.1362 - val_acc: 0.0659\n",
            "Epoch 183/300\n",
            "43/43 [==============================] - 1s 30ms/step - loss: 73.3977 - acc: 0.0889 - val_loss: 84.1626 - val_acc: 0.0745\n",
            "Epoch 184/300\n",
            "43/43 [==============================] - 1s 30ms/step - loss: 71.9529 - acc: 0.1006 - val_loss: 83.8724 - val_acc: 0.0780\n",
            "Epoch 185/300\n",
            "43/43 [==============================] - 1s 30ms/step - loss: 72.4595 - acc: 0.0961 - val_loss: 83.6406 - val_acc: 0.0685\n",
            "Epoch 186/300\n",
            "43/43 [==============================] - 1s 30ms/step - loss: 72.8104 - acc: 0.0944 - val_loss: 83.2498 - val_acc: 0.0667\n",
            "Epoch 187/300\n",
            "43/43 [==============================] - 1s 31ms/step - loss: 71.9298 - acc: 0.0901 - val_loss: 82.7346 - val_acc: 0.0763\n",
            "Epoch 188/300\n",
            "43/43 [==============================] - 1s 30ms/step - loss: 71.8384 - acc: 0.0929 - val_loss: 82.9001 - val_acc: 0.0650\n",
            "Epoch 189/300\n",
            "43/43 [==============================] - 1s 30ms/step - loss: 71.9615 - acc: 0.0892 - val_loss: 82.3655 - val_acc: 0.0754\n",
            "Epoch 190/300\n",
            "43/43 [==============================] - 1s 30ms/step - loss: 71.5619 - acc: 0.0979 - val_loss: 82.0617 - val_acc: 0.0728\n",
            "Epoch 191/300\n",
            "43/43 [==============================] - 1s 29ms/step - loss: 70.4208 - acc: 0.0888 - val_loss: 81.9216 - val_acc: 0.0633\n",
            "Epoch 192/300\n",
            "43/43 [==============================] - 1s 31ms/step - loss: 70.7716 - acc: 0.0893 - val_loss: 81.2955 - val_acc: 0.0728\n",
            "Epoch 193/300\n",
            "43/43 [==============================] - 2s 37ms/step - loss: 70.0424 - acc: 0.1024 - val_loss: 81.1838 - val_acc: 0.0745\n",
            "Epoch 194/300\n",
            "43/43 [==============================] - 1s 30ms/step - loss: 70.2793 - acc: 0.0948 - val_loss: 80.9112 - val_acc: 0.0693\n",
            "Epoch 195/300\n",
            "43/43 [==============================] - 1s 30ms/step - loss: 70.0331 - acc: 0.0966 - val_loss: 80.7816 - val_acc: 0.0771\n",
            "Epoch 196/300\n",
            "43/43 [==============================] - 1s 30ms/step - loss: 70.4002 - acc: 0.0949 - val_loss: 80.4799 - val_acc: 0.0711\n",
            "Epoch 197/300\n",
            "43/43 [==============================] - 1s 29ms/step - loss: 69.8047 - acc: 0.0988 - val_loss: 80.0998 - val_acc: 0.0763\n",
            "Epoch 198/300\n",
            "43/43 [==============================] - 1s 30ms/step - loss: 69.5903 - acc: 0.0941 - val_loss: 79.9832 - val_acc: 0.0719\n",
            "Epoch 199/300\n",
            "43/43 [==============================] - 1s 31ms/step - loss: 68.8910 - acc: 0.0942 - val_loss: 79.7221 - val_acc: 0.0823\n",
            "Epoch 200/300\n",
            "43/43 [==============================] - 1s 30ms/step - loss: 68.3354 - acc: 0.0934 - val_loss: 79.5734 - val_acc: 0.0771\n",
            "Epoch 201/300\n",
            "43/43 [==============================] - 1s 30ms/step - loss: 68.1811 - acc: 0.0954 - val_loss: 79.1058 - val_acc: 0.0711\n",
            "Epoch 202/300\n",
            "43/43 [==============================] - 1s 30ms/step - loss: 68.5656 - acc: 0.1088 - val_loss: 78.8795 - val_acc: 0.0745\n",
            "Epoch 203/300\n",
            "43/43 [==============================] - 1s 30ms/step - loss: 68.5166 - acc: 0.0945 - val_loss: 78.5305 - val_acc: 0.0815\n",
            "Epoch 204/300\n",
            "43/43 [==============================] - 1s 30ms/step - loss: 67.8227 - acc: 0.1012 - val_loss: 78.8915 - val_acc: 0.0771\n",
            "Epoch 205/300\n",
            "43/43 [==============================] - 1s 30ms/step - loss: 67.1084 - acc: 0.1074 - val_loss: 78.1584 - val_acc: 0.0763\n",
            "Epoch 206/300\n",
            "43/43 [==============================] - 1s 30ms/step - loss: 68.3351 - acc: 0.0965 - val_loss: 77.8637 - val_acc: 0.0789\n",
            "Epoch 207/300\n",
            "43/43 [==============================] - 1s 30ms/step - loss: 67.1580 - acc: 0.1038 - val_loss: 77.6817 - val_acc: 0.0763\n",
            "Epoch 208/300\n",
            "43/43 [==============================] - 1s 30ms/step - loss: 67.2537 - acc: 0.1024 - val_loss: 77.5558 - val_acc: 0.0685\n",
            "Epoch 209/300\n",
            "43/43 [==============================] - 1s 30ms/step - loss: 66.8332 - acc: 0.1108 - val_loss: 77.0389 - val_acc: 0.0875\n",
            "Epoch 210/300\n",
            "43/43 [==============================] - 1s 30ms/step - loss: 66.2108 - acc: 0.1108 - val_loss: 77.1176 - val_acc: 0.0763\n",
            "Epoch 211/300\n",
            "43/43 [==============================] - 1s 29ms/step - loss: 66.6501 - acc: 0.1025 - val_loss: 76.8362 - val_acc: 0.0806\n",
            "Epoch 212/300\n",
            "43/43 [==============================] - 1s 30ms/step - loss: 66.1485 - acc: 0.1113 - val_loss: 76.4268 - val_acc: 0.0806\n",
            "Epoch 213/300\n",
            "43/43 [==============================] - 1s 30ms/step - loss: 65.3374 - acc: 0.1037 - val_loss: 76.2131 - val_acc: 0.0763\n",
            "Epoch 214/300\n",
            "43/43 [==============================] - 2s 37ms/step - loss: 65.6285 - acc: 0.1027 - val_loss: 76.1572 - val_acc: 0.0789\n",
            "Epoch 215/300\n",
            "43/43 [==============================] - 1s 30ms/step - loss: 65.9064 - acc: 0.0936 - val_loss: 76.0786 - val_acc: 0.0745\n",
            "Epoch 216/300\n",
            "43/43 [==============================] - 1s 31ms/step - loss: 64.5315 - acc: 0.1059 - val_loss: 75.6816 - val_acc: 0.0797\n",
            "Epoch 217/300\n",
            "43/43 [==============================] - 1s 30ms/step - loss: 64.8337 - acc: 0.0962 - val_loss: 75.6456 - val_acc: 0.0789\n",
            "Epoch 218/300\n",
            "43/43 [==============================] - 1s 30ms/step - loss: 64.7015 - acc: 0.0999 - val_loss: 75.3541 - val_acc: 0.0780\n",
            "Epoch 219/300\n",
            "43/43 [==============================] - 1s 30ms/step - loss: 64.6212 - acc: 0.0973 - val_loss: 75.0705 - val_acc: 0.0823\n",
            "Epoch 220/300\n",
            "43/43 [==============================] - 1s 30ms/step - loss: 64.3927 - acc: 0.1127 - val_loss: 74.9196 - val_acc: 0.0867\n",
            "Epoch 221/300\n",
            "43/43 [==============================] - 1s 30ms/step - loss: 64.3000 - acc: 0.1037 - val_loss: 74.6965 - val_acc: 0.0728\n",
            "Epoch 222/300\n",
            "43/43 [==============================] - 1s 30ms/step - loss: 63.3179 - acc: 0.0993 - val_loss: 74.4088 - val_acc: 0.0823\n",
            "Epoch 223/300\n",
            "43/43 [==============================] - 1s 30ms/step - loss: 64.3750 - acc: 0.1010 - val_loss: 74.2248 - val_acc: 0.0823\n",
            "Epoch 224/300\n",
            "43/43 [==============================] - 1s 31ms/step - loss: 62.8835 - acc: 0.1019 - val_loss: 74.0908 - val_acc: 0.0823\n",
            "Epoch 225/300\n",
            "43/43 [==============================] - 1s 30ms/step - loss: 64.0844 - acc: 0.1156 - val_loss: 73.6416 - val_acc: 0.0867\n",
            "Epoch 226/300\n",
            "43/43 [==============================] - 1s 30ms/step - loss: 63.2169 - acc: 0.1170 - val_loss: 73.7890 - val_acc: 0.0815\n",
            "Epoch 227/300\n",
            "43/43 [==============================] - 1s 30ms/step - loss: 64.0253 - acc: 0.1084 - val_loss: 73.8055 - val_acc: 0.0832\n",
            "Epoch 228/300\n",
            "43/43 [==============================] - 1s 30ms/step - loss: 63.9229 - acc: 0.1121 - val_loss: 73.5844 - val_acc: 0.0858\n",
            "Epoch 229/300\n",
            "43/43 [==============================] - 1s 30ms/step - loss: 62.2948 - acc: 0.1156 - val_loss: 73.3801 - val_acc: 0.0849\n",
            "Epoch 230/300\n",
            "43/43 [==============================] - 1s 30ms/step - loss: 62.0012 - acc: 0.1094 - val_loss: 73.1206 - val_acc: 0.0763\n",
            "Epoch 231/300\n",
            "43/43 [==============================] - 1s 31ms/step - loss: 62.1706 - acc: 0.1043 - val_loss: 72.9091 - val_acc: 0.0806\n",
            "Epoch 232/300\n",
            "43/43 [==============================] - 2s 38ms/step - loss: 61.9446 - acc: 0.1125 - val_loss: 72.7866 - val_acc: 0.0858\n",
            "Epoch 233/300\n",
            "43/43 [==============================] - 1s 31ms/step - loss: 62.1899 - acc: 0.1108 - val_loss: 72.5697 - val_acc: 0.0858\n",
            "Epoch 234/300\n",
            "43/43 [==============================] - 1s 31ms/step - loss: 61.8533 - acc: 0.1094 - val_loss: 72.3808 - val_acc: 0.0789\n",
            "Epoch 235/300\n",
            "43/43 [==============================] - 1s 31ms/step - loss: 61.0738 - acc: 0.0991 - val_loss: 72.4291 - val_acc: 0.0815\n",
            "Epoch 236/300\n",
            "43/43 [==============================] - 1s 31ms/step - loss: 61.8306 - acc: 0.1086 - val_loss: 72.2745 - val_acc: 0.0953\n",
            "Epoch 237/300\n",
            "43/43 [==============================] - 1s 33ms/step - loss: 61.3466 - acc: 0.1201 - val_loss: 72.0810 - val_acc: 0.0849\n",
            "Epoch 238/300\n",
            "43/43 [==============================] - 1s 32ms/step - loss: 61.1650 - acc: 0.1121 - val_loss: 71.7119 - val_acc: 0.0780\n",
            "Epoch 239/300\n",
            "43/43 [==============================] - 1s 31ms/step - loss: 61.2826 - acc: 0.1121 - val_loss: 71.7314 - val_acc: 0.0806\n",
            "Epoch 240/300\n",
            "43/43 [==============================] - 1s 31ms/step - loss: 61.0178 - acc: 0.1113 - val_loss: 71.4799 - val_acc: 0.0875\n",
            "Epoch 241/300\n",
            "43/43 [==============================] - 1s 31ms/step - loss: 61.0592 - acc: 0.1119 - val_loss: 71.0757 - val_acc: 0.0875\n",
            "Epoch 242/300\n",
            "43/43 [==============================] - 1s 30ms/step - loss: 60.3072 - acc: 0.0930 - val_loss: 71.3136 - val_acc: 0.0858\n",
            "Epoch 243/300\n",
            "43/43 [==============================] - 1s 31ms/step - loss: 60.3422 - acc: 0.1084 - val_loss: 71.0107 - val_acc: 0.0919\n",
            "Epoch 244/300\n",
            "43/43 [==============================] - 1s 30ms/step - loss: 61.1958 - acc: 0.0983 - val_loss: 70.8479 - val_acc: 0.0867\n",
            "Epoch 245/300\n",
            "43/43 [==============================] - 1s 29ms/step - loss: 60.5005 - acc: 0.1057 - val_loss: 70.7552 - val_acc: 0.0884\n",
            "Epoch 246/300\n",
            "43/43 [==============================] - 1s 30ms/step - loss: 60.6325 - acc: 0.1143 - val_loss: 70.4923 - val_acc: 0.0841\n",
            "Epoch 247/300\n",
            "43/43 [==============================] - 1s 29ms/step - loss: 60.2117 - acc: 0.1022 - val_loss: 70.3583 - val_acc: 0.0867\n",
            "Epoch 248/300\n",
            "43/43 [==============================] - 1s 29ms/step - loss: 59.2310 - acc: 0.1206 - val_loss: 70.4694 - val_acc: 0.0858\n",
            "Epoch 249/300\n",
            "43/43 [==============================] - 2s 37ms/step - loss: 59.7235 - acc: 0.1119 - val_loss: 69.9943 - val_acc: 0.0858\n",
            "Epoch 250/300\n",
            "43/43 [==============================] - 1s 30ms/step - loss: 59.5936 - acc: 0.1217 - val_loss: 69.9717 - val_acc: 0.0927\n",
            "Epoch 251/300\n",
            "43/43 [==============================] - 1s 29ms/step - loss: 59.4836 - acc: 0.1236 - val_loss: 69.7482 - val_acc: 0.0910\n",
            "Epoch 252/300\n",
            "43/43 [==============================] - 1s 30ms/step - loss: 58.8288 - acc: 0.1125 - val_loss: 69.5618 - val_acc: 0.0867\n",
            "Epoch 253/300\n",
            "43/43 [==============================] - 1s 30ms/step - loss: 58.5896 - acc: 0.1045 - val_loss: 69.5598 - val_acc: 0.0945\n",
            "Epoch 254/300\n",
            "43/43 [==============================] - 1s 30ms/step - loss: 58.7484 - acc: 0.1080 - val_loss: 69.4874 - val_acc: 0.0910\n",
            "Epoch 255/300\n",
            "43/43 [==============================] - 1s 30ms/step - loss: 58.6614 - acc: 0.1141 - val_loss: 69.3655 - val_acc: 0.0858\n",
            "Epoch 256/300\n",
            "43/43 [==============================] - 1s 30ms/step - loss: 58.1301 - acc: 0.1123 - val_loss: 69.1990 - val_acc: 0.0901\n",
            "Epoch 257/300\n",
            "43/43 [==============================] - 1s 30ms/step - loss: 58.4103 - acc: 0.1091 - val_loss: 68.8934 - val_acc: 0.0849\n",
            "Epoch 258/300\n",
            "43/43 [==============================] - 1s 30ms/step - loss: 58.3703 - acc: 0.1059 - val_loss: 68.7941 - val_acc: 0.0919\n",
            "Epoch 259/300\n",
            "43/43 [==============================] - 1s 30ms/step - loss: 58.7212 - acc: 0.1116 - val_loss: 68.5043 - val_acc: 0.0945\n",
            "Epoch 260/300\n",
            "43/43 [==============================] - 1s 30ms/step - loss: 58.1109 - acc: 0.1115 - val_loss: 68.8664 - val_acc: 0.0927\n",
            "Epoch 261/300\n",
            "43/43 [==============================] - 1s 30ms/step - loss: 58.7366 - acc: 0.1158 - val_loss: 68.6008 - val_acc: 0.0953\n",
            "Epoch 262/300\n",
            "43/43 [==============================] - 1s 30ms/step - loss: 58.2639 - acc: 0.1187 - val_loss: 68.2813 - val_acc: 0.0910\n",
            "Epoch 263/300\n",
            "43/43 [==============================] - 1s 29ms/step - loss: 57.9749 - acc: 0.1038 - val_loss: 68.1267 - val_acc: 0.0884\n",
            "Epoch 264/300\n",
            "43/43 [==============================] - 1s 30ms/step - loss: 59.0979 - acc: 0.1170 - val_loss: 67.8370 - val_acc: 0.0953\n",
            "Epoch 265/300\n",
            "43/43 [==============================] - 1s 30ms/step - loss: 57.1496 - acc: 0.1211 - val_loss: 67.8160 - val_acc: 0.0875\n",
            "Epoch 266/300\n",
            "43/43 [==============================] - 2s 38ms/step - loss: 57.9758 - acc: 0.1134 - val_loss: 67.8905 - val_acc: 0.0867\n",
            "Epoch 267/300\n",
            "43/43 [==============================] - 1s 31ms/step - loss: 57.5928 - acc: 0.1253 - val_loss: 67.5968 - val_acc: 0.0919\n",
            "Epoch 268/300\n",
            "43/43 [==============================] - 1s 31ms/step - loss: 57.7137 - acc: 0.1211 - val_loss: 67.5497 - val_acc: 0.0988\n",
            "Epoch 269/300\n",
            "43/43 [==============================] - 1s 31ms/step - loss: 57.0823 - acc: 0.1231 - val_loss: 67.3738 - val_acc: 0.0971\n",
            "Epoch 270/300\n",
            "43/43 [==============================] - 1s 31ms/step - loss: 57.5258 - acc: 0.1229 - val_loss: 66.9607 - val_acc: 0.0945\n",
            "Epoch 271/300\n",
            "43/43 [==============================] - 1s 31ms/step - loss: 56.5915 - acc: 0.1113 - val_loss: 67.0232 - val_acc: 0.0936\n",
            "Epoch 272/300\n",
            "43/43 [==============================] - 1s 30ms/step - loss: 56.2199 - acc: 0.1109 - val_loss: 66.9753 - val_acc: 0.0953\n",
            "Epoch 273/300\n",
            "43/43 [==============================] - 1s 31ms/step - loss: 56.1988 - acc: 0.1216 - val_loss: 66.6955 - val_acc: 0.0910\n",
            "Epoch 274/300\n",
            "43/43 [==============================] - 1s 32ms/step - loss: 57.2351 - acc: 0.1233 - val_loss: 66.4140 - val_acc: 0.0962\n",
            "Epoch 275/300\n",
            "43/43 [==============================] - 1s 31ms/step - loss: 56.2015 - acc: 0.1103 - val_loss: 66.4607 - val_acc: 0.0962\n",
            "Epoch 276/300\n",
            "43/43 [==============================] - 1s 30ms/step - loss: 56.3647 - acc: 0.1176 - val_loss: 66.3002 - val_acc: 0.1075\n",
            "Epoch 277/300\n",
            "43/43 [==============================] - 1s 30ms/step - loss: 56.0791 - acc: 0.1094 - val_loss: 66.2763 - val_acc: 0.1083\n",
            "Epoch 278/300\n",
            "43/43 [==============================] - 1s 31ms/step - loss: 55.7580 - acc: 0.1235 - val_loss: 66.2516 - val_acc: 0.1040\n",
            "Epoch 279/300\n",
            "43/43 [==============================] - 1s 30ms/step - loss: 55.3672 - acc: 0.1174 - val_loss: 65.8306 - val_acc: 0.1040\n",
            "Epoch 280/300\n",
            "43/43 [==============================] - 1s 32ms/step - loss: 55.3013 - acc: 0.1215 - val_loss: 66.0866 - val_acc: 0.0953\n",
            "Epoch 281/300\n",
            "43/43 [==============================] - 1s 32ms/step - loss: 55.5722 - acc: 0.1240 - val_loss: 65.6893 - val_acc: 0.1014\n",
            "Epoch 282/300\n",
            "43/43 [==============================] - 1s 31ms/step - loss: 54.8941 - acc: 0.1254 - val_loss: 65.5730 - val_acc: 0.0945\n",
            "Epoch 283/300\n",
            "43/43 [==============================] - 1s 32ms/step - loss: 55.1749 - acc: 0.1154 - val_loss: 65.5339 - val_acc: 0.1057\n",
            "Epoch 284/300\n",
            "43/43 [==============================] - 1s 32ms/step - loss: 54.8904 - acc: 0.1286 - val_loss: 65.0529 - val_acc: 0.0962\n",
            "Epoch 285/300\n",
            "43/43 [==============================] - 1s 32ms/step - loss: 54.9757 - acc: 0.1129 - val_loss: 65.1547 - val_acc: 0.0945\n",
            "Epoch 286/300\n",
            "43/43 [==============================] - 1s 32ms/step - loss: 54.7287 - acc: 0.1297 - val_loss: 65.0535 - val_acc: 0.1031\n",
            "Epoch 287/300\n",
            "43/43 [==============================] - 1s 30ms/step - loss: 54.7604 - acc: 0.1219 - val_loss: 64.9811 - val_acc: 0.1005\n",
            "Epoch 288/300\n",
            "43/43 [==============================] - 1s 30ms/step - loss: 53.7599 - acc: 0.1238 - val_loss: 65.0287 - val_acc: 0.1049\n",
            "Epoch 289/300\n",
            "43/43 [==============================] - 1s 30ms/step - loss: 55.4117 - acc: 0.1144 - val_loss: 64.7998 - val_acc: 0.0962\n",
            "Epoch 290/300\n",
            "43/43 [==============================] - 1s 30ms/step - loss: 54.4941 - acc: 0.1113 - val_loss: 64.6140 - val_acc: 0.1049\n",
            "Epoch 291/300\n",
            "43/43 [==============================] - 1s 30ms/step - loss: 53.9258 - acc: 0.1232 - val_loss: 64.4681 - val_acc: 0.0971\n",
            "Epoch 292/300\n",
            "43/43 [==============================] - 1s 31ms/step - loss: 55.0047 - acc: 0.1199 - val_loss: 64.2581 - val_acc: 0.0962\n",
            "Epoch 293/300\n",
            "43/43 [==============================] - 1s 30ms/step - loss: 54.2983 - acc: 0.1308 - val_loss: 64.2402 - val_acc: 0.1109\n",
            "Epoch 294/300\n",
            "43/43 [==============================] - 1s 30ms/step - loss: 53.8384 - acc: 0.1267 - val_loss: 63.9871 - val_acc: 0.1075\n",
            "Epoch 295/300\n",
            "43/43 [==============================] - 1s 31ms/step - loss: 53.8626 - acc: 0.1195 - val_loss: 64.1419 - val_acc: 0.1023\n",
            "Epoch 296/300\n",
            "43/43 [==============================] - 1s 30ms/step - loss: 53.5524 - acc: 0.1234 - val_loss: 63.7140 - val_acc: 0.1101\n",
            "Epoch 297/300\n",
            "43/43 [==============================] - 1s 31ms/step - loss: 53.2289 - acc: 0.1307 - val_loss: 63.7606 - val_acc: 0.0919\n",
            "Epoch 298/300\n",
            "43/43 [==============================] - 2s 37ms/step - loss: 53.6869 - acc: 0.1182 - val_loss: 63.7892 - val_acc: 0.1031\n",
            "Epoch 299/300\n",
            "43/43 [==============================] - 1s 30ms/step - loss: 53.1965 - acc: 0.1202 - val_loss: 63.4482 - val_acc: 0.1031\n",
            "Epoch 300/300\n",
            "43/43 [==============================] - 1s 30ms/step - loss: 53.0883 - acc: 0.1321 - val_loss: 63.6184 - val_acc: 0.1005\n"
          ],
          "name": "stdout"
        }
      ]
    },
    {
      "cell_type": "code",
      "metadata": {
        "colab": {
          "base_uri": "https://localhost:8080/",
          "height": 533
        },
        "id": "vLEhDLE1J1Nq",
        "outputId": "0cfd026c-63f8-48d2-d8cb-9a188aa72c3d"
      },
      "source": [
        "import matplotlib.pyplot as plt\n",
        "\n",
        "plt.figure(figsize=(8,8))\n",
        "plt.title('Loss Value')\n",
        "plt.plot(history.history['loss'])\n",
        "plt.plot(history.history['val_loss'])\n",
        "plt.legend(['loss', 'val_loss'])\n",
        "print('loss:', history.history['loss'][-1])\n",
        "print('val_loss:', history.history['val_loss'][-1])"
      ],
      "execution_count": null,
      "outputs": [
        {
          "output_type": "stream",
          "text": [
            "loss: 53.34902572631836\n",
            "val_loss: 63.61843490600586\n"
          ],
          "name": "stdout"
        },
        {
          "output_type": "display_data",
          "data": {
            "image/png": "[encoded data removed]",
            "text/plain": [
              "<Figure size 576x576 with 1 Axes>"
            ]
          },
          "metadata": {
            "tags": [],
            "needs_background": "light"
          }
        }
      ]
    },
    {
      "cell_type": "code",
      "metadata": {
        "colab": {
          "base_uri": "https://localhost:8080/",
          "height": 533
        },
        "id": "pzcZH5F5L_tC",
        "outputId": "622c0820-aedc-4b3b-f737-cfe546741917"
      },
      "source": [
        "import matplotlib.pyplot as plt\n",
        "\n",
        "plt.figure(figsize=(8,8))\n",
        "plt.title('Acc Value')\n",
        "plt.plot(history.history['acc'])\n",
        "plt.plot(history.history['val_acc'])\n",
        "plt.legend(['loss', 'val_acc'])\n",
        "print('acc:', history.history['acc'][-1])\n",
        "print('val_acc:', history.history['val_acc'][-1])"
      ],
      "execution_count": null,
      "outputs": [
        {
          "output_type": "stream",
          "text": [
            "acc: 0.12407132238149643\n",
            "val_acc: 0.10051993280649185\n"
          ],
          "name": "stdout"
        },
        {
          "output_type": "display_data",
          "data": {
            "image/png": "[encoded data removed]",
            "text/plain": [
              "<Figure size 576x576 with 1 Axes>"
            ]
          },
          "metadata": {
            "tags": [],
            "needs_background": "light"
          }
        }
      ]
    },
    {
      "cell_type": "code",
      "metadata": {
        "id": "P0yO22kxllbc"
      },
      "source": [
        "encoded_mfcc = encoder.predict(val_reshaped)\n",
        "decoded_mfcc = decoder.predict(encoded_mfcc)"
      ],
      "execution_count": null,
      "outputs": []
    },
    {
      "cell_type": "code",
      "metadata": {
        "colab": {
          "base_uri": "https://localhost:8080/"
        },
        "id": "3ttvYD7j8lTA",
        "outputId": "2772af6d-2fcf-49d3-b744-19363ce54e33"
      },
      "source": [
        "decoded_mfcc.shape\n",
        "# np.isnan(decoded_mfcc).any()"
      ],
      "execution_count": null,
      "outputs": [
        {
          "output_type": "execute_result",
          "data": {
            "text/plain": [
              "(1154, 2048)"
            ]
          },
          "metadata": {
            "tags": []
          },
          "execution_count": 17
        }
      ]
    },
    {
      "cell_type": "code",
      "metadata": {
        "colab": {
          "base_uri": "https://localhost:8080/",
          "height": 469
        },
        "id": "gEpgAtng7AM5",
        "outputId": "f6ac1d17-5ab2-443c-d438-8bbc5bf58766"
      },
      "source": [
        "import matplotlib.pyplot as plt\n",
        "\n",
        "n = 5\n",
        "plt.figure(figsize=(20, 8))\n",
        "for i in range(n):\n",
        "    # Display original\n",
        "    ax = plt.subplot(2, n, i + 1)\n",
        "    librosa.display.specshow(val_reshaped[i].reshape(X.shape[1:3]).T, sr=22050)\n",
        "\n",
        "    # Display reconstruction\n",
        "    ax = plt.subplot(2, n, i + 1 + n)\n",
        "    librosa.display.specshow(decoded_mfcc[i].reshape(X.shape[1:3]).T, sr=22050)\n",
        "plt.show()"
      ],
      "execution_count": null,
      "outputs": [
        {
          "output_type": "display_data",
          "data": {
            "image/png": "[encoded data removed]",
            "text/plain": [
              "<Figure size 1440x576 with 10 Axes>"
            ]
          },
          "metadata": {
            "tags": []
          }
        }
      ]
    },
    {
      "cell_type": "code",
      "metadata": {
        "colab": {
          "base_uri": "https://localhost:8080/"
        },
        "id": "pzw6QDGp8g7Y",
        "outputId": "6a749801-d822-476a-e957-7f90b620d936"
      },
      "source": [
        "val_reshaped.shape"
      ],
      "execution_count": null,
      "outputs": [
        {
          "output_type": "execute_result",
          "data": {
            "text/plain": [
              "(1154, 2048)"
            ]
          },
          "metadata": {
            "tags": []
          },
          "execution_count": 19
        }
      ]
    },
    {
      "cell_type": "code",
      "metadata": {
        "colab": {
          "base_uri": "https://localhost:8080/"
        },
        "id": "QurkRQLzOR2h",
        "outputId": "fed16ff5-1aa5-40e3-cf7b-328dad20065d"
      },
      "source": [
        "X.shape"
      ],
      "execution_count": null,
      "outputs": [
        {
          "output_type": "execute_result",
          "data": {
            "text/plain": [
              "(3846, 128, 16, 1)"
            ]
          },
          "metadata": {
            "tags": []
          },
          "execution_count": 20
        }
      ]
    },
    {
      "cell_type": "code",
      "metadata": {
        "colab": {
          "base_uri": "https://localhost:8080/"
        },
        "id": "2XG_0HWOOWUr",
        "outputId": "c7ebc7a2-f7c9-4269-a5df-ba54a772ed81"
      },
      "source": [
        "original_X_reshaped = X.reshape((X.shape[0], np.product(X.shape[1:])))\n",
        "original_X_reshaped.shape\n",
        "np.isnan(original_X_reshaped).any()"
      ],
      "execution_count": null,
      "outputs": [
        {
          "output_type": "execute_result",
          "data": {
            "text/plain": [
              "False"
            ]
          },
          "metadata": {
            "tags": []
          },
          "execution_count": 26
        }
      ]
    },
    {
      "cell_type": "code",
      "metadata": {
        "id": "cPY-Tnl6OmoH"
      },
      "source": [
        "reduced_X = encoder.predict(original_X_reshaped)"
      ],
      "execution_count": null,
      "outputs": []
    },
    {
      "cell_type": "code",
      "metadata": {
        "id": "EHwIvkO1OuUh",
        "colab": {
          "base_uri": "https://localhost:8080/"
        },
        "outputId": "ca48c72d-88f3-4c61-f860-3d6c3405230f"
      },
      "source": [
        "print(reduced_X.shape, np.isnan(reduced_X).any())\n",
        "all_features = np.hstack((reduced_X, other_features))"
      ],
      "execution_count": null,
      "outputs": [
        {
          "output_type": "stream",
          "text": [
            "(3846, 204) False\n"
          ],
          "name": "stdout"
        }
      ]
    },
    {
      "cell_type": "code",
      "metadata": {
        "id": "L9u3kwfYO1oH",
        "colab": {
          "base_uri": "https://localhost:8080/"
        },
        "outputId": "20997fc5-9587-406b-81ef-c079dd73179b"
      },
      "source": [
        "reduced_df = pd.DataFrame(zip(reduced_X, y), columns=['encoder_features', 'label'])\n",
        "reduced_df.to_hdf('/content/drive/MyDrive/mfcc-autoencoder-simple-reduced-10percent.h5', key='s', mode='w')"
      ],
      "execution_count": null,
      "outputs": [
        {
          "output_type": "stream",
          "text": [
            "/usr/local/lib/python3.7/dist-packages/pandas/core/generic.py:2449: PerformanceWarning: \n",
            "your performance may suffer as PyTables will pickle object types that it cannot\n",
            "map directly to c-types [inferred_type->mixed,key->block0_values] [items->Index(['encoder_features', 'label'], dtype='object')]\n",
            "\n",
            "  encoding=encoding,\n"
          ],
          "name": "stderr"
        }
      ]
    },
    {
      "cell_type": "code",
      "metadata": {
        "id": "W3rr2nQ6-ssz"
      },
      "source": [
        ""
      ],
      "execution_count": null,
      "outputs": []
    }
  ]
}