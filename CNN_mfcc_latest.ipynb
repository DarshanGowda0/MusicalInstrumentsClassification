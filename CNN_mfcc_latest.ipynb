{
  "nbformat": 4,
  "nbformat_minor": 0,
  "metadata": {
    "colab": {
      "name": "CNN-mfcc-latest.ipynb",
      "provenance": [],
      "machine_shape": "hm",
      "mount_file_id": "1HTEPwkxW4PkX2rZ8rxNMD0wsoAurfYzM",
      "authorship_tag": "ABX9TyOKpZ4ePV2HmIL7aVM/LyN+",
      "include_colab_link": true
    },
    "kernelspec": {
      "name": "python3",
      "display_name": "Python 3"
    },
    "language_info": {
      "name": "python"
    },
    "accelerator": "TPU"
  },
  "cells": [
    {
      "cell_type": "markdown",
      "metadata": {
        "id": "view-in-github",
        "colab_type": "text"
      },
      "source": [
        "<a href=\"https://colab.research.google.com/github/DarshanGowda0/MusicalInstrumentsClassification/blob/main/CNN_mfcc_latest.ipynb\" target=\"_parent\"><img src=\"https://colab.research.google.com/assets/colab-badge.svg\" alt=\"Open In Colab\"/></a>"
      ]
    },
    {
      "cell_type": "markdown",
      "metadata": {
        "id": "S398m7sh87kI"
      },
      "source": [
        "# Connect to TPU\n"
      ]
    },
    {
      "cell_type": "code",
      "metadata": {
        "colab": {
          "base_uri": "https://localhost:8080/"
        },
        "id": "7DRa5YeI2Wg7",
        "outputId": "2bf7706d-7090-4ab0-efda-6855b4a94e82"
      },
      "source": [
        "%tensorflow_version 2.x\n",
        "import tensorflow as tf\n",
        "print(\"Tensorflow version \" + tf.__version__)\n",
        "\n",
        "try:\n",
        "  tpu = tf.distribute.cluster_resolver.TPUClusterResolver()  # TPU detection\n",
        "  print('Running on TPU ', tpu.cluster_spec().as_dict()['worker'])\n",
        "except ValueError:\n",
        "  raise BaseException('ERROR: Not connected to a TPU runtime; please see the previous cell in this notebook for instructions!')\n",
        "\n",
        "tf.config.experimental_connect_to_cluster(tpu)\n",
        "tf.tpu.experimental.initialize_tpu_system(tpu)\n",
        "tpu_strategy = tf.distribute.experimental.TPUStrategy(tpu)"
      ],
      "execution_count": null,
      "outputs": [
        {
          "output_type": "stream",
          "text": [
            "Tensorflow version 2.4.1\n",
            "Running on TPU  ['10.114.90.50:8470']\n",
            "INFO:tensorflow:Initializing the TPU system: grpc://10.114.90.50:8470\n"
          ],
          "name": "stdout"
        },
        {
          "output_type": "stream",
          "text": [
            "INFO:tensorflow:Initializing the TPU system: grpc://10.114.90.50:8470\n"
          ],
          "name": "stderr"
        },
        {
          "output_type": "stream",
          "text": [
            "INFO:tensorflow:Clearing out eager caches\n"
          ],
          "name": "stdout"
        },
        {
          "output_type": "stream",
          "text": [
            "INFO:tensorflow:Clearing out eager caches\n"
          ],
          "name": "stderr"
        },
        {
          "output_type": "stream",
          "text": [
            "INFO:tensorflow:Finished initializing TPU system.\n"
          ],
          "name": "stdout"
        },
        {
          "output_type": "stream",
          "text": [
            "INFO:tensorflow:Finished initializing TPU system.\n",
            "WARNING:absl:`tf.distribute.experimental.TPUStrategy` is deprecated, please use  the non experimental symbol `tf.distribute.TPUStrategy` instead.\n"
          ],
          "name": "stderr"
        },
        {
          "output_type": "stream",
          "text": [
            "INFO:tensorflow:Found TPU system:\n"
          ],
          "name": "stdout"
        },
        {
          "output_type": "stream",
          "text": [
            "INFO:tensorflow:Found TPU system:\n"
          ],
          "name": "stderr"
        },
        {
          "output_type": "stream",
          "text": [
            "INFO:tensorflow:*** Num TPU Cores: 8\n"
          ],
          "name": "stdout"
        },
        {
          "output_type": "stream",
          "text": [
            "INFO:tensorflow:*** Num TPU Cores: 8\n"
          ],
          "name": "stderr"
        },
        {
          "output_type": "stream",
          "text": [
            "INFO:tensorflow:*** Num TPU Workers: 1\n"
          ],
          "name": "stdout"
        },
        {
          "output_type": "stream",
          "text": [
            "INFO:tensorflow:*** Num TPU Workers: 1\n"
          ],
          "name": "stderr"
        },
        {
          "output_type": "stream",
          "text": [
            "INFO:tensorflow:*** Num TPU Cores Per Worker: 8\n"
          ],
          "name": "stdout"
        },
        {
          "output_type": "stream",
          "text": [
            "INFO:tensorflow:*** Num TPU Cores Per Worker: 8\n"
          ],
          "name": "stderr"
        },
        {
          "output_type": "stream",
          "text": [
            "INFO:tensorflow:*** Available Device: _DeviceAttributes(/job:localhost/replica:0/task:0/device:CPU:0, CPU, 0, 0)\n"
          ],
          "name": "stdout"
        },
        {
          "output_type": "stream",
          "text": [
            "INFO:tensorflow:*** Available Device: _DeviceAttributes(/job:localhost/replica:0/task:0/device:CPU:0, CPU, 0, 0)\n"
          ],
          "name": "stderr"
        },
        {
          "output_type": "stream",
          "text": [
            "INFO:tensorflow:*** Available Device: _DeviceAttributes(/job:worker/replica:0/task:0/device:CPU:0, CPU, 0, 0)\n"
          ],
          "name": "stdout"
        },
        {
          "output_type": "stream",
          "text": [
            "INFO:tensorflow:*** Available Device: _DeviceAttributes(/job:worker/replica:0/task:0/device:CPU:0, CPU, 0, 0)\n"
          ],
          "name": "stderr"
        },
        {
          "output_type": "stream",
          "text": [
            "INFO:tensorflow:*** Available Device: _DeviceAttributes(/job:worker/replica:0/task:0/device:TPU:0, TPU, 0, 0)\n"
          ],
          "name": "stdout"
        },
        {
          "output_type": "stream",
          "text": [
            "INFO:tensorflow:*** Available Device: _DeviceAttributes(/job:worker/replica:0/task:0/device:TPU:0, TPU, 0, 0)\n"
          ],
          "name": "stderr"
        },
        {
          "output_type": "stream",
          "text": [
            "INFO:tensorflow:*** Available Device: _DeviceAttributes(/job:worker/replica:0/task:0/device:TPU:1, TPU, 0, 0)\n"
          ],
          "name": "stdout"
        },
        {
          "output_type": "stream",
          "text": [
            "INFO:tensorflow:*** Available Device: _DeviceAttributes(/job:worker/replica:0/task:0/device:TPU:1, TPU, 0, 0)\n"
          ],
          "name": "stderr"
        },
        {
          "output_type": "stream",
          "text": [
            "INFO:tensorflow:*** Available Device: _DeviceAttributes(/job:worker/replica:0/task:0/device:TPU:2, TPU, 0, 0)\n"
          ],
          "name": "stdout"
        },
        {
          "output_type": "stream",
          "text": [
            "INFO:tensorflow:*** Available Device: _DeviceAttributes(/job:worker/replica:0/task:0/device:TPU:2, TPU, 0, 0)\n"
          ],
          "name": "stderr"
        },
        {
          "output_type": "stream",
          "text": [
            "INFO:tensorflow:*** Available Device: _DeviceAttributes(/job:worker/replica:0/task:0/device:TPU:3, TPU, 0, 0)\n"
          ],
          "name": "stdout"
        },
        {
          "output_type": "stream",
          "text": [
            "INFO:tensorflow:*** Available Device: _DeviceAttributes(/job:worker/replica:0/task:0/device:TPU:3, TPU, 0, 0)\n"
          ],
          "name": "stderr"
        },
        {
          "output_type": "stream",
          "text": [
            "INFO:tensorflow:*** Available Device: _DeviceAttributes(/job:worker/replica:0/task:0/device:TPU:4, TPU, 0, 0)\n"
          ],
          "name": "stdout"
        },
        {
          "output_type": "stream",
          "text": [
            "INFO:tensorflow:*** Available Device: _DeviceAttributes(/job:worker/replica:0/task:0/device:TPU:4, TPU, 0, 0)\n"
          ],
          "name": "stderr"
        },
        {
          "output_type": "stream",
          "text": [
            "INFO:tensorflow:*** Available Device: _DeviceAttributes(/job:worker/replica:0/task:0/device:TPU:5, TPU, 0, 0)\n"
          ],
          "name": "stdout"
        },
        {
          "output_type": "stream",
          "text": [
            "INFO:tensorflow:*** Available Device: _DeviceAttributes(/job:worker/replica:0/task:0/device:TPU:5, TPU, 0, 0)\n"
          ],
          "name": "stderr"
        },
        {
          "output_type": "stream",
          "text": [
            "INFO:tensorflow:*** Available Device: _DeviceAttributes(/job:worker/replica:0/task:0/device:TPU:6, TPU, 0, 0)\n"
          ],
          "name": "stdout"
        },
        {
          "output_type": "stream",
          "text": [
            "INFO:tensorflow:*** Available Device: _DeviceAttributes(/job:worker/replica:0/task:0/device:TPU:6, TPU, 0, 0)\n"
          ],
          "name": "stderr"
        },
        {
          "output_type": "stream",
          "text": [
            "INFO:tensorflow:*** Available Device: _DeviceAttributes(/job:worker/replica:0/task:0/device:TPU:7, TPU, 0, 0)\n"
          ],
          "name": "stdout"
        },
        {
          "output_type": "stream",
          "text": [
            "INFO:tensorflow:*** Available Device: _DeviceAttributes(/job:worker/replica:0/task:0/device:TPU:7, TPU, 0, 0)\n"
          ],
          "name": "stderr"
        },
        {
          "output_type": "stream",
          "text": [
            "INFO:tensorflow:*** Available Device: _DeviceAttributes(/job:worker/replica:0/task:0/device:TPU_SYSTEM:0, TPU_SYSTEM, 0, 0)\n"
          ],
          "name": "stdout"
        },
        {
          "output_type": "stream",
          "text": [
            "INFO:tensorflow:*** Available Device: _DeviceAttributes(/job:worker/replica:0/task:0/device:TPU_SYSTEM:0, TPU_SYSTEM, 0, 0)\n"
          ],
          "name": "stderr"
        },
        {
          "output_type": "stream",
          "text": [
            "INFO:tensorflow:*** Available Device: _DeviceAttributes(/job:worker/replica:0/task:0/device:XLA_CPU:0, XLA_CPU, 0, 0)\n"
          ],
          "name": "stdout"
        },
        {
          "output_type": "stream",
          "text": [
            "INFO:tensorflow:*** Available Device: _DeviceAttributes(/job:worker/replica:0/task:0/device:XLA_CPU:0, XLA_CPU, 0, 0)\n"
          ],
          "name": "stderr"
        }
      ]
    },
    {
      "cell_type": "markdown",
      "metadata": {
        "id": "YWjKld859CuR"
      },
      "source": [
        "# Load preprocessed data"
      ]
    },
    {
      "cell_type": "code",
      "metadata": {
        "colab": {
          "base_uri": "https://localhost:8080/"
        },
        "id": "tcShzxg82mMZ",
        "outputId": "90a46cca-1f98-49af-8acb-b7f1922325bf"
      },
      "source": [
        "from google.colab import drive\n",
        "drive.mount('/content/drive')"
      ],
      "execution_count": null,
      "outputs": [
        {
          "output_type": "stream",
          "text": [
            "Drive already mounted at /content/drive; to attempt to forcibly remount, call drive.mount(\"/content/drive\", force_remount=True).\n"
          ],
          "name": "stdout"
        }
      ]
    },
    {
      "cell_type": "code",
      "metadata": {
        "colab": {
          "base_uri": "https://localhost:8080/"
        },
        "id": "2ypW1aUd2IYE",
        "outputId": "167f8141-89fc-4daf-8dd4-766f56d8585c"
      },
      "source": [
        "import pandas as pd\n",
        "import numpy as np\n",
        "import librosa, librosa.display\n",
        "import os\n",
        "from tqdm.notebook import tqdm\n",
        "from sklearn.preprocessing import LabelEncoder\n",
        "le = LabelEncoder()\n",
        "\n",
        "!pip install --upgrade tables\n",
        "\n",
        "df = pd.read_hdf('/content/drive/MyDrive/mfcc-16-128-and-other-features.h5', key='s', mode='r')"
      ],
      "execution_count": null,
      "outputs": [
        {
          "output_type": "stream",
          "text": [
            "Collecting tables\n",
            "\u001b[?25l  Downloading https://files.pythonhosted.org/packages/0f/cb/4097be890a773af95343389faa8c283b0d9ff606f144227a548461dcbdd5/tables-3.6.1-cp37-cp37m-manylinux1_x86_64.whl (4.3MB)\n",
            "\u001b[K     |████████████████████████████████| 4.3MB 6.2MB/s \n",
            "\u001b[?25hRequirement already satisfied, skipping upgrade: numpy>=1.9.3 in /usr/local/lib/python3.7/dist-packages (from tables) (1.19.5)\n",
            "Requirement already satisfied, skipping upgrade: numexpr>=2.6.2 in /usr/local/lib/python3.7/dist-packages (from tables) (2.7.3)\n",
            "Installing collected packages: tables\n",
            "  Found existing installation: tables 3.4.4\n",
            "    Uninstalling tables-3.4.4:\n",
            "      Successfully uninstalled tables-3.4.4\n",
            "Successfully installed tables-3.6.1\n"
          ],
          "name": "stdout"
        }
      ]
    },
    {
      "cell_type": "code",
      "metadata": {
        "id": "pjpntmC72tcb",
        "colab": {
          "base_uri": "https://localhost:8080/"
        },
        "outputId": "1728b0bc-f4b6-4c70-adf9-cdbbf385d511"
      },
      "source": [
        "from sklearn.utils import shuffle\n",
        "\n",
        "INSTRUMENTS = ['flu', 'pia', 'tru', 'gac', 'voi', 'org']\n",
        "df = df.loc[df['label'].isin(INSTRUMENTS)]\n",
        "\n",
        "df = shuffle(df)\n",
        "print(df.columns)"
      ],
      "execution_count": null,
      "outputs": [
        {
          "output_type": "stream",
          "text": [
            "Index(['mfcc', 'chroma_stft', 'rms', 'spec_centroid', 'spec_bandwidth',\n",
            "       'rolloff', 'zero_crossing_rate', 'label'],\n",
            "      dtype='object')\n"
          ],
          "name": "stdout"
        }
      ]
    },
    {
      "cell_type": "markdown",
      "metadata": {
        "id": "3BepSqzh9LY3"
      },
      "source": [
        "# Normalize the data"
      ]
    },
    {
      "cell_type": "code",
      "metadata": {
        "id": "VB4LIRBw27Z6"
      },
      "source": [
        "X, y = df['mfcc'], df['label']\n",
        "y_cat = le.fit_transform(y)\n",
        "X = np.stack([x for x in X])\n",
        "X = np.expand_dims(X, axis=-1)"
      ],
      "execution_count": null,
      "outputs": []
    },
    {
      "cell_type": "code",
      "metadata": {
        "colab": {
          "base_uri": "https://localhost:8080/"
        },
        "id": "e6BzOGBg3L40",
        "outputId": "b3e1c5e8-9684-4775-9050-8219d61388b8"
      },
      "source": [
        "from collections import Counter\n",
        "print(X.shape, Counter(y))"
      ],
      "execution_count": null,
      "outputs": [
        {
          "output_type": "stream",
          "text": [
            "(3846, 128, 16, 1) Counter({'voi': 778, 'pia': 721, 'org': 682, 'gac': 637, 'tru': 577, 'flu': 451})\n"
          ],
          "name": "stdout"
        }
      ]
    },
    {
      "cell_type": "code",
      "metadata": {
        "id": "NkEqGKIE3YAt"
      },
      "source": [
        "mean = np.mean(X, axis=(1,2), keepdims=True)\n",
        "std = np.std(X, axis=(1,2), keepdims=True)\n",
        "X_std = (X - mean) / std"
      ],
      "execution_count": null,
      "outputs": []
    },
    {
      "cell_type": "markdown",
      "metadata": {
        "id": "x1gTySB69PaM"
      },
      "source": [
        "## Split train and test"
      ]
    },
    {
      "cell_type": "code",
      "metadata": {
        "colab": {
          "base_uri": "https://localhost:8080/"
        },
        "id": "Yj3OOJjy6Yuh",
        "outputId": "f17552bf-282a-42c0-83b6-4d4af729c86e"
      },
      "source": [
        "from sklearn.model_selection import train_test_split\n",
        "import tensorflow.keras as keras\n",
        "\n",
        "X_train, X_test, y_train, y_test = train_test_split(X_std, y_cat, test_size=0.15)\n",
        "X_train.shape, y_train.shape, X_test.shape"
      ],
      "execution_count": null,
      "outputs": [
        {
          "output_type": "execute_result",
          "data": {
            "text/plain": [
              "((3269, 128, 16, 1), (3269,), (577, 128, 16, 1))"
            ]
          },
          "metadata": {
            "tags": []
          },
          "execution_count": 11
        }
      ]
    },
    {
      "cell_type": "markdown",
      "metadata": {
        "id": "C2pS9tl49S59"
      },
      "source": [
        "# CNN Model"
      ]
    },
    {
      "cell_type": "code",
      "metadata": {
        "id": "7HLGambD6qmJ"
      },
      "source": [
        "def create_model():\n",
        "\n",
        "  model = keras.Sequential([\n",
        "                            keras.layers.Conv2D(filters=32, kernel_size=(3,3),\n",
        "                                                padding='same', activation='relu',\n",
        "                                                input_shape=(X.shape[1], X.shape[2], 1),\n",
        "                                                # activity_regularizer=keras.regularizers.l2(0.005)\n",
        "                                                ),\n",
        "\n",
        "                            keras.layers.MaxPool2D(pool_size=(2,2)),\n",
        "\n",
        "                            keras.layers.Dropout(0.25),\n",
        "\n",
        "                            keras.layers.Conv2D(filters=64, kernel_size=(3,3),\n",
        "                                                padding='same', activation='relu',\n",
        "                                                # activity_regularizer=keras.regularizers.l2(0.005),\n",
        "                                                ),\n",
        "\n",
        "                            keras.layers.MaxPool2D(pool_size=(2,2)),\n",
        "\n",
        "                            keras.layers.Dropout(0.25),\n",
        "\n",
        "                            # keras.layers.Conv2D(filters=128, kernel_size=(3,3),\n",
        "                            #                     padding='same', activation='relu',\n",
        "                            #                     # activity_regularizer=keras.regularizers.l2(0.005)\n",
        "                            #                     ),\n",
        "\n",
        "                            # keras.layers.MaxPool2D(pool_size=(2,2)),\n",
        "\n",
        "                            # keras.layers.Dropout(0.25),\n",
        "\n",
        "                            # keras.layers.GlobalMaxPool2D(),\n",
        "\n",
        "                            # keras.layers.Dropout(0.25),\n",
        "\n",
        "                            keras.layers.Flatten(),\n",
        "\n",
        "                            keras.layers.Dense(256, activation='relu', \n",
        "                                              #  activity_regularizer=keras.regularizers.l2(0.001)\n",
        "                                               ),\n",
        "\n",
        "                            keras.layers.Dropout(0.5),\n",
        "\n",
        "                            keras.layers.Dense(11, activation='softmax')\n",
        "  ])\n",
        "\n",
        "  # optimizer = keras.optimizers.Adam(learning_rate=0.0001)\n",
        "  model.compile(optimizer='adam', loss='sparse_categorical_crossentropy', metrics=['accuracy'])\n",
        "  \n",
        "  return model"
      ],
      "execution_count": null,
      "outputs": []
    },
    {
      "cell_type": "code",
      "metadata": {
        "colab": {
          "base_uri": "https://localhost:8080/"
        },
        "id": "4_maNEh73aM5",
        "outputId": "cc5077bd-6827-4609-e643-856d20fd2932"
      },
      "source": [
        "y_test"
      ],
      "execution_count": null,
      "outputs": [
        {
          "output_type": "execute_result",
          "data": {
            "text/plain": [
              "array([2, 4, 0, 3, 4, 5, 1, 5, 2, 4, 5, 0, 4, 0, 0, 5, 2, 5, 2, 4, 5, 3,\n",
              "       4, 5, 1, 2, 2, 3, 3, 2, 2, 5, 2, 5, 3, 1, 2, 2, 4, 1, 3, 2, 0, 3,\n",
              "       5, 4, 2, 4, 2, 2, 2, 3, 5, 2, 1, 2, 2, 1, 1, 2, 2, 0, 2, 3, 1, 5,\n",
              "       2, 5, 4, 2, 0, 3, 0, 2, 0, 3, 0, 2, 5, 5, 5, 5, 3, 4, 3, 0, 4, 1,\n",
              "       0, 4, 3, 2, 4, 4, 3, 4, 5, 1, 2, 4, 3, 5, 5, 3, 1, 5, 1, 1, 1, 1,\n",
              "       0, 2, 1, 1, 4, 5, 2, 2, 5, 5, 5, 1, 0, 5, 4, 4, 5, 4, 0, 2, 4, 1,\n",
              "       5, 4, 2, 2, 3, 5, 1, 1, 1, 5, 3, 4, 5, 0, 3, 2, 0, 4, 5, 3, 5, 3,\n",
              "       3, 5, 5, 2, 5, 4, 1, 5, 1, 3, 5, 5, 3, 2, 2, 2, 1, 1, 5, 2, 5, 2,\n",
              "       4, 5, 0, 0, 4, 4, 1, 0, 4, 5, 5, 5, 3, 3, 1, 3, 4, 0, 4, 5, 3, 3,\n",
              "       2, 2, 2, 4, 0, 3, 5, 2, 3, 1, 5, 5, 5, 5, 1, 4, 3, 2, 5, 4, 4, 0,\n",
              "       5, 5, 2, 2, 1, 2, 1, 1, 3, 5, 0, 1, 3, 5, 1, 5, 0, 1, 3, 1, 0, 2,\n",
              "       5, 0, 0, 3, 2, 1, 3, 5, 5, 1, 1, 1, 3, 4, 5, 5, 3, 1, 2, 4, 5, 1,\n",
              "       4, 3, 1, 4, 3, 2, 5, 5, 1, 4, 3, 4, 3, 5, 3, 5, 1, 2, 5, 1, 2, 3,\n",
              "       0, 3, 1, 4, 1, 1, 3, 2, 1, 4, 3, 3, 0, 1, 4, 3, 3, 3, 2, 1, 3, 3,\n",
              "       3, 5, 5, 4, 3, 4, 3, 1, 2, 1, 5, 2, 4, 5, 2, 5, 3, 0, 5, 5, 0, 1,\n",
              "       2, 3, 0, 4, 4, 5, 2, 1, 5, 5, 1, 5, 4, 3, 5, 0, 1, 2, 0, 3, 5, 5,\n",
              "       4, 2, 3, 4, 4, 1, 1, 3, 0, 0, 4, 5, 3, 1, 0, 4, 2, 4, 3, 1, 0, 4,\n",
              "       5, 3, 5, 5, 1, 0, 2, 0, 3, 0, 1, 4, 2, 2, 1, 2, 5, 1, 4, 3, 1, 2,\n",
              "       2, 2, 1, 4, 4, 4, 1, 1, 0, 2, 3, 0, 3, 5, 5, 3, 2, 3, 0, 4, 5, 5,\n",
              "       5, 0, 2, 3, 0, 2, 5, 2, 3, 4, 3, 4, 3, 2, 0, 2, 2, 0, 5, 1, 3, 4,\n",
              "       2, 3, 2, 2, 5, 4, 2, 2, 5, 1, 4, 1, 5, 1, 5, 2, 1, 5, 0, 3, 2, 4,\n",
              "       4, 2, 0, 1, 5, 3, 1, 5, 3, 0, 5, 1, 1, 3, 1, 5, 4, 5, 4, 3, 4, 5,\n",
              "       3, 3, 2, 1, 0, 4, 4, 1, 2, 4, 4, 5, 5, 0, 5, 1, 5, 1, 2, 0, 1, 3,\n",
              "       3, 5, 5, 2, 3, 0, 4, 0, 1, 5, 1, 4, 2, 0, 0, 0, 1, 5, 1, 3, 4, 5,\n",
              "       4, 4, 0, 1, 4, 1, 1, 4, 1, 5, 3, 4, 0, 5, 4, 4, 1, 1, 4, 3, 2, 3,\n",
              "       5, 3, 2, 1, 3, 3, 5, 4, 4, 3, 5, 0, 4, 4, 0, 0, 1, 1, 5, 3, 1, 1,\n",
              "       1, 1, 2, 2, 1])"
            ]
          },
          "metadata": {
            "tags": []
          },
          "execution_count": 13
        }
      ]
    },
    {
      "cell_type": "code",
      "metadata": {
        "id": "eNeliP6Z7f6D"
      },
      "source": [
        "with tpu_strategy.scope():\n",
        "  model = create_model()"
      ],
      "execution_count": null,
      "outputs": []
    },
    {
      "cell_type": "code",
      "metadata": {
        "colab": {
          "base_uri": "https://localhost:8080/"
        },
        "id": "MfrlDs_k7RBu",
        "outputId": "d926c34f-bce3-4b5a-cfc3-ab915f9c55a4"
      },
      "source": [
        "model.summary()"
      ],
      "execution_count": null,
      "outputs": [
        {
          "output_type": "stream",
          "text": [
            "Model: \"sequential\"\n",
            "_________________________________________________________________\n",
            "Layer (type)                 Output Shape              Param #   \n",
            "=================================================================\n",
            "conv2d (Conv2D)              (None, 128, 16, 32)       320       \n",
            "_________________________________________________________________\n",
            "max_pooling2d (MaxPooling2D) (None, 64, 8, 32)         0         \n",
            "_________________________________________________________________\n",
            "dropout (Dropout)            (None, 64, 8, 32)         0         \n",
            "_________________________________________________________________\n",
            "conv2d_1 (Conv2D)            (None, 64, 8, 64)         18496     \n",
            "_________________________________________________________________\n",
            "max_pooling2d_1 (MaxPooling2 (None, 32, 4, 64)         0         \n",
            "_________________________________________________________________\n",
            "dropout_1 (Dropout)          (None, 32, 4, 64)         0         \n",
            "_________________________________________________________________\n",
            "flatten (Flatten)            (None, 8192)              0         \n",
            "_________________________________________________________________\n",
            "dense (Dense)                (None, 256)               2097408   \n",
            "_________________________________________________________________\n",
            "dropout_2 (Dropout)          (None, 256)               0         \n",
            "_________________________________________________________________\n",
            "dense_1 (Dense)              (None, 11)                2827      \n",
            "=================================================================\n",
            "Total params: 2,119,051\n",
            "Trainable params: 2,119,051\n",
            "Non-trainable params: 0\n",
            "_________________________________________________________________\n"
          ],
          "name": "stdout"
        }
      ]
    },
    {
      "cell_type": "code",
      "metadata": {
        "colab": {
          "base_uri": "https://localhost:8080/"
        },
        "id": "pWQoBaBx7pHZ",
        "outputId": "2cbf29b8-daa0-493c-9366-7308890a6df4"
      },
      "source": [
        "history = model.fit(X_train, y_train, validation_data=(X_test, y_test), batch_size=32, epochs=500)"
      ],
      "execution_count": null,
      "outputs": [
        {
          "output_type": "stream",
          "text": [
            "Epoch 1/500\n",
            "103/103 [==============================] - 9s 58ms/step - loss: 1.9840 - accuracy: 0.2058 - val_loss: 1.7596 - val_accuracy: 0.3102\n",
            "Epoch 2/500\n",
            "103/103 [==============================] - 2s 21ms/step - loss: 1.6539 - accuracy: 0.3229 - val_loss: 1.6735 - val_accuracy: 0.3761\n",
            "Epoch 3/500\n",
            "103/103 [==============================] - 2s 20ms/step - loss: 1.5339 - accuracy: 0.3977 - val_loss: 1.5913 - val_accuracy: 0.4107\n",
            "Epoch 4/500\n",
            "103/103 [==============================] - 2s 22ms/step - loss: 1.4386 - accuracy: 0.4386 - val_loss: 1.5361 - val_accuracy: 0.4402\n",
            "Epoch 5/500\n",
            "103/103 [==============================] - 2s 21ms/step - loss: 1.3831 - accuracy: 0.4629 - val_loss: 1.4394 - val_accuracy: 0.4783\n",
            "Epoch 6/500\n",
            "103/103 [==============================] - 2s 21ms/step - loss: 1.3660 - accuracy: 0.4861 - val_loss: 1.4192 - val_accuracy: 0.5026\n",
            "Epoch 7/500\n",
            "103/103 [==============================] - 2s 22ms/step - loss: 1.3059 - accuracy: 0.5096 - val_loss: 1.3924 - val_accuracy: 0.5754\n",
            "Epoch 8/500\n",
            "103/103 [==============================] - 2s 21ms/step - loss: 1.2655 - accuracy: 0.5254 - val_loss: 1.3362 - val_accuracy: 0.5667\n",
            "Epoch 9/500\n",
            "103/103 [==============================] - 2s 21ms/step - loss: 1.2279 - accuracy: 0.5516 - val_loss: 1.3085 - val_accuracy: 0.5893\n",
            "Epoch 10/500\n",
            "103/103 [==============================] - 2s 21ms/step - loss: 1.2144 - accuracy: 0.5408 - val_loss: 1.2464 - val_accuracy: 0.6118\n",
            "Epoch 11/500\n",
            "103/103 [==============================] - 2s 21ms/step - loss: 1.1915 - accuracy: 0.5436 - val_loss: 1.2852 - val_accuracy: 0.6031\n",
            "Epoch 12/500\n",
            "103/103 [==============================] - 2s 20ms/step - loss: 1.1714 - accuracy: 0.5616 - val_loss: 1.2235 - val_accuracy: 0.6014\n",
            "Epoch 13/500\n",
            "103/103 [==============================] - 2s 21ms/step - loss: 1.1663 - accuracy: 0.5632 - val_loss: 1.1899 - val_accuracy: 0.6222\n",
            "Epoch 14/500\n",
            "103/103 [==============================] - 2s 21ms/step - loss: 1.1410 - accuracy: 0.5696 - val_loss: 1.1600 - val_accuracy: 0.6014\n",
            "Epoch 15/500\n",
            "103/103 [==============================] - 2s 21ms/step - loss: 1.1035 - accuracy: 0.5893 - val_loss: 1.1607 - val_accuracy: 0.6308\n",
            "Epoch 16/500\n",
            "103/103 [==============================] - 2s 21ms/step - loss: 1.1291 - accuracy: 0.5711 - val_loss: 1.1350 - val_accuracy: 0.6222\n",
            "Epoch 17/500\n",
            "103/103 [==============================] - 2s 21ms/step - loss: 1.0875 - accuracy: 0.5930 - val_loss: 1.1242 - val_accuracy: 0.6326\n",
            "Epoch 18/500\n",
            "103/103 [==============================] - 2s 21ms/step - loss: 1.0560 - accuracy: 0.6000 - val_loss: 1.1607 - val_accuracy: 0.6222\n",
            "Epoch 19/500\n",
            "103/103 [==============================] - 2s 21ms/step - loss: 1.0620 - accuracy: 0.6024 - val_loss: 1.0883 - val_accuracy: 0.6378\n",
            "Epoch 20/500\n",
            "103/103 [==============================] - 2s 21ms/step - loss: 1.0389 - accuracy: 0.6162 - val_loss: 1.1045 - val_accuracy: 0.6430\n",
            "Epoch 21/500\n",
            "103/103 [==============================] - 2s 22ms/step - loss: 1.0197 - accuracy: 0.6362 - val_loss: 1.0935 - val_accuracy: 0.6412\n",
            "Epoch 22/500\n",
            "103/103 [==============================] - 2s 21ms/step - loss: 1.0286 - accuracy: 0.6171 - val_loss: 1.0735 - val_accuracy: 0.6412\n",
            "Epoch 23/500\n",
            "103/103 [==============================] - 2s 21ms/step - loss: 1.0273 - accuracy: 0.6277 - val_loss: 1.0385 - val_accuracy: 0.6638\n",
            "Epoch 24/500\n",
            "103/103 [==============================] - 2s 23ms/step - loss: 1.0087 - accuracy: 0.6277 - val_loss: 1.0449 - val_accuracy: 0.6880\n",
            "Epoch 25/500\n",
            "103/103 [==============================] - 2s 21ms/step - loss: 0.9925 - accuracy: 0.6492 - val_loss: 1.0668 - val_accuracy: 0.6482\n",
            "Epoch 26/500\n",
            "103/103 [==============================] - 2s 21ms/step - loss: 0.9895 - accuracy: 0.6407 - val_loss: 1.0104 - val_accuracy: 0.6551\n",
            "Epoch 27/500\n",
            "103/103 [==============================] - 2s 21ms/step - loss: 0.9509 - accuracy: 0.6426 - val_loss: 1.0538 - val_accuracy: 0.6776\n",
            "Epoch 28/500\n",
            "103/103 [==============================] - 2s 21ms/step - loss: 1.0038 - accuracy: 0.6350 - val_loss: 0.9851 - val_accuracy: 0.6690\n",
            "Epoch 29/500\n",
            "103/103 [==============================] - 2s 21ms/step - loss: 0.9826 - accuracy: 0.6468 - val_loss: 1.0097 - val_accuracy: 0.6828\n",
            "Epoch 30/500\n",
            "103/103 [==============================] - 2s 20ms/step - loss: 0.9430 - accuracy: 0.6588 - val_loss: 0.9728 - val_accuracy: 0.6655\n",
            "Epoch 31/500\n",
            "103/103 [==============================] - 2s 21ms/step - loss: 0.9632 - accuracy: 0.6543 - val_loss: 1.0266 - val_accuracy: 0.6412\n",
            "Epoch 32/500\n",
            "103/103 [==============================] - 2s 21ms/step - loss: 0.9836 - accuracy: 0.6349 - val_loss: 0.9681 - val_accuracy: 0.6776\n",
            "Epoch 33/500\n",
            "103/103 [==============================] - 2s 20ms/step - loss: 0.9204 - accuracy: 0.6567 - val_loss: 0.9907 - val_accuracy: 0.6620\n",
            "Epoch 34/500\n",
            "103/103 [==============================] - 2s 21ms/step - loss: 0.9392 - accuracy: 0.6559 - val_loss: 0.9464 - val_accuracy: 0.6846\n",
            "Epoch 35/500\n",
            "103/103 [==============================] - 2s 22ms/step - loss: 0.9257 - accuracy: 0.6680 - val_loss: 0.9570 - val_accuracy: 0.6863\n",
            "Epoch 36/500\n",
            "103/103 [==============================] - 2s 21ms/step - loss: 0.9309 - accuracy: 0.6652 - val_loss: 0.9718 - val_accuracy: 0.6742\n",
            "Epoch 37/500\n",
            "103/103 [==============================] - 2s 21ms/step - loss: 0.9233 - accuracy: 0.6646 - val_loss: 1.0154 - val_accuracy: 0.6534\n",
            "Epoch 38/500\n",
            "103/103 [==============================] - 2s 20ms/step - loss: 0.9269 - accuracy: 0.6564 - val_loss: 0.9186 - val_accuracy: 0.7123\n",
            "Epoch 39/500\n",
            "103/103 [==============================] - 2s 21ms/step - loss: 0.8990 - accuracy: 0.6592 - val_loss: 0.9128 - val_accuracy: 0.7158\n",
            "Epoch 40/500\n",
            "103/103 [==============================] - 2s 21ms/step - loss: 0.8903 - accuracy: 0.6665 - val_loss: 0.9024 - val_accuracy: 0.6898\n",
            "Epoch 41/500\n",
            "103/103 [==============================] - 2s 21ms/step - loss: 0.9076 - accuracy: 0.6700 - val_loss: 0.9100 - val_accuracy: 0.6950\n",
            "Epoch 42/500\n",
            "103/103 [==============================] - 2s 21ms/step - loss: 0.9247 - accuracy: 0.6528 - val_loss: 0.9326 - val_accuracy: 0.6932\n",
            "Epoch 43/500\n",
            "103/103 [==============================] - 2s 21ms/step - loss: 0.8810 - accuracy: 0.6805 - val_loss: 0.8990 - val_accuracy: 0.7036\n",
            "Epoch 44/500\n",
            "103/103 [==============================] - 2s 21ms/step - loss: 0.8521 - accuracy: 0.6840 - val_loss: 0.9292 - val_accuracy: 0.6932\n",
            "Epoch 45/500\n",
            "103/103 [==============================] - 2s 21ms/step - loss: 0.8484 - accuracy: 0.6962 - val_loss: 0.8956 - val_accuracy: 0.7210\n",
            "Epoch 46/500\n",
            "103/103 [==============================] - 2s 22ms/step - loss: 0.8556 - accuracy: 0.6810 - val_loss: 0.9089 - val_accuracy: 0.7106\n",
            "Epoch 47/500\n",
            "103/103 [==============================] - 2s 21ms/step - loss: 0.8314 - accuracy: 0.6946 - val_loss: 0.8940 - val_accuracy: 0.7106\n",
            "Epoch 48/500\n",
            "103/103 [==============================] - 2s 21ms/step - loss: 0.8503 - accuracy: 0.7047 - val_loss: 0.8776 - val_accuracy: 0.7314\n",
            "Epoch 49/500\n",
            "103/103 [==============================] - 2s 22ms/step - loss: 0.8594 - accuracy: 0.6751 - val_loss: 0.9110 - val_accuracy: 0.7088\n",
            "Epoch 50/500\n",
            "103/103 [==============================] - 2s 24ms/step - loss: 0.8428 - accuracy: 0.6927 - val_loss: 0.8663 - val_accuracy: 0.7036\n",
            "Epoch 51/500\n",
            "103/103 [==============================] - 2s 21ms/step - loss: 0.8354 - accuracy: 0.6917 - val_loss: 0.8845 - val_accuracy: 0.7140\n",
            "Epoch 52/500\n",
            "103/103 [==============================] - 2s 21ms/step - loss: 0.8281 - accuracy: 0.7011 - val_loss: 0.8429 - val_accuracy: 0.7106\n",
            "Epoch 53/500\n",
            "103/103 [==============================] - 2s 21ms/step - loss: 0.8533 - accuracy: 0.6870 - val_loss: 0.8518 - val_accuracy: 0.7140\n",
            "Epoch 54/500\n",
            "103/103 [==============================] - 2s 21ms/step - loss: 0.8554 - accuracy: 0.6875 - val_loss: 0.8605 - val_accuracy: 0.7244\n",
            "Epoch 55/500\n",
            "103/103 [==============================] - 2s 21ms/step - loss: 0.8486 - accuracy: 0.6975 - val_loss: 0.8439 - val_accuracy: 0.7262\n",
            "Epoch 56/500\n",
            "103/103 [==============================] - 2s 20ms/step - loss: 0.8283 - accuracy: 0.7027 - val_loss: 0.9096 - val_accuracy: 0.7088\n",
            "Epoch 57/500\n",
            "103/103 [==============================] - 2s 21ms/step - loss: 0.8025 - accuracy: 0.7110 - val_loss: 0.8718 - val_accuracy: 0.6950\n",
            "Epoch 58/500\n",
            "103/103 [==============================] - 2s 21ms/step - loss: 0.8014 - accuracy: 0.6944 - val_loss: 0.8536 - val_accuracy: 0.7158\n",
            "Epoch 59/500\n",
            "103/103 [==============================] - 2s 21ms/step - loss: 0.8019 - accuracy: 0.7085 - val_loss: 0.8245 - val_accuracy: 0.7418\n",
            "Epoch 60/500\n",
            "103/103 [==============================] - 2s 21ms/step - loss: 0.7914 - accuracy: 0.7063 - val_loss: 0.8668 - val_accuracy: 0.7210\n",
            "Epoch 61/500\n",
            "103/103 [==============================] - 2s 21ms/step - loss: 0.8123 - accuracy: 0.6987 - val_loss: 0.8489 - val_accuracy: 0.7262\n",
            "Epoch 62/500\n",
            "103/103 [==============================] - 2s 21ms/step - loss: 0.8051 - accuracy: 0.7045 - val_loss: 0.8574 - val_accuracy: 0.7279\n",
            "Epoch 63/500\n",
            "103/103 [==============================] - 2s 22ms/step - loss: 0.7651 - accuracy: 0.7212 - val_loss: 0.8106 - val_accuracy: 0.7244\n",
            "Epoch 64/500\n",
            "103/103 [==============================] - 2s 23ms/step - loss: 0.7993 - accuracy: 0.7000 - val_loss: 0.8537 - val_accuracy: 0.7418\n",
            "Epoch 65/500\n",
            "103/103 [==============================] - 2s 23ms/step - loss: 0.7814 - accuracy: 0.7152 - val_loss: 0.8190 - val_accuracy: 0.7366\n",
            "Epoch 66/500\n",
            "103/103 [==============================] - 2s 23ms/step - loss: 0.8047 - accuracy: 0.7127 - val_loss: 0.8240 - val_accuracy: 0.7383\n",
            "Epoch 67/500\n",
            "103/103 [==============================] - 2s 22ms/step - loss: 0.7880 - accuracy: 0.7165 - val_loss: 0.8226 - val_accuracy: 0.7314\n",
            "Epoch 68/500\n",
            "103/103 [==============================] - 2s 21ms/step - loss: 0.7567 - accuracy: 0.7332 - val_loss: 0.8364 - val_accuracy: 0.7348\n",
            "Epoch 69/500\n",
            "103/103 [==============================] - 2s 21ms/step - loss: 0.7598 - accuracy: 0.7247 - val_loss: 0.7876 - val_accuracy: 0.7556\n",
            "Epoch 70/500\n",
            "103/103 [==============================] - 2s 21ms/step - loss: 0.7563 - accuracy: 0.7378 - val_loss: 0.8263 - val_accuracy: 0.7158\n",
            "Epoch 71/500\n",
            "103/103 [==============================] - 2s 21ms/step - loss: 0.8059 - accuracy: 0.7003 - val_loss: 0.8376 - val_accuracy: 0.7210\n",
            "Epoch 72/500\n",
            "103/103 [==============================] - 2s 21ms/step - loss: 0.8079 - accuracy: 0.6999 - val_loss: 0.8397 - val_accuracy: 0.7210\n",
            "Epoch 73/500\n",
            "103/103 [==============================] - 2s 21ms/step - loss: 0.7678 - accuracy: 0.7158 - val_loss: 0.8196 - val_accuracy: 0.7296\n",
            "Epoch 74/500\n",
            "103/103 [==============================] - 2s 21ms/step - loss: 0.7604 - accuracy: 0.7153 - val_loss: 0.8109 - val_accuracy: 0.7452\n",
            "Epoch 75/500\n",
            "103/103 [==============================] - 2s 21ms/step - loss: 0.7505 - accuracy: 0.7301 - val_loss: 0.8201 - val_accuracy: 0.7331\n",
            "Epoch 76/500\n",
            "103/103 [==============================] - 2s 21ms/step - loss: 0.7948 - accuracy: 0.7203 - val_loss: 0.7914 - val_accuracy: 0.7452\n",
            "Epoch 77/500\n",
            "103/103 [==============================] - 2s 21ms/step - loss: 0.7812 - accuracy: 0.7236 - val_loss: 0.8229 - val_accuracy: 0.7574\n",
            "Epoch 78/500\n",
            "103/103 [==============================] - 2s 24ms/step - loss: 0.7536 - accuracy: 0.7295 - val_loss: 0.7990 - val_accuracy: 0.7400\n",
            "Epoch 79/500\n",
            "103/103 [==============================] - 2s 21ms/step - loss: 0.7499 - accuracy: 0.7346 - val_loss: 0.8274 - val_accuracy: 0.7348\n",
            "Epoch 80/500\n",
            "103/103 [==============================] - 2s 21ms/step - loss: 0.7544 - accuracy: 0.7238 - val_loss: 0.7866 - val_accuracy: 0.7678\n",
            "Epoch 81/500\n",
            "103/103 [==============================] - 2s 21ms/step - loss: 0.7280 - accuracy: 0.7431 - val_loss: 0.7987 - val_accuracy: 0.7435\n",
            "Epoch 82/500\n",
            "103/103 [==============================] - 2s 21ms/step - loss: 0.7808 - accuracy: 0.7168 - val_loss: 0.8102 - val_accuracy: 0.7348\n",
            "Epoch 83/500\n",
            "103/103 [==============================] - 2s 21ms/step - loss: 0.7496 - accuracy: 0.7307 - val_loss: 0.7765 - val_accuracy: 0.7556\n",
            "Epoch 84/500\n",
            "103/103 [==============================] - 2s 21ms/step - loss: 0.7252 - accuracy: 0.7271 - val_loss: 0.7853 - val_accuracy: 0.7539\n",
            "Epoch 85/500\n",
            "103/103 [==============================] - 2s 21ms/step - loss: 0.7375 - accuracy: 0.7241 - val_loss: 0.7825 - val_accuracy: 0.7383\n",
            "Epoch 86/500\n",
            "103/103 [==============================] - 2s 22ms/step - loss: 0.7038 - accuracy: 0.7486 - val_loss: 0.7532 - val_accuracy: 0.7747\n",
            "Epoch 87/500\n",
            "103/103 [==============================] - 2s 21ms/step - loss: 0.6902 - accuracy: 0.7454 - val_loss: 0.7846 - val_accuracy: 0.7556\n",
            "Epoch 88/500\n",
            "103/103 [==============================] - 2s 22ms/step - loss: 0.7112 - accuracy: 0.7451 - val_loss: 0.7733 - val_accuracy: 0.7539\n",
            "Epoch 89/500\n",
            "103/103 [==============================] - 2s 21ms/step - loss: 0.7141 - accuracy: 0.7491 - val_loss: 0.7611 - val_accuracy: 0.7747\n",
            "Epoch 90/500\n",
            "103/103 [==============================] - 2s 21ms/step - loss: 0.7103 - accuracy: 0.7409 - val_loss: 0.7690 - val_accuracy: 0.7608\n",
            "Epoch 91/500\n",
            "103/103 [==============================] - 2s 21ms/step - loss: 0.7332 - accuracy: 0.7294 - val_loss: 0.7680 - val_accuracy: 0.7556\n",
            "Epoch 92/500\n",
            "103/103 [==============================] - 2s 21ms/step - loss: 0.7527 - accuracy: 0.7338 - val_loss: 0.8054 - val_accuracy: 0.7227\n",
            "Epoch 93/500\n",
            "103/103 [==============================] - 2s 21ms/step - loss: 0.6878 - accuracy: 0.7566 - val_loss: 0.7539 - val_accuracy: 0.7574\n",
            "Epoch 94/500\n",
            "103/103 [==============================] - 2s 21ms/step - loss: 0.7218 - accuracy: 0.7415 - val_loss: 0.7520 - val_accuracy: 0.7470\n",
            "Epoch 95/500\n",
            "103/103 [==============================] - 2s 21ms/step - loss: 0.7237 - accuracy: 0.7307 - val_loss: 0.7779 - val_accuracy: 0.7452\n",
            "Epoch 96/500\n",
            "103/103 [==============================] - 2s 21ms/step - loss: 0.7022 - accuracy: 0.7432 - val_loss: 0.7446 - val_accuracy: 0.7504\n",
            "Epoch 97/500\n",
            "103/103 [==============================] - 2s 21ms/step - loss: 0.7179 - accuracy: 0.7424 - val_loss: 0.7750 - val_accuracy: 0.7574\n",
            "Epoch 98/500\n",
            "103/103 [==============================] - 2s 21ms/step - loss: 0.6776 - accuracy: 0.7608 - val_loss: 0.7582 - val_accuracy: 0.7366\n",
            "Epoch 99/500\n",
            "103/103 [==============================] - 2s 22ms/step - loss: 0.6992 - accuracy: 0.7464 - val_loss: 0.7436 - val_accuracy: 0.7660\n",
            "Epoch 100/500\n",
            "103/103 [==============================] - 2s 21ms/step - loss: 0.6724 - accuracy: 0.7495 - val_loss: 0.7462 - val_accuracy: 0.7626\n",
            "Epoch 101/500\n",
            "103/103 [==============================] - 2s 21ms/step - loss: 0.7029 - accuracy: 0.7412 - val_loss: 0.7628 - val_accuracy: 0.7470\n",
            "Epoch 102/500\n",
            "103/103 [==============================] - 2s 21ms/step - loss: 0.6613 - accuracy: 0.7697 - val_loss: 0.7366 - val_accuracy: 0.7591\n",
            "Epoch 103/500\n",
            "103/103 [==============================] - 2s 21ms/step - loss: 0.6797 - accuracy: 0.7542 - val_loss: 0.7523 - val_accuracy: 0.7608\n",
            "Epoch 104/500\n",
            "103/103 [==============================] - 2s 21ms/step - loss: 0.7305 - accuracy: 0.7314 - val_loss: 0.7374 - val_accuracy: 0.7487\n",
            "Epoch 105/500\n",
            "103/103 [==============================] - 2s 21ms/step - loss: 0.6899 - accuracy: 0.7369 - val_loss: 0.7826 - val_accuracy: 0.7556\n",
            "Epoch 106/500\n",
            "103/103 [==============================] - 2s 21ms/step - loss: 0.7164 - accuracy: 0.7363 - val_loss: 0.7377 - val_accuracy: 0.7504\n",
            "Epoch 107/500\n",
            "103/103 [==============================] - 2s 21ms/step - loss: 0.7060 - accuracy: 0.7442 - val_loss: 0.7271 - val_accuracy: 0.7626\n",
            "Epoch 108/500\n",
            "103/103 [==============================] - 2s 21ms/step - loss: 0.6860 - accuracy: 0.7429 - val_loss: 0.7835 - val_accuracy: 0.7314\n",
            "Epoch 109/500\n",
            "103/103 [==============================] - 2s 21ms/step - loss: 0.6566 - accuracy: 0.7658 - val_loss: 0.7378 - val_accuracy: 0.7591\n",
            "Epoch 110/500\n",
            "103/103 [==============================] - 2s 22ms/step - loss: 0.6451 - accuracy: 0.7649 - val_loss: 0.7065 - val_accuracy: 0.7591\n",
            "Epoch 111/500\n",
            "103/103 [==============================] - 2s 22ms/step - loss: 0.6789 - accuracy: 0.7561 - val_loss: 0.7416 - val_accuracy: 0.7643\n",
            "Epoch 112/500\n",
            "103/103 [==============================] - 2s 22ms/step - loss: 0.6853 - accuracy: 0.7557 - val_loss: 0.7236 - val_accuracy: 0.7556\n",
            "Epoch 113/500\n",
            "103/103 [==============================] - 2s 21ms/step - loss: 0.6788 - accuracy: 0.7489 - val_loss: 0.7253 - val_accuracy: 0.7643\n",
            "Epoch 114/500\n",
            "103/103 [==============================] - 2s 24ms/step - loss: 0.6640 - accuracy: 0.7690 - val_loss: 0.7367 - val_accuracy: 0.7747\n",
            "Epoch 115/500\n",
            "103/103 [==============================] - 2s 21ms/step - loss: 0.6604 - accuracy: 0.7615 - val_loss: 0.7651 - val_accuracy: 0.7522\n",
            "Epoch 116/500\n",
            "103/103 [==============================] - 2s 21ms/step - loss: 0.6603 - accuracy: 0.7653 - val_loss: 0.7824 - val_accuracy: 0.7279\n",
            "Epoch 117/500\n",
            "103/103 [==============================] - 2s 21ms/step - loss: 0.6931 - accuracy: 0.7502 - val_loss: 0.7337 - val_accuracy: 0.7504\n",
            "Epoch 118/500\n",
            "103/103 [==============================] - 2s 21ms/step - loss: 0.6986 - accuracy: 0.7514 - val_loss: 0.7348 - val_accuracy: 0.7574\n",
            "Epoch 119/500\n",
            "103/103 [==============================] - 2s 20ms/step - loss: 0.6869 - accuracy: 0.7557 - val_loss: 0.7052 - val_accuracy: 0.7834\n",
            "Epoch 120/500\n",
            "103/103 [==============================] - 2s 21ms/step - loss: 0.6893 - accuracy: 0.7432 - val_loss: 0.7372 - val_accuracy: 0.7608\n",
            "Epoch 121/500\n",
            "103/103 [==============================] - 2s 21ms/step - loss: 0.6832 - accuracy: 0.7481 - val_loss: 0.7591 - val_accuracy: 0.7695\n",
            "Epoch 122/500\n",
            "103/103 [==============================] - 2s 21ms/step - loss: 0.6453 - accuracy: 0.7598 - val_loss: 0.7520 - val_accuracy: 0.7626\n",
            "Epoch 123/500\n",
            "103/103 [==============================] - 2s 21ms/step - loss: 0.6345 - accuracy: 0.7720 - val_loss: 0.7340 - val_accuracy: 0.7591\n",
            "Epoch 124/500\n",
            "103/103 [==============================] - 2s 21ms/step - loss: 0.7034 - accuracy: 0.7424 - val_loss: 0.7894 - val_accuracy: 0.7452\n",
            "Epoch 125/500\n",
            "103/103 [==============================] - 2s 21ms/step - loss: 0.6587 - accuracy: 0.7560 - val_loss: 0.7060 - val_accuracy: 0.7938\n",
            "Epoch 126/500\n",
            "103/103 [==============================] - 2s 21ms/step - loss: 0.6885 - accuracy: 0.7557 - val_loss: 0.7117 - val_accuracy: 0.7695\n",
            "Epoch 127/500\n",
            "103/103 [==============================] - 2s 21ms/step - loss: 0.6446 - accuracy: 0.7649 - val_loss: 0.7012 - val_accuracy: 0.7712\n",
            "Epoch 128/500\n",
            "103/103 [==============================] - 2s 21ms/step - loss: 0.6570 - accuracy: 0.7706 - val_loss: 0.7377 - val_accuracy: 0.7522\n",
            "Epoch 129/500\n",
            "103/103 [==============================] - 2s 21ms/step - loss: 0.6230 - accuracy: 0.7681 - val_loss: 0.7124 - val_accuracy: 0.7782\n",
            "Epoch 130/500\n",
            "103/103 [==============================] - 2s 21ms/step - loss: 0.6709 - accuracy: 0.7508 - val_loss: 0.7031 - val_accuracy: 0.7886\n",
            "Epoch 131/500\n",
            "103/103 [==============================] - 2s 21ms/step - loss: 0.6414 - accuracy: 0.7807 - val_loss: 0.6881 - val_accuracy: 0.7851\n",
            "Epoch 132/500\n",
            "103/103 [==============================] - 2s 21ms/step - loss: 0.6803 - accuracy: 0.7635 - val_loss: 0.7350 - val_accuracy: 0.7608\n",
            "Epoch 133/500\n",
            "103/103 [==============================] - 2s 24ms/step - loss: 0.6811 - accuracy: 0.7544 - val_loss: 0.7848 - val_accuracy: 0.7314\n",
            "Epoch 134/500\n",
            "103/103 [==============================] - 2s 21ms/step - loss: 0.7022 - accuracy: 0.7572 - val_loss: 0.7048 - val_accuracy: 0.7660\n",
            "Epoch 135/500\n",
            "103/103 [==============================] - 2s 21ms/step - loss: 0.6718 - accuracy: 0.7600 - val_loss: 0.7283 - val_accuracy: 0.7574\n",
            "Epoch 136/500\n",
            "103/103 [==============================] - 2s 21ms/step - loss: 0.6837 - accuracy: 0.7418 - val_loss: 0.7307 - val_accuracy: 0.7591\n",
            "Epoch 137/500\n",
            "103/103 [==============================] - 2s 21ms/step - loss: 0.6330 - accuracy: 0.7672 - val_loss: 0.7440 - val_accuracy: 0.7418\n",
            "Epoch 138/500\n",
            "103/103 [==============================] - 2s 22ms/step - loss: 0.6558 - accuracy: 0.7636 - val_loss: 0.7563 - val_accuracy: 0.7608\n",
            "Epoch 139/500\n",
            "103/103 [==============================] - 2s 21ms/step - loss: 0.6568 - accuracy: 0.7438 - val_loss: 0.7025 - val_accuracy: 0.7816\n",
            "Epoch 140/500\n",
            "103/103 [==============================] - 2s 21ms/step - loss: 0.6421 - accuracy: 0.7612 - val_loss: 0.6926 - val_accuracy: 0.7834\n",
            "Epoch 141/500\n",
            "103/103 [==============================] - 2s 21ms/step - loss: 0.6403 - accuracy: 0.7612 - val_loss: 0.7015 - val_accuracy: 0.7764\n",
            "Epoch 142/500\n",
            "103/103 [==============================] - 2s 21ms/step - loss: 0.6467 - accuracy: 0.7523 - val_loss: 0.6876 - val_accuracy: 0.7868\n",
            "Epoch 143/500\n",
            "103/103 [==============================] - 2s 21ms/step - loss: 0.6543 - accuracy: 0.7586 - val_loss: 0.7026 - val_accuracy: 0.7799\n",
            "Epoch 144/500\n",
            "103/103 [==============================] - 2s 21ms/step - loss: 0.6181 - accuracy: 0.7817 - val_loss: 0.7025 - val_accuracy: 0.7730\n",
            "Epoch 145/500\n",
            "103/103 [==============================] - 2s 21ms/step - loss: 0.6465 - accuracy: 0.7678 - val_loss: 0.6970 - val_accuracy: 0.7851\n",
            "Epoch 146/500\n",
            "103/103 [==============================] - 2s 23ms/step - loss: 0.6773 - accuracy: 0.7580 - val_loss: 0.7336 - val_accuracy: 0.7574\n",
            "Epoch 147/500\n",
            "103/103 [==============================] - 2s 21ms/step - loss: 0.6146 - accuracy: 0.7774 - val_loss: 0.7074 - val_accuracy: 0.7695\n",
            "Epoch 148/500\n",
            "103/103 [==============================] - 2s 21ms/step - loss: 0.6420 - accuracy: 0.7675 - val_loss: 0.7212 - val_accuracy: 0.7712\n",
            "Epoch 149/500\n",
            "103/103 [==============================] - 2s 21ms/step - loss: 0.6171 - accuracy: 0.7772 - val_loss: 0.7318 - val_accuracy: 0.7660\n",
            "Epoch 150/500\n",
            "103/103 [==============================] - 2s 23ms/step - loss: 0.6353 - accuracy: 0.7656 - val_loss: 0.7105 - val_accuracy: 0.7591\n",
            "Epoch 151/500\n",
            "103/103 [==============================] - 2s 20ms/step - loss: 0.6201 - accuracy: 0.7914 - val_loss: 0.6717 - val_accuracy: 0.7886\n",
            "Epoch 152/500\n",
            "103/103 [==============================] - 2s 21ms/step - loss: 0.6473 - accuracy: 0.7554 - val_loss: 0.7294 - val_accuracy: 0.7522\n",
            "Epoch 153/500\n",
            "103/103 [==============================] - 2s 21ms/step - loss: 0.6456 - accuracy: 0.7677 - val_loss: 0.6994 - val_accuracy: 0.7643\n",
            "Epoch 154/500\n",
            "103/103 [==============================] - 2s 21ms/step - loss: 0.6136 - accuracy: 0.7867 - val_loss: 0.7099 - val_accuracy: 0.7695\n",
            "Epoch 155/500\n",
            "103/103 [==============================] - 2s 21ms/step - loss: 0.6331 - accuracy: 0.7656 - val_loss: 0.6947 - val_accuracy: 0.7712\n",
            "Epoch 156/500\n",
            "103/103 [==============================] - 2s 20ms/step - loss: 0.6101 - accuracy: 0.7826 - val_loss: 0.7080 - val_accuracy: 0.7608\n",
            "Epoch 157/500\n",
            "103/103 [==============================] - 2s 21ms/step - loss: 0.6331 - accuracy: 0.7682 - val_loss: 0.7188 - val_accuracy: 0.7764\n",
            "Epoch 158/500\n",
            "103/103 [==============================] - 2s 21ms/step - loss: 0.6149 - accuracy: 0.7877 - val_loss: 0.6864 - val_accuracy: 0.7886\n",
            "Epoch 159/500\n",
            "103/103 [==============================] - 2s 21ms/step - loss: 0.6113 - accuracy: 0.7752 - val_loss: 0.7226 - val_accuracy: 0.7591\n",
            "Epoch 160/500\n",
            "103/103 [==============================] - 2s 21ms/step - loss: 0.6048 - accuracy: 0.7788 - val_loss: 0.7676 - val_accuracy: 0.7210\n",
            "Epoch 161/500\n",
            "103/103 [==============================] - 2s 21ms/step - loss: 0.6283 - accuracy: 0.7763 - val_loss: 0.7266 - val_accuracy: 0.7556\n",
            "Epoch 162/500\n",
            "103/103 [==============================] - 2s 21ms/step - loss: 0.6231 - accuracy: 0.7689 - val_loss: 0.7016 - val_accuracy: 0.7730\n",
            "Epoch 163/500\n",
            "103/103 [==============================] - 2s 21ms/step - loss: 0.6396 - accuracy: 0.7639 - val_loss: 0.6987 - val_accuracy: 0.7851\n",
            "Epoch 164/500\n",
            "103/103 [==============================] - 2s 21ms/step - loss: 0.6188 - accuracy: 0.7782 - val_loss: 0.6940 - val_accuracy: 0.7695\n",
            "Epoch 165/500\n",
            "103/103 [==============================] - 2s 21ms/step - loss: 0.6196 - accuracy: 0.7797 - val_loss: 0.7494 - val_accuracy: 0.7314\n",
            "Epoch 166/500\n",
            "103/103 [==============================] - 2s 21ms/step - loss: 0.6118 - accuracy: 0.7793 - val_loss: 0.7010 - val_accuracy: 0.7591\n",
            "Epoch 167/500\n",
            "103/103 [==============================] - 2s 21ms/step - loss: 0.6052 - accuracy: 0.7801 - val_loss: 0.6628 - val_accuracy: 0.7990\n",
            "Epoch 168/500\n",
            "103/103 [==============================] - 2s 22ms/step - loss: 0.6096 - accuracy: 0.7812 - val_loss: 0.6704 - val_accuracy: 0.7799\n",
            "Epoch 169/500\n",
            "103/103 [==============================] - 2s 21ms/step - loss: 0.6050 - accuracy: 0.7937 - val_loss: 0.6826 - val_accuracy: 0.7764\n",
            "Epoch 170/500\n",
            "103/103 [==============================] - 2s 21ms/step - loss: 0.5925 - accuracy: 0.7821 - val_loss: 0.7007 - val_accuracy: 0.7695\n",
            "Epoch 171/500\n",
            "103/103 [==============================] - 2s 21ms/step - loss: 0.6334 - accuracy: 0.7792 - val_loss: 0.7361 - val_accuracy: 0.7522\n",
            "Epoch 172/500\n",
            "103/103 [==============================] - 2s 21ms/step - loss: 0.6458 - accuracy: 0.7613 - val_loss: 0.7260 - val_accuracy: 0.7730\n",
            "Epoch 173/500\n",
            "103/103 [==============================] - 2s 21ms/step - loss: 0.6382 - accuracy: 0.7717 - val_loss: 0.7437 - val_accuracy: 0.7730\n",
            "Epoch 174/500\n",
            "103/103 [==============================] - 2s 20ms/step - loss: 0.6382 - accuracy: 0.7708 - val_loss: 0.6728 - val_accuracy: 0.7851\n",
            "Epoch 175/500\n",
            "103/103 [==============================] - 2s 21ms/step - loss: 0.6151 - accuracy: 0.7735 - val_loss: 0.7354 - val_accuracy: 0.7712\n",
            "Epoch 176/500\n",
            "103/103 [==============================] - 2s 21ms/step - loss: 0.5816 - accuracy: 0.7799 - val_loss: 0.6942 - val_accuracy: 0.7834\n",
            "Epoch 177/500\n",
            "103/103 [==============================] - 2s 21ms/step - loss: 0.6160 - accuracy: 0.7811 - val_loss: 0.6962 - val_accuracy: 0.7712\n",
            "Epoch 178/500\n",
            "103/103 [==============================] - 2s 21ms/step - loss: 0.6065 - accuracy: 0.7819 - val_loss: 0.6941 - val_accuracy: 0.7712\n",
            "Epoch 179/500\n",
            "103/103 [==============================] - 2s 21ms/step - loss: 0.6489 - accuracy: 0.7597 - val_loss: 0.6714 - val_accuracy: 0.7799\n",
            "Epoch 180/500\n",
            "103/103 [==============================] - 2s 22ms/step - loss: 0.6397 - accuracy: 0.7690 - val_loss: 0.7006 - val_accuracy: 0.7764\n",
            "Epoch 181/500\n",
            "103/103 [==============================] - 2s 22ms/step - loss: 0.5958 - accuracy: 0.7866 - val_loss: 0.6740 - val_accuracy: 0.7851\n",
            "Epoch 182/500\n",
            "103/103 [==============================] - 2s 21ms/step - loss: 0.5813 - accuracy: 0.7885 - val_loss: 0.6840 - val_accuracy: 0.7868\n",
            "Epoch 183/500\n",
            "103/103 [==============================] - 2s 21ms/step - loss: 0.6036 - accuracy: 0.7893 - val_loss: 0.6822 - val_accuracy: 0.8076\n",
            "Epoch 184/500\n",
            "103/103 [==============================] - 2s 21ms/step - loss: 0.6240 - accuracy: 0.7618 - val_loss: 0.6787 - val_accuracy: 0.7886\n",
            "Epoch 185/500\n",
            "103/103 [==============================] - 2s 21ms/step - loss: 0.5731 - accuracy: 0.7858 - val_loss: 0.6516 - val_accuracy: 0.7816\n",
            "Epoch 186/500\n",
            "103/103 [==============================] - 2s 24ms/step - loss: 0.6182 - accuracy: 0.7726 - val_loss: 0.7347 - val_accuracy: 0.7730\n",
            "Epoch 187/500\n",
            "103/103 [==============================] - 2s 21ms/step - loss: 0.6077 - accuracy: 0.7842 - val_loss: 0.7143 - val_accuracy: 0.7782\n",
            "Epoch 188/500\n",
            "103/103 [==============================] - 2s 21ms/step - loss: 0.6313 - accuracy: 0.7761 - val_loss: 0.6857 - val_accuracy: 0.7834\n",
            "Epoch 189/500\n",
            "103/103 [==============================] - 2s 21ms/step - loss: 0.6044 - accuracy: 0.7814 - val_loss: 0.6742 - val_accuracy: 0.7799\n",
            "Epoch 190/500\n",
            "103/103 [==============================] - 2s 21ms/step - loss: 0.6008 - accuracy: 0.7646 - val_loss: 0.7036 - val_accuracy: 0.7678\n",
            "Epoch 191/500\n",
            "103/103 [==============================] - 2s 21ms/step - loss: 0.5896 - accuracy: 0.7913 - val_loss: 0.6913 - val_accuracy: 0.7868\n",
            "Epoch 192/500\n",
            "103/103 [==============================] - 2s 21ms/step - loss: 0.6345 - accuracy: 0.7714 - val_loss: 0.6933 - val_accuracy: 0.7764\n",
            "Epoch 193/500\n",
            "103/103 [==============================] - 2s 21ms/step - loss: 0.5830 - accuracy: 0.7910 - val_loss: 0.6639 - val_accuracy: 0.7886\n",
            "Epoch 194/500\n",
            "103/103 [==============================] - 2s 21ms/step - loss: 0.5913 - accuracy: 0.7821 - val_loss: 0.6783 - val_accuracy: 0.7868\n",
            "Epoch 195/500\n",
            "103/103 [==============================] - 2s 21ms/step - loss: 0.5836 - accuracy: 0.7787 - val_loss: 0.6536 - val_accuracy: 0.7816\n",
            "Epoch 196/500\n",
            "103/103 [==============================] - 2s 21ms/step - loss: 0.5981 - accuracy: 0.7819 - val_loss: 0.6713 - val_accuracy: 0.7799\n",
            "Epoch 197/500\n",
            "103/103 [==============================] - 2s 21ms/step - loss: 0.5820 - accuracy: 0.7879 - val_loss: 0.7029 - val_accuracy: 0.7730\n",
            "Epoch 198/500\n",
            "103/103 [==============================] - 2s 22ms/step - loss: 0.5896 - accuracy: 0.7863 - val_loss: 0.7174 - val_accuracy: 0.7782\n",
            "Epoch 199/500\n",
            "103/103 [==============================] - 2s 21ms/step - loss: 0.6272 - accuracy: 0.7730 - val_loss: 0.7140 - val_accuracy: 0.7816\n",
            "Epoch 200/500\n",
            "103/103 [==============================] - 2s 21ms/step - loss: 0.6211 - accuracy: 0.7846 - val_loss: 0.6750 - val_accuracy: 0.7695\n",
            "Epoch 201/500\n",
            "103/103 [==============================] - 2s 21ms/step - loss: 0.5602 - accuracy: 0.7939 - val_loss: 0.6699 - val_accuracy: 0.7816\n",
            "Epoch 202/500\n",
            "103/103 [==============================] - 2s 21ms/step - loss: 0.5673 - accuracy: 0.7970 - val_loss: 0.7263 - val_accuracy: 0.7470\n",
            "Epoch 203/500\n",
            "103/103 [==============================] - 2s 21ms/step - loss: 0.5707 - accuracy: 0.7930 - val_loss: 0.7071 - val_accuracy: 0.7695\n",
            "Epoch 204/500\n",
            "103/103 [==============================] - 2s 22ms/step - loss: 0.5940 - accuracy: 0.7901 - val_loss: 0.6719 - val_accuracy: 0.7955\n",
            "Epoch 205/500\n",
            "103/103 [==============================] - 2s 23ms/step - loss: 0.6137 - accuracy: 0.7787 - val_loss: 0.6724 - val_accuracy: 0.7834\n",
            "Epoch 206/500\n",
            "103/103 [==============================] - 2s 23ms/step - loss: 0.5640 - accuracy: 0.8002 - val_loss: 0.6965 - val_accuracy: 0.7799\n",
            "Epoch 207/500\n",
            "103/103 [==============================] - 3s 25ms/step - loss: 0.6014 - accuracy: 0.7759 - val_loss: 0.6671 - val_accuracy: 0.7938\n",
            "Epoch 208/500\n",
            "103/103 [==============================] - 2s 22ms/step - loss: 0.5852 - accuracy: 0.7972 - val_loss: 0.6931 - val_accuracy: 0.7834\n",
            "Epoch 209/500\n",
            "103/103 [==============================] - 2s 21ms/step - loss: 0.5808 - accuracy: 0.7966 - val_loss: 0.6978 - val_accuracy: 0.7816\n",
            "Epoch 210/500\n",
            "103/103 [==============================] - 2s 21ms/step - loss: 0.5744 - accuracy: 0.7911 - val_loss: 0.6578 - val_accuracy: 0.7938\n",
            "Epoch 211/500\n",
            "103/103 [==============================] - 2s 21ms/step - loss: 0.6080 - accuracy: 0.7918 - val_loss: 0.6982 - val_accuracy: 0.7660\n",
            "Epoch 212/500\n",
            "103/103 [==============================] - 2s 21ms/step - loss: 0.5672 - accuracy: 0.7855 - val_loss: 0.6702 - val_accuracy: 0.7834\n",
            "Epoch 213/500\n",
            "103/103 [==============================] - 2s 21ms/step - loss: 0.5856 - accuracy: 0.7972 - val_loss: 0.7131 - val_accuracy: 0.7591\n",
            "Epoch 214/500\n",
            "103/103 [==============================] - 2s 21ms/step - loss: 0.5870 - accuracy: 0.7957 - val_loss: 0.6849 - val_accuracy: 0.7730\n",
            "Epoch 215/500\n",
            "103/103 [==============================] - 2s 21ms/step - loss: 0.5796 - accuracy: 0.7897 - val_loss: 0.7249 - val_accuracy: 0.7556\n",
            "Epoch 216/500\n",
            "103/103 [==============================] - 2s 21ms/step - loss: 0.5955 - accuracy: 0.7871 - val_loss: 0.6785 - val_accuracy: 0.7868\n",
            "Epoch 217/500\n",
            "103/103 [==============================] - 2s 21ms/step - loss: 0.5593 - accuracy: 0.7938 - val_loss: 0.6993 - val_accuracy: 0.7730\n",
            "Epoch 218/500\n",
            "103/103 [==============================] - 2s 21ms/step - loss: 0.5873 - accuracy: 0.7862 - val_loss: 0.7135 - val_accuracy: 0.7747\n",
            "Epoch 219/500\n",
            "103/103 [==============================] - 2s 21ms/step - loss: 0.6154 - accuracy: 0.7787 - val_loss: 0.6868 - val_accuracy: 0.7695\n",
            "Epoch 220/500\n",
            "103/103 [==============================] - 2s 21ms/step - loss: 0.6157 - accuracy: 0.7777 - val_loss: 0.7017 - val_accuracy: 0.7747\n",
            "Epoch 221/500\n",
            "103/103 [==============================] - 2s 21ms/step - loss: 0.5835 - accuracy: 0.7818 - val_loss: 0.7041 - val_accuracy: 0.7695\n",
            "Epoch 222/500\n",
            "103/103 [==============================] - 2s 21ms/step - loss: 0.5610 - accuracy: 0.8054 - val_loss: 0.6989 - val_accuracy: 0.7868\n",
            "Epoch 223/500\n",
            "103/103 [==============================] - 2s 21ms/step - loss: 0.5730 - accuracy: 0.7971 - val_loss: 0.6669 - val_accuracy: 0.7920\n",
            "Epoch 224/500\n",
            "103/103 [==============================] - 2s 21ms/step - loss: 0.5174 - accuracy: 0.8140 - val_loss: 0.7509 - val_accuracy: 0.7452\n",
            "Epoch 225/500\n",
            "103/103 [==============================] - 2s 21ms/step - loss: 0.5767 - accuracy: 0.7860 - val_loss: 0.6503 - val_accuracy: 0.7799\n",
            "Epoch 226/500\n",
            "103/103 [==============================] - 2s 21ms/step - loss: 0.5859 - accuracy: 0.7916 - val_loss: 0.6901 - val_accuracy: 0.7712\n",
            "Epoch 227/500\n",
            "103/103 [==============================] - 2s 21ms/step - loss: 0.6259 - accuracy: 0.7760 - val_loss: 0.6793 - val_accuracy: 0.7782\n",
            "Epoch 228/500\n",
            "103/103 [==============================] - 2s 21ms/step - loss: 0.6017 - accuracy: 0.7844 - val_loss: 0.6726 - val_accuracy: 0.7747\n",
            "Epoch 229/500\n",
            "103/103 [==============================] - 2s 21ms/step - loss: 0.5846 - accuracy: 0.7926 - val_loss: 0.7270 - val_accuracy: 0.7626\n",
            "Epoch 230/500\n",
            "103/103 [==============================] - 2s 21ms/step - loss: 0.5766 - accuracy: 0.7958 - val_loss: 0.6632 - val_accuracy: 0.7868\n",
            "Epoch 231/500\n",
            "103/103 [==============================] - 2s 21ms/step - loss: 0.5560 - accuracy: 0.8023 - val_loss: 0.6614 - val_accuracy: 0.7764\n",
            "Epoch 232/500\n",
            "103/103 [==============================] - 2s 21ms/step - loss: 0.5806 - accuracy: 0.7956 - val_loss: 0.7087 - val_accuracy: 0.7556\n",
            "Epoch 233/500\n",
            "103/103 [==============================] - 2s 21ms/step - loss: 0.5785 - accuracy: 0.7873 - val_loss: 0.6652 - val_accuracy: 0.7834\n",
            "Epoch 234/500\n",
            "103/103 [==============================] - 2s 21ms/step - loss: 0.5614 - accuracy: 0.8036 - val_loss: 0.6854 - val_accuracy: 0.7764\n",
            "Epoch 235/500\n",
            "103/103 [==============================] - 2s 21ms/step - loss: 0.5418 - accuracy: 0.8103 - val_loss: 0.6805 - val_accuracy: 0.7643\n",
            "Epoch 236/500\n",
            "103/103 [==============================] - 2s 21ms/step - loss: 0.5589 - accuracy: 0.8101 - val_loss: 0.6891 - val_accuracy: 0.7730\n",
            "Epoch 237/500\n",
            "103/103 [==============================] - 2s 21ms/step - loss: 0.5783 - accuracy: 0.7935 - val_loss: 0.6762 - val_accuracy: 0.7695\n",
            "Epoch 238/500\n",
            "103/103 [==============================] - 2s 21ms/step - loss: 0.5963 - accuracy: 0.7800 - val_loss: 0.6837 - val_accuracy: 0.7660\n",
            "Epoch 239/500\n",
            "103/103 [==============================] - 2s 22ms/step - loss: 0.5623 - accuracy: 0.8028 - val_loss: 0.6350 - val_accuracy: 0.7903\n",
            "Epoch 240/500\n",
            "103/103 [==============================] - 2s 22ms/step - loss: 0.5564 - accuracy: 0.8004 - val_loss: 0.6744 - val_accuracy: 0.7764\n",
            "Epoch 241/500\n",
            "103/103 [==============================] - 2s 22ms/step - loss: 0.5550 - accuracy: 0.8067 - val_loss: 0.6807 - val_accuracy: 0.7626\n",
            "Epoch 242/500\n",
            "103/103 [==============================] - 2s 22ms/step - loss: 0.5737 - accuracy: 0.7902 - val_loss: 0.6817 - val_accuracy: 0.7626\n",
            "Epoch 243/500\n",
            "103/103 [==============================] - 2s 24ms/step - loss: 0.5477 - accuracy: 0.8081 - val_loss: 0.7125 - val_accuracy: 0.7747\n",
            "Epoch 244/500\n",
            "103/103 [==============================] - 2s 22ms/step - loss: 0.5690 - accuracy: 0.8049 - val_loss: 0.6931 - val_accuracy: 0.7730\n",
            "Epoch 245/500\n",
            "103/103 [==============================] - 2s 21ms/step - loss: 0.5453 - accuracy: 0.8066 - val_loss: 0.7111 - val_accuracy: 0.7712\n",
            "Epoch 246/500\n",
            "103/103 [==============================] - 2s 21ms/step - loss: 0.5285 - accuracy: 0.8165 - val_loss: 0.6685 - val_accuracy: 0.7782\n",
            "Epoch 247/500\n",
            "103/103 [==============================] - 2s 21ms/step - loss: 0.5426 - accuracy: 0.8029 - val_loss: 0.6894 - val_accuracy: 0.7764\n",
            "Epoch 248/500\n",
            "103/103 [==============================] - 2s 21ms/step - loss: 0.5648 - accuracy: 0.7986 - val_loss: 0.6282 - val_accuracy: 0.8094\n",
            "Epoch 249/500\n",
            "103/103 [==============================] - 2s 22ms/step - loss: 0.5880 - accuracy: 0.7838 - val_loss: 0.6511 - val_accuracy: 0.7851\n",
            "Epoch 250/500\n",
            "103/103 [==============================] - 2s 23ms/step - loss: 0.5751 - accuracy: 0.7963 - val_loss: 0.6532 - val_accuracy: 0.7990\n",
            "Epoch 251/500\n",
            "103/103 [==============================] - 2s 22ms/step - loss: 0.5800 - accuracy: 0.8013 - val_loss: 0.7153 - val_accuracy: 0.7730\n",
            "Epoch 252/500\n",
            "103/103 [==============================] - 2s 21ms/step - loss: 0.5717 - accuracy: 0.7927 - val_loss: 0.6962 - val_accuracy: 0.7782\n",
            "Epoch 253/500\n",
            "103/103 [==============================] - 2s 21ms/step - loss: 0.5676 - accuracy: 0.7989 - val_loss: 0.6877 - val_accuracy: 0.7660\n",
            "Epoch 254/500\n",
            "103/103 [==============================] - 2s 22ms/step - loss: 0.5524 - accuracy: 0.7906 - val_loss: 0.6826 - val_accuracy: 0.7764\n",
            "Epoch 255/500\n",
            "103/103 [==============================] - 2s 21ms/step - loss: 0.5420 - accuracy: 0.7993 - val_loss: 0.6668 - val_accuracy: 0.7730\n",
            "Epoch 256/500\n",
            "103/103 [==============================] - 2s 21ms/step - loss: 0.5681 - accuracy: 0.7924 - val_loss: 0.6769 - val_accuracy: 0.7764\n",
            "Epoch 257/500\n",
            "103/103 [==============================] - 2s 21ms/step - loss: 0.5334 - accuracy: 0.8106 - val_loss: 0.6652 - val_accuracy: 0.7764\n",
            "Epoch 258/500\n",
            "103/103 [==============================] - 2s 21ms/step - loss: 0.5847 - accuracy: 0.7933 - val_loss: 0.6445 - val_accuracy: 0.7903\n",
            "Epoch 259/500\n",
            "103/103 [==============================] - 2s 21ms/step - loss: 0.5326 - accuracy: 0.8149 - val_loss: 0.6542 - val_accuracy: 0.7886\n",
            "Epoch 260/500\n",
            "103/103 [==============================] - 2s 21ms/step - loss: 0.5699 - accuracy: 0.7971 - val_loss: 0.6491 - val_accuracy: 0.7938\n",
            "Epoch 261/500\n",
            "103/103 [==============================] - 2s 21ms/step - loss: 0.5626 - accuracy: 0.7946 - val_loss: 0.6473 - val_accuracy: 0.7660\n",
            "Epoch 262/500\n",
            "103/103 [==============================] - 3s 30ms/step - loss: 0.5672 - accuracy: 0.8172 - val_loss: 0.6873 - val_accuracy: 0.7626\n",
            "Epoch 263/500\n",
            "103/103 [==============================] - 2s 21ms/step - loss: 0.5448 - accuracy: 0.8149 - val_loss: 0.6895 - val_accuracy: 0.7799\n",
            "Epoch 264/500\n",
            "103/103 [==============================] - 2s 24ms/step - loss: 0.5270 - accuracy: 0.8171 - val_loss: 0.6385 - val_accuracy: 0.7851\n",
            "Epoch 265/500\n",
            "103/103 [==============================] - 2s 21ms/step - loss: 0.5919 - accuracy: 0.7839 - val_loss: 0.6456 - val_accuracy: 0.7955\n",
            "Epoch 266/500\n",
            "103/103 [==============================] - 2s 21ms/step - loss: 0.5776 - accuracy: 0.7997 - val_loss: 0.6496 - val_accuracy: 0.7834\n",
            "Epoch 267/500\n",
            "103/103 [==============================] - 2s 22ms/step - loss: 0.5535 - accuracy: 0.8005 - val_loss: 0.6853 - val_accuracy: 0.7903\n",
            "Epoch 268/500\n",
            "103/103 [==============================] - 2s 22ms/step - loss: 0.5713 - accuracy: 0.7905 - val_loss: 0.6726 - val_accuracy: 0.7747\n",
            "Epoch 269/500\n",
            "103/103 [==============================] - 2s 21ms/step - loss: 0.5480 - accuracy: 0.8053 - val_loss: 0.6462 - val_accuracy: 0.8076\n",
            "Epoch 270/500\n",
            "103/103 [==============================] - 2s 21ms/step - loss: 0.5772 - accuracy: 0.7897 - val_loss: 0.6613 - val_accuracy: 0.7868\n",
            "Epoch 271/500\n",
            "103/103 [==============================] - 2s 22ms/step - loss: 0.5488 - accuracy: 0.7948 - val_loss: 0.6301 - val_accuracy: 0.7938\n",
            "Epoch 272/500\n",
            "103/103 [==============================] - 2s 22ms/step - loss: 0.5256 - accuracy: 0.8146 - val_loss: 0.6636 - val_accuracy: 0.7972\n",
            "Epoch 273/500\n",
            "103/103 [==============================] - 2s 22ms/step - loss: 0.5650 - accuracy: 0.7939 - val_loss: 0.6882 - val_accuracy: 0.7574\n",
            "Epoch 274/500\n",
            "103/103 [==============================] - 2s 22ms/step - loss: 0.5267 - accuracy: 0.8040 - val_loss: 0.6591 - val_accuracy: 0.7920\n",
            "Epoch 275/500\n",
            "103/103 [==============================] - 2s 21ms/step - loss: 0.5332 - accuracy: 0.8042 - val_loss: 0.6402 - val_accuracy: 0.7990\n",
            "Epoch 276/500\n",
            "103/103 [==============================] - 2s 21ms/step - loss: 0.5834 - accuracy: 0.7912 - val_loss: 0.6748 - val_accuracy: 0.7747\n",
            "Epoch 277/500\n",
            "103/103 [==============================] - 2s 21ms/step - loss: 0.5252 - accuracy: 0.8068 - val_loss: 0.6633 - val_accuracy: 0.7851\n",
            "Epoch 278/500\n",
            "103/103 [==============================] - 2s 21ms/step - loss: 0.5313 - accuracy: 0.8083 - val_loss: 0.6826 - val_accuracy: 0.7695\n",
            "Epoch 279/500\n",
            "103/103 [==============================] - 2s 22ms/step - loss: 0.5432 - accuracy: 0.8052 - val_loss: 0.7404 - val_accuracy: 0.7383\n",
            "Epoch 280/500\n",
            "103/103 [==============================] - 2s 22ms/step - loss: 0.5428 - accuracy: 0.8033 - val_loss: 0.6934 - val_accuracy: 0.7747\n",
            "Epoch 281/500\n",
            "103/103 [==============================] - 2s 22ms/step - loss: 0.5355 - accuracy: 0.8002 - val_loss: 0.6502 - val_accuracy: 0.7972\n",
            "Epoch 282/500\n",
            "103/103 [==============================] - 2s 24ms/step - loss: 0.5426 - accuracy: 0.7998 - val_loss: 0.6157 - val_accuracy: 0.8059\n",
            "Epoch 283/500\n",
            "103/103 [==============================] - 2s 21ms/step - loss: 0.4989 - accuracy: 0.8301 - val_loss: 0.6603 - val_accuracy: 0.7834\n",
            "Epoch 284/500\n",
            "103/103 [==============================] - 2s 21ms/step - loss: 0.5375 - accuracy: 0.8035 - val_loss: 0.6355 - val_accuracy: 0.7955\n",
            "Epoch 285/500\n",
            "103/103 [==============================] - 2s 21ms/step - loss: 0.5791 - accuracy: 0.7995 - val_loss: 0.6717 - val_accuracy: 0.7764\n",
            "Epoch 286/500\n",
            "103/103 [==============================] - 2s 21ms/step - loss: 0.5269 - accuracy: 0.8198 - val_loss: 0.6727 - val_accuracy: 0.7643\n",
            "Epoch 287/500\n",
            "103/103 [==============================] - 2s 21ms/step - loss: 0.5560 - accuracy: 0.8116 - val_loss: 0.6955 - val_accuracy: 0.7608\n",
            "Epoch 288/500\n",
            "103/103 [==============================] - 2s 21ms/step - loss: 0.5416 - accuracy: 0.8015 - val_loss: 0.6916 - val_accuracy: 0.7695\n",
            "Epoch 289/500\n",
            "103/103 [==============================] - 2s 21ms/step - loss: 0.5142 - accuracy: 0.8162 - val_loss: 0.6811 - val_accuracy: 0.7678\n",
            "Epoch 290/500\n",
            "103/103 [==============================] - 2s 21ms/step - loss: 0.5266 - accuracy: 0.8164 - val_loss: 0.7103 - val_accuracy: 0.7574\n",
            "Epoch 291/500\n",
            "103/103 [==============================] - 2s 21ms/step - loss: 0.5625 - accuracy: 0.7931 - val_loss: 0.6673 - val_accuracy: 0.7920\n",
            "Epoch 292/500\n",
            "103/103 [==============================] - 2s 21ms/step - loss: 0.5840 - accuracy: 0.7907 - val_loss: 0.6529 - val_accuracy: 0.8059\n",
            "Epoch 293/500\n",
            "103/103 [==============================] - 2s 21ms/step - loss: 0.5491 - accuracy: 0.8029 - val_loss: 0.6556 - val_accuracy: 0.7834\n",
            "Epoch 294/500\n",
            "103/103 [==============================] - 2s 22ms/step - loss: 0.5210 - accuracy: 0.8091 - val_loss: 0.6430 - val_accuracy: 0.7920\n",
            "Epoch 295/500\n",
            "103/103 [==============================] - 2s 22ms/step - loss: 0.5572 - accuracy: 0.7988 - val_loss: 0.6731 - val_accuracy: 0.7851\n",
            "Epoch 296/500\n",
            "103/103 [==============================] - 2s 21ms/step - loss: 0.5364 - accuracy: 0.8090 - val_loss: 0.6458 - val_accuracy: 0.7920\n",
            "Epoch 297/500\n",
            "103/103 [==============================] - 2s 22ms/step - loss: 0.5396 - accuracy: 0.8027 - val_loss: 0.7129 - val_accuracy: 0.7764\n",
            "Epoch 298/500\n",
            "103/103 [==============================] - 2s 21ms/step - loss: 0.5873 - accuracy: 0.8009 - val_loss: 0.6514 - val_accuracy: 0.7903\n",
            "Epoch 299/500\n",
            "103/103 [==============================] - 2s 24ms/step - loss: 0.5574 - accuracy: 0.7947 - val_loss: 0.6620 - val_accuracy: 0.7799\n",
            "Epoch 300/500\n",
            "103/103 [==============================] - 2s 22ms/step - loss: 0.5524 - accuracy: 0.7938 - val_loss: 0.6513 - val_accuracy: 0.7903\n",
            "Epoch 301/500\n",
            "103/103 [==============================] - 2s 21ms/step - loss: 0.5843 - accuracy: 0.7937 - val_loss: 0.6680 - val_accuracy: 0.7920\n",
            "Epoch 302/500\n",
            "103/103 [==============================] - 2s 22ms/step - loss: 0.5528 - accuracy: 0.8041 - val_loss: 0.6519 - val_accuracy: 0.7938\n",
            "Epoch 303/500\n",
            "103/103 [==============================] - 2s 23ms/step - loss: 0.5143 - accuracy: 0.8050 - val_loss: 0.6334 - val_accuracy: 0.7990\n",
            "Epoch 304/500\n",
            "103/103 [==============================] - 2s 21ms/step - loss: 0.5299 - accuracy: 0.8122 - val_loss: 0.6816 - val_accuracy: 0.7834\n",
            "Epoch 305/500\n",
            "103/103 [==============================] - 2s 22ms/step - loss: 0.5342 - accuracy: 0.8059 - val_loss: 0.6651 - val_accuracy: 0.7886\n",
            "Epoch 306/500\n",
            "103/103 [==============================] - 2s 21ms/step - loss: 0.5578 - accuracy: 0.8039 - val_loss: 0.6469 - val_accuracy: 0.7920\n",
            "Epoch 307/500\n",
            "103/103 [==============================] - 2s 21ms/step - loss: 0.5286 - accuracy: 0.8076 - val_loss: 0.6476 - val_accuracy: 0.7868\n",
            "Epoch 308/500\n",
            "103/103 [==============================] - 2s 21ms/step - loss: 0.5150 - accuracy: 0.8027 - val_loss: 0.6845 - val_accuracy: 0.7574\n",
            "Epoch 309/500\n",
            "103/103 [==============================] - 2s 21ms/step - loss: 0.5029 - accuracy: 0.8275 - val_loss: 0.6434 - val_accuracy: 0.7851\n",
            "Epoch 310/500\n",
            "103/103 [==============================] - 2s 21ms/step - loss: 0.5078 - accuracy: 0.8196 - val_loss: 0.6563 - val_accuracy: 0.7972\n",
            "Epoch 311/500\n",
            "103/103 [==============================] - 2s 21ms/step - loss: 0.5432 - accuracy: 0.8138 - val_loss: 0.6412 - val_accuracy: 0.7903\n",
            "Epoch 312/500\n",
            "103/103 [==============================] - 2s 21ms/step - loss: 0.5272 - accuracy: 0.8082 - val_loss: 0.6729 - val_accuracy: 0.7938\n",
            "Epoch 313/500\n",
            "103/103 [==============================] - 2s 21ms/step - loss: 0.5252 - accuracy: 0.8138 - val_loss: 0.6808 - val_accuracy: 0.7851\n",
            "Epoch 314/500\n",
            "103/103 [==============================] - 2s 22ms/step - loss: 0.5353 - accuracy: 0.8049 - val_loss: 0.6318 - val_accuracy: 0.8111\n",
            "Epoch 315/500\n",
            "103/103 [==============================] - 2s 21ms/step - loss: 0.5390 - accuracy: 0.7987 - val_loss: 0.6843 - val_accuracy: 0.7799\n",
            "Epoch 316/500\n",
            "103/103 [==============================] - 2s 22ms/step - loss: 0.5493 - accuracy: 0.7962 - val_loss: 0.6817 - val_accuracy: 0.7712\n",
            "Epoch 317/500\n",
            "103/103 [==============================] - 2s 21ms/step - loss: 0.5114 - accuracy: 0.8100 - val_loss: 0.6034 - val_accuracy: 0.8007\n",
            "Epoch 318/500\n",
            "103/103 [==============================] - 2s 21ms/step - loss: 0.5665 - accuracy: 0.7973 - val_loss: 0.6198 - val_accuracy: 0.7938\n",
            "Epoch 319/500\n",
            "103/103 [==============================] - 2s 21ms/step - loss: 0.5375 - accuracy: 0.8061 - val_loss: 0.6738 - val_accuracy: 0.7868\n",
            "Epoch 320/500\n",
            "103/103 [==============================] - 2s 21ms/step - loss: 0.6035 - accuracy: 0.7775 - val_loss: 0.6400 - val_accuracy: 0.7903\n",
            "Epoch 321/500\n",
            "103/103 [==============================] - 2s 21ms/step - loss: 0.5369 - accuracy: 0.8092 - val_loss: 0.7007 - val_accuracy: 0.7678\n",
            "Epoch 322/500\n",
            "103/103 [==============================] - 2s 21ms/step - loss: 0.5195 - accuracy: 0.8089 - val_loss: 0.6702 - val_accuracy: 0.7782\n",
            "Epoch 323/500\n",
            "103/103 [==============================] - 2s 21ms/step - loss: 0.5113 - accuracy: 0.8179 - val_loss: 0.6342 - val_accuracy: 0.8042\n",
            "Epoch 324/500\n",
            "103/103 [==============================] - 2s 21ms/step - loss: 0.5243 - accuracy: 0.8088 - val_loss: 0.6933 - val_accuracy: 0.7608\n",
            "Epoch 325/500\n",
            "103/103 [==============================] - 2s 21ms/step - loss: 0.4881 - accuracy: 0.8265 - val_loss: 0.6725 - val_accuracy: 0.7678\n",
            "Epoch 326/500\n",
            "103/103 [==============================] - 2s 21ms/step - loss: 0.5457 - accuracy: 0.7977 - val_loss: 0.6602 - val_accuracy: 0.7816\n",
            "Epoch 327/500\n",
            "103/103 [==============================] - 2s 24ms/step - loss: 0.5412 - accuracy: 0.8139 - val_loss: 0.6395 - val_accuracy: 0.7886\n",
            "Epoch 328/500\n",
            "103/103 [==============================] - 2s 21ms/step - loss: 0.5296 - accuracy: 0.8088 - val_loss: 0.6346 - val_accuracy: 0.7920\n",
            "Epoch 329/500\n",
            "103/103 [==============================] - 2s 22ms/step - loss: 0.4907 - accuracy: 0.8211 - val_loss: 0.6559 - val_accuracy: 0.7834\n",
            "Epoch 330/500\n",
            "103/103 [==============================] - 2s 21ms/step - loss: 0.5478 - accuracy: 0.8074 - val_loss: 0.6222 - val_accuracy: 0.8111\n",
            "Epoch 331/500\n",
            "103/103 [==============================] - 2s 21ms/step - loss: 0.5320 - accuracy: 0.8152 - val_loss: 0.6461 - val_accuracy: 0.7955\n",
            "Epoch 332/500\n",
            "103/103 [==============================] - 2s 22ms/step - loss: 0.5735 - accuracy: 0.7829 - val_loss: 0.6438 - val_accuracy: 0.7938\n",
            "Epoch 333/500\n",
            "103/103 [==============================] - 2s 21ms/step - loss: 0.4959 - accuracy: 0.8269 - val_loss: 0.6301 - val_accuracy: 0.8059\n",
            "Epoch 334/500\n",
            "103/103 [==============================] - 2s 22ms/step - loss: 0.5112 - accuracy: 0.8127 - val_loss: 0.6270 - val_accuracy: 0.7868\n",
            "Epoch 335/500\n",
            "103/103 [==============================] - 2s 21ms/step - loss: 0.5382 - accuracy: 0.8058 - val_loss: 0.6413 - val_accuracy: 0.7712\n",
            "Epoch 336/500\n",
            "103/103 [==============================] - 2s 21ms/step - loss: 0.5009 - accuracy: 0.8249 - val_loss: 0.6707 - val_accuracy: 0.7903\n",
            "Epoch 337/500\n",
            "103/103 [==============================] - 2s 22ms/step - loss: 0.5413 - accuracy: 0.8115 - val_loss: 0.6438 - val_accuracy: 0.7868\n",
            "Epoch 338/500\n",
            "103/103 [==============================] - 2s 22ms/step - loss: 0.5643 - accuracy: 0.8071 - val_loss: 0.6134 - val_accuracy: 0.8042\n",
            "Epoch 339/500\n",
            "103/103 [==============================] - 2s 21ms/step - loss: 0.5565 - accuracy: 0.8020 - val_loss: 0.6710 - val_accuracy: 0.7903\n",
            "Epoch 340/500\n",
            "103/103 [==============================] - 2s 21ms/step - loss: 0.4908 - accuracy: 0.8314 - val_loss: 0.6117 - val_accuracy: 0.8024\n",
            "Epoch 341/500\n",
            "103/103 [==============================] - 2s 21ms/step - loss: 0.5076 - accuracy: 0.8110 - val_loss: 0.6416 - val_accuracy: 0.7990\n",
            "Epoch 342/500\n",
            "103/103 [==============================] - 2s 22ms/step - loss: 0.5257 - accuracy: 0.8091 - val_loss: 0.6596 - val_accuracy: 0.7851\n",
            "Epoch 343/500\n",
            "103/103 [==============================] - 2s 22ms/step - loss: 0.5515 - accuracy: 0.8026 - val_loss: 0.6630 - val_accuracy: 0.7938\n",
            "Epoch 344/500\n",
            "103/103 [==============================] - 3s 26ms/step - loss: 0.5164 - accuracy: 0.8179 - val_loss: 0.6635 - val_accuracy: 0.7938\n",
            "Epoch 345/500\n",
            "103/103 [==============================] - 2s 23ms/step - loss: 0.5236 - accuracy: 0.8084 - val_loss: 0.6676 - val_accuracy: 0.7886\n",
            "Epoch 346/500\n",
            "103/103 [==============================] - 2s 22ms/step - loss: 0.5289 - accuracy: 0.8051 - val_loss: 0.6686 - val_accuracy: 0.7851\n",
            "Epoch 347/500\n",
            "103/103 [==============================] - 2s 22ms/step - loss: 0.5565 - accuracy: 0.8133 - val_loss: 0.6833 - val_accuracy: 0.7903\n",
            "Epoch 348/500\n",
            "103/103 [==============================] - 2s 22ms/step - loss: 0.5319 - accuracy: 0.8111 - val_loss: 0.6679 - val_accuracy: 0.8024\n",
            "Epoch 349/500\n",
            "103/103 [==============================] - 2s 22ms/step - loss: 0.5293 - accuracy: 0.8089 - val_loss: 0.6964 - val_accuracy: 0.7747\n",
            "Epoch 350/500\n",
            "103/103 [==============================] - 2s 21ms/step - loss: 0.5384 - accuracy: 0.8068 - val_loss: 0.6240 - val_accuracy: 0.8198\n",
            "Epoch 351/500\n",
            "103/103 [==============================] - 2s 21ms/step - loss: 0.5282 - accuracy: 0.8085 - val_loss: 0.6579 - val_accuracy: 0.7886\n",
            "Epoch 352/500\n",
            "103/103 [==============================] - 2s 21ms/step - loss: 0.5367 - accuracy: 0.7944 - val_loss: 0.6802 - val_accuracy: 0.7868\n",
            "Epoch 353/500\n",
            "103/103 [==============================] - 2s 21ms/step - loss: 0.5048 - accuracy: 0.8186 - val_loss: 0.6764 - val_accuracy: 0.7816\n",
            "Epoch 354/500\n",
            "103/103 [==============================] - 2s 22ms/step - loss: 0.5345 - accuracy: 0.8080 - val_loss: 0.7018 - val_accuracy: 0.7834\n",
            "Epoch 355/500\n",
            "103/103 [==============================] - 2s 21ms/step - loss: 0.5595 - accuracy: 0.7954 - val_loss: 0.6543 - val_accuracy: 0.7868\n",
            "Epoch 356/500\n",
            "103/103 [==============================] - 2s 21ms/step - loss: 0.5370 - accuracy: 0.8074 - val_loss: 0.6675 - val_accuracy: 0.7903\n",
            "Epoch 357/500\n",
            "103/103 [==============================] - 2s 20ms/step - loss: 0.5150 - accuracy: 0.8088 - val_loss: 0.6580 - val_accuracy: 0.7868\n",
            "Epoch 358/500\n",
            "103/103 [==============================] - 2s 22ms/step - loss: 0.5207 - accuracy: 0.8079 - val_loss: 0.6396 - val_accuracy: 0.7990\n",
            "Epoch 359/500\n",
            "103/103 [==============================] - 2s 21ms/step - loss: 0.5309 - accuracy: 0.8140 - val_loss: 0.6792 - val_accuracy: 0.7730\n",
            "Epoch 360/500\n",
            "103/103 [==============================] - 2s 21ms/step - loss: 0.5583 - accuracy: 0.8033 - val_loss: 0.6568 - val_accuracy: 0.7886\n",
            "Epoch 361/500\n",
            "103/103 [==============================] - 2s 21ms/step - loss: 0.5156 - accuracy: 0.8203 - val_loss: 0.7034 - val_accuracy: 0.7678\n",
            "Epoch 362/500\n",
            "103/103 [==============================] - 2s 22ms/step - loss: 0.5064 - accuracy: 0.8230 - val_loss: 0.6635 - val_accuracy: 0.7747\n",
            "Epoch 363/500\n",
            "103/103 [==============================] - 2s 21ms/step - loss: 0.4828 - accuracy: 0.8237 - val_loss: 0.6719 - val_accuracy: 0.7834\n",
            "Epoch 364/500\n",
            "103/103 [==============================] - 2s 21ms/step - loss: 0.5000 - accuracy: 0.8141 - val_loss: 0.6275 - val_accuracy: 0.7920\n",
            "Epoch 365/500\n",
            "103/103 [==============================] - 2s 21ms/step - loss: 0.5410 - accuracy: 0.8091 - val_loss: 0.6514 - val_accuracy: 0.7851\n",
            "Epoch 366/500\n",
            "103/103 [==============================] - 2s 22ms/step - loss: 0.5059 - accuracy: 0.8131 - val_loss: 0.6911 - val_accuracy: 0.7730\n",
            "Epoch 367/500\n",
            "103/103 [==============================] - 2s 21ms/step - loss: 0.5084 - accuracy: 0.8229 - val_loss: 0.6878 - val_accuracy: 0.7782\n",
            "Epoch 368/500\n",
            "103/103 [==============================] - 2s 21ms/step - loss: 0.5544 - accuracy: 0.8065 - val_loss: 0.6563 - val_accuracy: 0.7955\n",
            "Epoch 369/500\n",
            "103/103 [==============================] - 2s 21ms/step - loss: 0.5161 - accuracy: 0.8175 - val_loss: 0.6680 - val_accuracy: 0.7851\n",
            "Epoch 370/500\n",
            "103/103 [==============================] - 2s 21ms/step - loss: 0.5062 - accuracy: 0.8054 - val_loss: 0.6908 - val_accuracy: 0.7816\n",
            "Epoch 371/500\n",
            "103/103 [==============================] - 2s 21ms/step - loss: 0.5666 - accuracy: 0.7992 - val_loss: 0.6913 - val_accuracy: 0.7643\n",
            "Epoch 372/500\n",
            "103/103 [==============================] - 2s 21ms/step - loss: 0.5174 - accuracy: 0.7974 - val_loss: 0.6743 - val_accuracy: 0.7816\n",
            "Epoch 373/500\n",
            "103/103 [==============================] - 2s 21ms/step - loss: 0.5383 - accuracy: 0.8128 - val_loss: 0.6302 - val_accuracy: 0.8007\n",
            "Epoch 374/500\n",
            "103/103 [==============================] - 2s 21ms/step - loss: 0.5392 - accuracy: 0.8125 - val_loss: 0.6487 - val_accuracy: 0.7851\n",
            "Epoch 375/500\n",
            "103/103 [==============================] - 2s 21ms/step - loss: 0.5073 - accuracy: 0.8188 - val_loss: 0.6400 - val_accuracy: 0.8007\n",
            "Epoch 376/500\n",
            "103/103 [==============================] - 2s 21ms/step - loss: 0.5007 - accuracy: 0.8269 - val_loss: 0.6536 - val_accuracy: 0.7938\n",
            "Epoch 377/500\n",
            "103/103 [==============================] - 2s 21ms/step - loss: 0.5277 - accuracy: 0.8087 - val_loss: 0.6908 - val_accuracy: 0.7730\n",
            "Epoch 378/500\n",
            "103/103 [==============================] - 2s 21ms/step - loss: 0.5210 - accuracy: 0.8168 - val_loss: 0.7011 - val_accuracy: 0.7591\n",
            "Epoch 379/500\n",
            "103/103 [==============================] - 2s 21ms/step - loss: 0.5192 - accuracy: 0.8101 - val_loss: 0.6876 - val_accuracy: 0.7626\n",
            "Epoch 380/500\n",
            "103/103 [==============================] - 2s 24ms/step - loss: 0.5122 - accuracy: 0.8160 - val_loss: 0.6697 - val_accuracy: 0.7764\n",
            "Epoch 381/500\n",
            "103/103 [==============================] - 2s 21ms/step - loss: 0.5386 - accuracy: 0.8062 - val_loss: 0.6916 - val_accuracy: 0.7730\n",
            "Epoch 382/500\n",
            "103/103 [==============================] - 2s 21ms/step - loss: 0.5142 - accuracy: 0.8132 - val_loss: 0.6745 - val_accuracy: 0.7868\n",
            "Epoch 383/500\n",
            "103/103 [==============================] - 2s 21ms/step - loss: 0.5112 - accuracy: 0.8177 - val_loss: 0.6537 - val_accuracy: 0.7886\n",
            "Epoch 384/500\n",
            "103/103 [==============================] - 2s 22ms/step - loss: 0.4745 - accuracy: 0.8319 - val_loss: 0.6732 - val_accuracy: 0.7730\n",
            "Epoch 385/500\n",
            "103/103 [==============================] - 2s 21ms/step - loss: 0.5184 - accuracy: 0.8155 - val_loss: 0.6330 - val_accuracy: 0.7972\n",
            "Epoch 386/500\n",
            "103/103 [==============================] - 3s 25ms/step - loss: 0.5500 - accuracy: 0.7981 - val_loss: 0.6493 - val_accuracy: 0.7903\n",
            "Epoch 387/500\n",
            "103/103 [==============================] - 2s 22ms/step - loss: 0.5328 - accuracy: 0.8153 - val_loss: 0.6459 - val_accuracy: 0.7938\n",
            "Epoch 388/500\n",
            "103/103 [==============================] - 2s 22ms/step - loss: 0.5074 - accuracy: 0.8240 - val_loss: 0.6558 - val_accuracy: 0.7955\n",
            "Epoch 389/500\n",
            "103/103 [==============================] - 2s 22ms/step - loss: 0.5197 - accuracy: 0.8201 - val_loss: 0.6618 - val_accuracy: 0.7903\n",
            "Epoch 390/500\n",
            "103/103 [==============================] - 2s 21ms/step - loss: 0.5475 - accuracy: 0.8060 - val_loss: 0.6386 - val_accuracy: 0.8007\n",
            "Epoch 391/500\n",
            "103/103 [==============================] - 2s 21ms/step - loss: 0.5118 - accuracy: 0.8153 - val_loss: 0.6298 - val_accuracy: 0.8163\n",
            "Epoch 392/500\n",
            "103/103 [==============================] - 2s 21ms/step - loss: 0.4979 - accuracy: 0.8196 - val_loss: 0.6672 - val_accuracy: 0.7730\n",
            "Epoch 393/500\n",
            "103/103 [==============================] - 2s 21ms/step - loss: 0.5263 - accuracy: 0.8140 - val_loss: 0.6435 - val_accuracy: 0.7903\n",
            "Epoch 394/500\n",
            "103/103 [==============================] - 2s 21ms/step - loss: 0.5239 - accuracy: 0.8144 - val_loss: 0.6839 - val_accuracy: 0.7730\n",
            "Epoch 395/500\n",
            "103/103 [==============================] - 2s 20ms/step - loss: 0.5100 - accuracy: 0.8210 - val_loss: 0.6562 - val_accuracy: 0.7834\n",
            "Epoch 396/500\n",
            "103/103 [==============================] - 2s 21ms/step - loss: 0.5026 - accuracy: 0.8187 - val_loss: 0.6507 - val_accuracy: 0.7920\n",
            "Epoch 397/500\n",
            "103/103 [==============================] - 2s 21ms/step - loss: 0.5232 - accuracy: 0.8160 - val_loss: 0.6479 - val_accuracy: 0.8007\n",
            "Epoch 398/500\n",
            "103/103 [==============================] - 2s 21ms/step - loss: 0.5129 - accuracy: 0.8200 - val_loss: 0.6904 - val_accuracy: 0.7695\n",
            "Epoch 399/500\n",
            "103/103 [==============================] - 2s 21ms/step - loss: 0.4983 - accuracy: 0.8193 - val_loss: 0.6552 - val_accuracy: 0.7868\n",
            "Epoch 400/500\n",
            "103/103 [==============================] - 2s 21ms/step - loss: 0.5339 - accuracy: 0.8102 - val_loss: 0.7009 - val_accuracy: 0.7903\n",
            "Epoch 401/500\n",
            "103/103 [==============================] - 2s 21ms/step - loss: 0.5211 - accuracy: 0.8100 - val_loss: 0.6598 - val_accuracy: 0.7903\n",
            "Epoch 402/500\n",
            "103/103 [==============================] - 3s 25ms/step - loss: 0.5241 - accuracy: 0.8254 - val_loss: 0.6567 - val_accuracy: 0.7955\n",
            "Epoch 403/500\n",
            "103/103 [==============================] - 2s 20ms/step - loss: 0.4960 - accuracy: 0.8180 - val_loss: 0.6423 - val_accuracy: 0.7920\n",
            "Epoch 404/500\n",
            "103/103 [==============================] - 2s 21ms/step - loss: 0.5229 - accuracy: 0.8114 - val_loss: 0.6399 - val_accuracy: 0.7955\n",
            "Epoch 405/500\n",
            "103/103 [==============================] - 2s 21ms/step - loss: 0.5293 - accuracy: 0.8089 - val_loss: 0.6433 - val_accuracy: 0.7955\n",
            "Epoch 406/500\n",
            "103/103 [==============================] - 2s 20ms/step - loss: 0.5127 - accuracy: 0.8115 - val_loss: 0.6440 - val_accuracy: 0.7938\n",
            "Epoch 407/500\n",
            "103/103 [==============================] - 2s 21ms/step - loss: 0.4821 - accuracy: 0.8294 - val_loss: 0.6615 - val_accuracy: 0.7799\n",
            "Epoch 408/500\n",
            "103/103 [==============================] - 2s 21ms/step - loss: 0.5076 - accuracy: 0.8137 - val_loss: 0.6945 - val_accuracy: 0.7816\n",
            "Epoch 409/500\n",
            "103/103 [==============================] - 2s 21ms/step - loss: 0.5055 - accuracy: 0.8185 - val_loss: 0.6749 - val_accuracy: 0.7816\n",
            "Epoch 410/500\n",
            "103/103 [==============================] - 2s 21ms/step - loss: 0.5609 - accuracy: 0.8048 - val_loss: 0.6903 - val_accuracy: 0.7764\n",
            "Epoch 411/500\n",
            "103/103 [==============================] - 2s 21ms/step - loss: 0.5511 - accuracy: 0.8119 - val_loss: 0.6533 - val_accuracy: 0.8024\n",
            "Epoch 412/500\n",
            "103/103 [==============================] - 2s 21ms/step - loss: 0.5240 - accuracy: 0.8079 - val_loss: 0.6664 - val_accuracy: 0.7938\n",
            "Epoch 413/500\n",
            "103/103 [==============================] - 2s 22ms/step - loss: 0.5105 - accuracy: 0.8149 - val_loss: 0.6612 - val_accuracy: 0.7938\n",
            "Epoch 414/500\n",
            "103/103 [==============================] - 2s 21ms/step - loss: 0.4926 - accuracy: 0.8219 - val_loss: 0.6496 - val_accuracy: 0.7903\n",
            "Epoch 415/500\n",
            "103/103 [==============================] - 2s 21ms/step - loss: 0.5471 - accuracy: 0.8012 - val_loss: 0.6386 - val_accuracy: 0.7990\n",
            "Epoch 416/500\n",
            "103/103 [==============================] - 2s 23ms/step - loss: 0.5161 - accuracy: 0.8093 - val_loss: 0.6382 - val_accuracy: 0.7886\n",
            "Epoch 417/500\n",
            "103/103 [==============================] - 2s 21ms/step - loss: 0.4664 - accuracy: 0.8367 - val_loss: 0.6419 - val_accuracy: 0.8042\n",
            "Epoch 418/500\n",
            "103/103 [==============================] - 2s 21ms/step - loss: 0.5200 - accuracy: 0.8129 - val_loss: 0.6309 - val_accuracy: 0.8111\n",
            "Epoch 419/500\n",
            "103/103 [==============================] - 2s 21ms/step - loss: 0.5408 - accuracy: 0.8002 - val_loss: 0.6659 - val_accuracy: 0.7868\n",
            "Epoch 420/500\n",
            "103/103 [==============================] - 2s 20ms/step - loss: 0.5323 - accuracy: 0.8099 - val_loss: 0.6438 - val_accuracy: 0.7886\n",
            "Epoch 421/500\n",
            "103/103 [==============================] - 2s 20ms/step - loss: 0.5306 - accuracy: 0.8082 - val_loss: 0.6665 - val_accuracy: 0.7920\n",
            "Epoch 422/500\n",
            "103/103 [==============================] - 2s 20ms/step - loss: 0.4906 - accuracy: 0.8338 - val_loss: 0.6775 - val_accuracy: 0.7764\n",
            "Epoch 423/500\n",
            "103/103 [==============================] - 2s 21ms/step - loss: 0.5098 - accuracy: 0.8150 - val_loss: 0.6776 - val_accuracy: 0.7764\n",
            "Epoch 424/500\n",
            "103/103 [==============================] - 2s 21ms/step - loss: 0.5310 - accuracy: 0.8080 - val_loss: 0.6628 - val_accuracy: 0.7747\n",
            "Epoch 425/500\n",
            "103/103 [==============================] - 2s 21ms/step - loss: 0.4999 - accuracy: 0.8179 - val_loss: 0.6459 - val_accuracy: 0.7816\n",
            "Epoch 426/500\n",
            "103/103 [==============================] - 2s 21ms/step - loss: 0.5411 - accuracy: 0.8116 - val_loss: 0.6312 - val_accuracy: 0.7955\n",
            "Epoch 427/500\n",
            "103/103 [==============================] - 2s 21ms/step - loss: 0.4962 - accuracy: 0.8300 - val_loss: 0.7113 - val_accuracy: 0.7730\n",
            "Epoch 428/500\n",
            "103/103 [==============================] - 2s 24ms/step - loss: 0.5161 - accuracy: 0.8138 - val_loss: 0.6564 - val_accuracy: 0.7990\n",
            "Epoch 429/500\n",
            "103/103 [==============================] - 2s 22ms/step - loss: 0.4806 - accuracy: 0.8279 - val_loss: 0.6461 - val_accuracy: 0.7938\n",
            "Epoch 430/500\n",
            "103/103 [==============================] - 2s 21ms/step - loss: 0.5168 - accuracy: 0.8302 - val_loss: 0.6095 - val_accuracy: 0.8111\n",
            "Epoch 431/500\n",
            "103/103 [==============================] - 2s 21ms/step - loss: 0.4914 - accuracy: 0.8207 - val_loss: 0.6162 - val_accuracy: 0.7938\n",
            "Epoch 432/500\n",
            "103/103 [==============================] - 2s 21ms/step - loss: 0.5153 - accuracy: 0.8174 - val_loss: 0.6461 - val_accuracy: 0.7955\n",
            "Epoch 433/500\n",
            "103/103 [==============================] - 2s 21ms/step - loss: 0.4883 - accuracy: 0.8259 - val_loss: 0.6455 - val_accuracy: 0.7955\n",
            "Epoch 434/500\n",
            "103/103 [==============================] - 2s 22ms/step - loss: 0.5002 - accuracy: 0.8212 - val_loss: 0.6332 - val_accuracy: 0.7955\n",
            "Epoch 435/500\n",
            "103/103 [==============================] - 2s 21ms/step - loss: 0.5214 - accuracy: 0.8194 - val_loss: 0.6580 - val_accuracy: 0.7816\n",
            "Epoch 436/500\n",
            "103/103 [==============================] - 2s 21ms/step - loss: 0.5315 - accuracy: 0.8081 - val_loss: 0.6437 - val_accuracy: 0.8076\n",
            "Epoch 437/500\n",
            "103/103 [==============================] - 2s 21ms/step - loss: 0.4935 - accuracy: 0.8330 - val_loss: 0.6221 - val_accuracy: 0.8059\n",
            "Epoch 438/500\n",
            "103/103 [==============================] - 2s 21ms/step - loss: 0.5070 - accuracy: 0.8140 - val_loss: 0.6863 - val_accuracy: 0.7574\n",
            "Epoch 439/500\n",
            "103/103 [==============================] - 2s 21ms/step - loss: 0.5413 - accuracy: 0.8142 - val_loss: 0.6914 - val_accuracy: 0.7816\n",
            "Epoch 440/500\n",
            "103/103 [==============================] - 2s 22ms/step - loss: 0.5353 - accuracy: 0.8186 - val_loss: 0.6377 - val_accuracy: 0.8024\n",
            "Epoch 441/500\n",
            "103/103 [==============================] - 2s 21ms/step - loss: 0.4860 - accuracy: 0.8271 - val_loss: 0.6583 - val_accuracy: 0.7712\n",
            "Epoch 442/500\n",
            "103/103 [==============================] - 2s 21ms/step - loss: 0.5265 - accuracy: 0.8118 - val_loss: 0.6481 - val_accuracy: 0.7972\n",
            "Epoch 443/500\n",
            "103/103 [==============================] - 2s 22ms/step - loss: 0.4836 - accuracy: 0.8307 - val_loss: 0.7262 - val_accuracy: 0.7522\n",
            "Epoch 444/500\n",
            "103/103 [==============================] - 2s 22ms/step - loss: 0.4667 - accuracy: 0.8235 - val_loss: 0.6571 - val_accuracy: 0.7903\n",
            "Epoch 445/500\n",
            "103/103 [==============================] - 2s 21ms/step - loss: 0.4712 - accuracy: 0.8336 - val_loss: 0.6322 - val_accuracy: 0.7938\n",
            "Epoch 446/500\n",
            "103/103 [==============================] - 2s 21ms/step - loss: 0.4901 - accuracy: 0.8249 - val_loss: 0.7266 - val_accuracy: 0.7452\n",
            "Epoch 447/500\n",
            "103/103 [==============================] - 2s 21ms/step - loss: 0.4975 - accuracy: 0.8279 - val_loss: 0.6548 - val_accuracy: 0.7972\n",
            "Epoch 448/500\n",
            "103/103 [==============================] - 2s 21ms/step - loss: 0.4974 - accuracy: 0.8216 - val_loss: 0.6349 - val_accuracy: 0.8059\n",
            "Epoch 449/500\n",
            "103/103 [==============================] - 2s 21ms/step - loss: 0.4887 - accuracy: 0.8298 - val_loss: 0.6480 - val_accuracy: 0.7903\n",
            "Epoch 450/500\n",
            "103/103 [==============================] - 2s 22ms/step - loss: 0.5300 - accuracy: 0.8100 - val_loss: 0.6473 - val_accuracy: 0.7972\n",
            "Epoch 451/500\n",
            "103/103 [==============================] - 2s 21ms/step - loss: 0.5014 - accuracy: 0.8187 - val_loss: 0.6782 - val_accuracy: 0.7764\n",
            "Epoch 452/500\n",
            "103/103 [==============================] - 2s 21ms/step - loss: 0.4776 - accuracy: 0.8291 - val_loss: 0.6450 - val_accuracy: 0.7972\n",
            "Epoch 453/500\n",
            "103/103 [==============================] - 2s 21ms/step - loss: 0.5094 - accuracy: 0.8284 - val_loss: 0.6760 - val_accuracy: 0.7730\n",
            "Epoch 454/500\n",
            "103/103 [==============================] - 2s 21ms/step - loss: 0.4978 - accuracy: 0.8163 - val_loss: 0.6384 - val_accuracy: 0.7920\n",
            "Epoch 455/500\n",
            "103/103 [==============================] - 2s 21ms/step - loss: 0.4980 - accuracy: 0.8461 - val_loss: 0.6585 - val_accuracy: 0.7938\n",
            "Epoch 456/500\n",
            "103/103 [==============================] - 2s 22ms/step - loss: 0.5188 - accuracy: 0.8172 - val_loss: 0.6560 - val_accuracy: 0.8007\n",
            "Epoch 457/500\n",
            "103/103 [==============================] - 2s 21ms/step - loss: 0.5348 - accuracy: 0.8157 - val_loss: 0.6817 - val_accuracy: 0.7695\n",
            "Epoch 458/500\n",
            "103/103 [==============================] - 2s 21ms/step - loss: 0.4865 - accuracy: 0.8387 - val_loss: 0.6087 - val_accuracy: 0.8076\n",
            "Epoch 459/500\n",
            "103/103 [==============================] - 2s 24ms/step - loss: 0.5109 - accuracy: 0.8186 - val_loss: 0.6850 - val_accuracy: 0.7834\n",
            "Epoch 460/500\n",
            "103/103 [==============================] - 2s 21ms/step - loss: 0.5185 - accuracy: 0.8212 - val_loss: 0.6722 - val_accuracy: 0.7851\n",
            "Epoch 461/500\n",
            "103/103 [==============================] - 2s 21ms/step - loss: 0.4813 - accuracy: 0.8294 - val_loss: 0.6188 - val_accuracy: 0.8042\n",
            "Epoch 462/500\n",
            "103/103 [==============================] - 2s 22ms/step - loss: 0.4876 - accuracy: 0.8224 - val_loss: 0.6400 - val_accuracy: 0.7938\n",
            "Epoch 463/500\n",
            "103/103 [==============================] - 2s 22ms/step - loss: 0.4880 - accuracy: 0.8298 - val_loss: 0.6377 - val_accuracy: 0.8042\n",
            "Epoch 464/500\n",
            "103/103 [==============================] - 2s 21ms/step - loss: 0.4706 - accuracy: 0.8323 - val_loss: 0.6350 - val_accuracy: 0.7886\n",
            "Epoch 465/500\n",
            "103/103 [==============================] - 2s 21ms/step - loss: 0.5032 - accuracy: 0.8283 - val_loss: 0.6314 - val_accuracy: 0.7851\n",
            "Epoch 466/500\n",
            "103/103 [==============================] - 2s 21ms/step - loss: 0.5188 - accuracy: 0.8184 - val_loss: 0.6795 - val_accuracy: 0.7816\n",
            "Epoch 467/500\n",
            "103/103 [==============================] - 2s 21ms/step - loss: 0.4447 - accuracy: 0.8416 - val_loss: 0.6634 - val_accuracy: 0.7938\n",
            "Epoch 468/500\n",
            "103/103 [==============================] - 2s 21ms/step - loss: 0.4929 - accuracy: 0.8206 - val_loss: 0.6805 - val_accuracy: 0.7712\n",
            "Epoch 469/500\n",
            "103/103 [==============================] - 2s 21ms/step - loss: 0.4720 - accuracy: 0.8319 - val_loss: 0.6831 - val_accuracy: 0.7764\n",
            "Epoch 470/500\n",
            "103/103 [==============================] - 2s 21ms/step - loss: 0.4993 - accuracy: 0.8068 - val_loss: 0.6312 - val_accuracy: 0.7903\n",
            "Epoch 471/500\n",
            "103/103 [==============================] - 2s 21ms/step - loss: 0.5202 - accuracy: 0.8149 - val_loss: 0.6550 - val_accuracy: 0.7782\n",
            "Epoch 472/500\n",
            "103/103 [==============================] - 2s 22ms/step - loss: 0.4982 - accuracy: 0.8244 - val_loss: 0.6232 - val_accuracy: 0.7868\n",
            "Epoch 473/500\n",
            "103/103 [==============================] - 2s 21ms/step - loss: 0.5511 - accuracy: 0.8115 - val_loss: 0.6609 - val_accuracy: 0.7990\n",
            "Epoch 474/500\n",
            "103/103 [==============================] - 2s 21ms/step - loss: 0.4875 - accuracy: 0.8213 - val_loss: 0.6587 - val_accuracy: 0.7886\n",
            "Epoch 475/500\n",
            "103/103 [==============================] - 2s 21ms/step - loss: 0.5561 - accuracy: 0.8062 - val_loss: 0.6174 - val_accuracy: 0.8146\n",
            "Epoch 476/500\n",
            "103/103 [==============================] - 2s 21ms/step - loss: 0.5108 - accuracy: 0.8148 - val_loss: 0.6458 - val_accuracy: 0.8007\n",
            "Epoch 477/500\n",
            "103/103 [==============================] - 2s 21ms/step - loss: 0.4935 - accuracy: 0.8141 - val_loss: 0.6367 - val_accuracy: 0.8094\n",
            "Epoch 478/500\n",
            "103/103 [==============================] - 2s 21ms/step - loss: 0.4919 - accuracy: 0.8203 - val_loss: 0.6809 - val_accuracy: 0.7920\n",
            "Epoch 479/500\n",
            "103/103 [==============================] - 2s 21ms/step - loss: 0.5109 - accuracy: 0.8203 - val_loss: 0.6391 - val_accuracy: 0.8007\n",
            "Epoch 480/500\n",
            "103/103 [==============================] - 2s 22ms/step - loss: 0.4953 - accuracy: 0.8222 - val_loss: 0.6726 - val_accuracy: 0.7764\n",
            "Epoch 481/500\n",
            "103/103 [==============================] - 2s 21ms/step - loss: 0.4953 - accuracy: 0.8258 - val_loss: 0.7176 - val_accuracy: 0.7712\n",
            "Epoch 482/500\n",
            "103/103 [==============================] - 2s 21ms/step - loss: 0.5408 - accuracy: 0.8109 - val_loss: 0.6570 - val_accuracy: 0.7782\n",
            "Epoch 483/500\n",
            "103/103 [==============================] - 2s 21ms/step - loss: 0.4778 - accuracy: 0.8300 - val_loss: 0.6372 - val_accuracy: 0.8042\n",
            "Epoch 484/500\n",
            "103/103 [==============================] - 2s 22ms/step - loss: 0.4891 - accuracy: 0.8244 - val_loss: 0.6622 - val_accuracy: 0.7886\n",
            "Epoch 485/500\n",
            "103/103 [==============================] - 2s 22ms/step - loss: 0.4872 - accuracy: 0.8271 - val_loss: 0.6512 - val_accuracy: 0.7886\n",
            "Epoch 486/500\n",
            "103/103 [==============================] - 2s 22ms/step - loss: 0.5107 - accuracy: 0.8153 - val_loss: 0.6666 - val_accuracy: 0.7730\n",
            "Epoch 487/500\n",
            "103/103 [==============================] - 2s 22ms/step - loss: 0.4653 - accuracy: 0.8239 - val_loss: 0.6546 - val_accuracy: 0.7851\n",
            "Epoch 488/500\n",
            "103/103 [==============================] - 2s 21ms/step - loss: 0.4986 - accuracy: 0.8237 - val_loss: 0.6964 - val_accuracy: 0.7643\n",
            "Epoch 489/500\n",
            "103/103 [==============================] - 2s 21ms/step - loss: 0.5082 - accuracy: 0.8245 - val_loss: 0.6995 - val_accuracy: 0.7799\n",
            "Epoch 490/500\n",
            "103/103 [==============================] - 2s 21ms/step - loss: 0.4632 - accuracy: 0.8340 - val_loss: 0.6416 - val_accuracy: 0.7972\n",
            "Epoch 491/500\n",
            "103/103 [==============================] - 2s 21ms/step - loss: 0.4846 - accuracy: 0.8285 - val_loss: 0.6774 - val_accuracy: 0.7816\n",
            "Epoch 492/500\n",
            "103/103 [==============================] - 2s 24ms/step - loss: 0.4928 - accuracy: 0.8189 - val_loss: 0.6603 - val_accuracy: 0.7712\n",
            "Epoch 493/500\n",
            "103/103 [==============================] - 2s 21ms/step - loss: 0.4920 - accuracy: 0.8277 - val_loss: 0.6647 - val_accuracy: 0.7886\n",
            "Epoch 494/500\n",
            "103/103 [==============================] - 2s 21ms/step - loss: 0.4974 - accuracy: 0.8107 - val_loss: 0.6686 - val_accuracy: 0.8042\n",
            "Epoch 495/500\n",
            "103/103 [==============================] - 2s 21ms/step - loss: 0.5016 - accuracy: 0.8288 - val_loss: 0.6102 - val_accuracy: 0.8059\n",
            "Epoch 496/500\n",
            "103/103 [==============================] - 2s 21ms/step - loss: 0.5269 - accuracy: 0.8203 - val_loss: 0.6496 - val_accuracy: 0.8076\n",
            "Epoch 497/500\n",
            "103/103 [==============================] - 2s 21ms/step - loss: 0.4990 - accuracy: 0.8124 - val_loss: 0.6299 - val_accuracy: 0.8354\n",
            "Epoch 498/500\n",
            "103/103 [==============================] - 2s 21ms/step - loss: 0.5086 - accuracy: 0.8196 - val_loss: 0.6750 - val_accuracy: 0.7938\n",
            "Epoch 499/500\n",
            "103/103 [==============================] - 2s 22ms/step - loss: 0.4864 - accuracy: 0.8342 - val_loss: 0.6536 - val_accuracy: 0.7955\n",
            "Epoch 500/500\n",
            "103/103 [==============================] - 2s 23ms/step - loss: 0.4868 - accuracy: 0.8254 - val_loss: 0.6498 - val_accuracy: 0.7834\n"
          ],
          "name": "stdout"
        }
      ]
    },
    {
      "cell_type": "code",
      "metadata": {
        "id": "DHdEBImL7sLz",
        "colab": {
          "base_uri": "https://localhost:8080/",
          "height": 533
        },
        "outputId": "40993818-590d-458b-af7d-4fb6a5fc4868"
      },
      "source": [
        "import matplotlib.pyplot as plt\n",
        "\n",
        "plt.figure(figsize=(8,8))\n",
        "plt.title('Loss Value')\n",
        "plt.plot(history.history['loss'])\n",
        "plt.plot(history.history['val_loss'])\n",
        "plt.legend(['loss', 'val_loss'])\n",
        "print('loss:', history.history['loss'][-1])\n",
        "print('val_loss:', history.history['val_loss'][-1])"
      ],
      "execution_count": null,
      "outputs": [
        {
          "output_type": "stream",
          "text": [
            "loss: 0.49377259612083435\n",
            "val_loss: 0.6498277187347412\n"
          ],
          "name": "stdout"
        },
        {
          "output_type": "display_data",
          "data": {
            "image/png": "[encoded data removed]",
            "text/plain": [
              "<Figure size 576x576 with 1 Axes>"
            ]
          },
          "metadata": {
            "tags": [],
            "needs_background": "light"
          }
        }
      ]
    },
    {
      "cell_type": "code",
      "metadata": {
        "id": "9sEY-Ng288eM",
        "colab": {
          "base_uri": "https://localhost:8080/",
          "height": 533
        },
        "outputId": "e808679f-8a9c-4964-9714-6c1596dd4349"
      },
      "source": [
        "plt.figure(figsize=(8,8))\n",
        "plt.title('Accuracy')\n",
        "plt.plot(history.history['accuracy'])\n",
        "plt.plot(history.history['val_accuracy'])\n",
        "plt.legend(['acc', 'val_acc'])\n",
        "print('acc:', history.history['accuracy'][-1])\n",
        "print('val_acc:', history.history['val_accuracy'][-1])"
      ],
      "execution_count": null,
      "outputs": [
        {
          "output_type": "stream",
          "text": [
            "acc: 0.8213521242141724\n",
            "val_acc: 0.7833622097969055\n"
          ],
          "name": "stdout"
        },
        {
          "output_type": "display_data",
          "data": {
            "image/png": "[encoded data removed]",
            "text/plain": [
              "<Figure size 576x576 with 1 Axes>"
            ]
          },
          "metadata": {
            "tags": [],
            "needs_background": "light"
          }
        }
      ]
    },
    {
      "cell_type": "code",
      "metadata": {
        "id": "ivg89WnDAv9s"
      },
      "source": [
        "model.save_weights('/content/drive/MyDrive/CNN-model/first')"
      ],
      "execution_count": null,
      "outputs": []
    },
    {
      "cell_type": "markdown",
      "metadata": {
        "id": "LEfFGgH29fmQ"
      },
      "source": [
        "# Experimenting on evals"
      ]
    },
    {
      "cell_type": "code",
      "metadata": {
        "id": "43F2aHtT9BOn"
      },
      "source": [
        "def plot_confusion_matrix(cm, classes,\n",
        "                          normalize=False,\n",
        "                          title='Confusion matrix',\n",
        "                          cmap=plt.cm.Blues):\n",
        "  \"\"\"\n",
        "  This function prints and plots the confusion matrix.\n",
        "  Normalization can be applied by setting `normalize=True`.\n",
        "  \n",
        "  if normalize:\n",
        "    cm = cm.astype('float') / cm.sum(axis=1)[:, np.newaxis]\n",
        "    print(\"Normalized confusion matrix\")\n",
        "  else:\n",
        "    print('Confusion matrix, without normalization')\n",
        "  \"\"\"\n",
        "  #print(cm)\n",
        "\n",
        "  plt.imshow(cm, interpolation='nearest', cmap=cmap)\n",
        "  plt.title(title)\n",
        "  plt.colorbar()\n",
        "  tick_marks = np.arange(len(classes))\n",
        "  plt.xticks(tick_marks, classes, rotation=45)\n",
        "  plt.yticks(tick_marks, classes)\n",
        "\n",
        "  fmt = '.2f' if normalize else 'd'\n",
        "  thresh = cm.max() / 2.\n",
        "  for i, j in itertools.product(range(cm.shape[0]), range(cm.shape[1])):\n",
        "    plt.text(j, i, format(cm[i, j], fmt),\n",
        "            horizontalalignment=\"center\",\n",
        "            color=\"white\" if cm[i, j] > thresh else \"black\")\n",
        "\n",
        "  plt.tight_layout()\n",
        "  plt.ylabel('True label')\n",
        "  plt.xlabel('Predicted label')"
      ],
      "execution_count": null,
      "outputs": []
    },
    {
      "cell_type": "code",
      "metadata": {
        "id": "MfRsmX5p9btA"
      },
      "source": [
        "from sklearn.metrics import confusion_matrix, f1_score, classification_report\n",
        "from sklearn.metrics import recall_score, precision_score, accuracy_score\n",
        "import seaborn as sns #visualization library, must be imported before all other plotting libraries\n",
        "import matplotlib.pyplot as plt"
      ],
      "execution_count": null,
      "outputs": []
    },
    {
      "cell_type": "code",
      "metadata": {
        "id": "AEj-z5XN9h98",
        "colab": {
          "base_uri": "https://localhost:8080/"
        },
        "outputId": "ed869c85-9a00-4898-ecb3-5b2fbde850c3"
      },
      "source": [
        "from collections import Counter\n",
        "Counter(y)"
      ],
      "execution_count": null,
      "outputs": [
        {
          "output_type": "execute_result",
          "data": {
            "text/plain": [
              "Counter({'flu': 451,\n",
              "         'gac': 637,\n",
              "         'org': 682,\n",
              "         'pia': 721,\n",
              "         'tru': 577,\n",
              "         'voi': 778})"
            ]
          },
          "metadata": {
            "tags": []
          },
          "execution_count": 27
        }
      ]
    },
    {
      "cell_type": "code",
      "metadata": {
        "id": "_ugCGtuG9vvP"
      },
      "source": [
        "def plot_confusion_matrix(cnf_matrix):\n",
        "  df_cm = pd.DataFrame(cnf_matrix, index=INSTRUMENTS, columns=INSTRUMENTS)\n",
        "  plt.figure(figsize = (10,7))\n",
        "  sns.set(font_scale=1.0) #for label size\n",
        "  sns.heatmap(df_cm, annot=True, annot_kws={'size': 18}, fmt='g') # font size\n",
        "  plt.show()\n",
        "\n",
        "def display_score(y_test, y_pred):\n",
        "  print('Recall: ', recall_score(y_test, y_pred, average=None))\n",
        "  print('Precision: ', precision_score(y_test, y_pred, average=None))\n",
        "  print('F1-Score: ', f1_score(y_test, y_pred, average=None))\n",
        "  print('Accuracy: %.2f ' % accuracy_score(y_test, y_pred, normalize=True))\n",
        "  print('Number of samples: ', y_test.shape[0])\n",
        "\n"
      ],
      "execution_count": null,
      "outputs": []
    },
    {
      "cell_type": "code",
      "metadata": {
        "id": "7GDRM6G2CWWv"
      },
      "source": [
        "y_pred = model.predict(X_test)\n",
        "y_pred_cat = np.argmax(y_pred, axis=1)"
      ],
      "execution_count": null,
      "outputs": []
    },
    {
      "cell_type": "code",
      "metadata": {
        "colab": {
          "base_uri": "https://localhost:8080/"
        },
        "id": "7thUi-xmCoVv",
        "outputId": "203509b2-f56a-491d-ff7e-19972043e0cc"
      },
      "source": [
        "display_score(y_test, y_pred_cat)"
      ],
      "execution_count": null,
      "outputs": [
        {
          "output_type": "stream",
          "text": [
            "Recall:  [0.69230769 0.71681416 0.86725664 0.87128713 0.72093023 0.78787879]\n",
            "Precision:  [0.69230769 0.87096774 0.66216216 0.72727273 0.95384615 0.91764706]\n",
            "F1-Score:  [0.69230769 0.78640777 0.75095785 0.79279279 0.82119205 0.84782609]\n",
            "Accuracy: 0.78 \n",
            "Number of samples:  577\n"
          ],
          "name": "stdout"
        }
      ]
    },
    {
      "cell_type": "code",
      "metadata": {
        "colab": {
          "base_uri": "https://localhost:8080/",
          "height": 431
        },
        "id": "eSgnFg3mCtG5",
        "outputId": "739a4e9a-1f84-4d74-def3-67eb91697aff"
      },
      "source": [
        "cnf_matrix = confusion_matrix(y_test, y_pred_cat)\n",
        "plot_confusion_matrix(cnf_matrix)  "
      ],
      "execution_count": null,
      "outputs": [
        {
          "output_type": "display_data",
          "data": {
            "image/png": "[encoded data removed]",
            "text/plain": [
              "<Figure size 720x504 with 2 Axes>"
            ]
          },
          "metadata": {
            "tags": [],
            "needs_background": "light"
          }
        }
      ]
    },
    {
      "cell_type": "code",
      "metadata": {
        "id": "orD1Me15DleY"
      },
      "source": [
        ""
      ],
      "execution_count": null,
      "outputs": []
    }
  ]
}